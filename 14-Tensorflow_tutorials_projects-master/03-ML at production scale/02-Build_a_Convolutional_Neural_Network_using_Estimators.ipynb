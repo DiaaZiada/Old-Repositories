{
  "nbformat": 4,
  "nbformat_minor": 0,
  "metadata": {
    "colab": {
      "name": " Build_a_Convolutional_Neural_Network_using_Estimators.ipynb",
      "version": "0.3.2",
      "provenance": [],
      "collapsed_sections": []
    },
    "kernelspec": {
      "name": "python3",
      "display_name": "Python 3"
    }
  },
  "cells": [
    {
      "metadata": {
        "id": "TzrJ_g01Ho2c",
        "colab_type": "text"
      },
      "cell_type": "markdown",
      "source": [
        "# Build a Convolutional Neural Network using Estimators\n",
        "\n",
        "The [tf.layers](https://www.tensorflow.org/api_docs/python/tf/layers) module provides a high-level API that makes it easy to construct a neural network. It provides methods that facilitate the creation of dense (fully connected) layers and convolutional layers, adding activation functions, and applying dropout regularization. In this tutorial, you'll learn how to use layers to build a convolutional neural network model to recognize the handwritten digits in the MNIST data set.\n",
        "\n",
        "![](https://www.tensorflow.org/images/mnist_0-9.png)\n",
        "\n",
        "**The [MNIST dataset](http://yann.lecun.com/exdb/mnist/) comprises 60,000 training examples and 10,000 test examples of the handwritten digits 0–9, formatted as 28x28-pixel monochrome images.**"
      ]
    },
    {
      "metadata": {
        "id": "3tSIKYq0Ty1t",
        "colab_type": "text"
      },
      "cell_type": "markdown",
      "source": [
        "# Getting Started\n",
        "Let's set up the skeleton for our TensorFlow program. Create a file called cnn_mnist.py, and add the following code:"
      ]
    },
    {
      "metadata": {
        "id": "mJejqzYfHfiZ",
        "colab_type": "code",
        "colab": {
          "base_uri": "https://localhost:8080/",
          "height": 165
        },
        "outputId": "34d89f26-563c-4692-b618-3117ed1ad49e"
      },
      "cell_type": "code",
      "source": [
        "from __future__ import absolute_import\n",
        "from __future__ import division\n",
        "from __future__ import print_function\n",
        "\n",
        "# Imports\n",
        "import numpy as np\n",
        "import tensorflow as tf\n",
        "\n",
        "flags = tf.app.flags\n",
        "FLAGS = flags.FLAGS  \n",
        "\n",
        "tf.logging.set_verbosity(tf.logging.INFO)\n",
        "\n",
        "# Our application logic will be added here\n",
        "\n",
        "\n",
        "def main(args):\n",
        "    flags.DEFINE_string('name', None,\n",
        "                        'Append a name Tag to run.')\n",
        "\n",
        "    flags.DEFINE_string('hypes', 'hypes/medseg.json',\n",
        "                        'File storing model parameters.')\n",
        "    \n",
        "if __name__ == \"__main__\":\n",
        "  tf.app.run()"
      ],
      "execution_count": 7,
      "outputs": [
        {
          "output_type": "error",
          "ename": "SystemExit",
          "evalue": "ignored",
          "traceback": [
            "An exception has occurred, use %tb to see the full traceback.\n",
            "\u001b[0;31mSystemExit\u001b[0m\n"
          ]
        },
        {
          "output_type": "stream",
          "text": [
            "/usr/local/lib/python3.6/dist-packages/IPython/core/interactiveshell.py:2890: UserWarning: To exit: use 'exit', 'quit', or Ctrl-D.\n",
            "  warn(\"To exit: use 'exit', 'quit', or Ctrl-D.\", stacklevel=1)\n"
          ],
          "name": "stderr"
        }
      ]
    },
    {
      "metadata": {
        "id": "MIow75OlUh1Q",
        "colab_type": "text"
      },
      "cell_type": "markdown",
      "source": [
        "As you work through the tutorial, you'll add code to construct, train, and evaluate the convolutional neural network. The complete, final code can be [found here](https://www.github.com/tensorflow/tensorflow/blob/master/tensorflow/examples/tutorials/layers/cnn_mnist.py).\n",
        "\n"
      ]
    },
    {
      "metadata": {
        "id": "rK74LcRYUqzh",
        "colab_type": "text"
      },
      "cell_type": "markdown",
      "source": [
        "# Intro to Convolutional Neural Networks\n",
        "Convolutional neural networks (CNNs) are the current state-of-the-art model architecture for image classification tasks. CNNs apply a series of filters to the raw pixel data of an image to extract and learn higher-level features, which the model can then use for classification. CNNs contains three components:\n",
        "\n",
        "* **Convolutional layers**, which apply a specified number of convolution filters to the image. For each subregion, the layer performs a set of mathematical operations to produce a single value in the output feature map. Convolutional layers then typically apply a [ReLU activation function](https://en.wikipedia.org/wiki/Rectifier_(neural_networks)) to the output to introduce nonlinearities into the model.\n",
        "\n",
        "* **Pooling layers**, which [downsample the image data](https://en.wikipedia.org/wiki/Convolutional_neural_network#Pooling_layer) extracted by the convolutional layers to reduce the dimensionality of the feature map in order to decrease processing time. A commonly used pooling algorithm is max pooling, which extracts subregions of the feature map (e.g., 2x2-pixel tiles), keeps their maximum value, and discards all other values.\n",
        "\n",
        "* **Dense (fully connected) layers**, which perform classification on the features extracted by the convolutional layers and downsampled by the pooling layers. In a dense layer, every node in the layer is connected to every node in the preceding layer.\n",
        "\n",
        "Typically, a CNN is composed of a stack of convolutional modules that perform feature extraction. Each module consists of a convolutional layer followed by a pooling layer. The last convolutional module is followed by one or more dense layers that perform classification. The final dense layer in a CNN contains a single node for each target class in the model (all the possible classes the model may predict), with a [softmax](https://en.wikipedia.org/wiki/Softmax_function) activation function to generate a value between 0–1 for each node (the sum of all these softmax values is equal to 1). We can interpret the softmax values for a given image as relative measurements of how likely it is that the image falls into each target class.\n",
        "\n",
        "\n",
        "---\n",
        "\n",
        "\n",
        "Note: For a more comprehensive walkthrough of CNN architecture, see Stanford University's [Convolutional Neural Networks for Visual Recognition course materials](https://cs231n.github.io/convolutional-networks/)."
      ]
    },
    {
      "metadata": {
        "id": "3WWTzz8NW88Z",
        "colab_type": "text"
      },
      "cell_type": "markdown",
      "source": [
        "# Building the CNN MNIST Classifier\n",
        "Let's build a model to classify the images in the MNIST dataset using the following CNN architecture:\n",
        "\n",
        "1. **Convolutional Layer #1**: Applies 32 5x5 filters (extracting 5x5-pixel subregions), with ReLU activation function\n",
        "2. **Pooling Layer #1**: Performs max pooling with a 2x2 filter and stride of 2 (which specifies that pooled regions do not overlap)\n",
        "3. **Convolutional Layer #2**: Applies 64 5x5 filters, with ReLU activation function\n",
        "4. **Pooling Layer #2**: Again, performs max pooling with a 2x2 filter and stride of 2\n",
        "5. **Dense Layer #1**: 1,024 neurons, with dropout regularization rate of 0.4 (probability of 0.4 that any given element will be dropped during training)\n",
        "6. **Dense Layer #2 (Logits Layer)**: 10 neurons, one for each digit target class (0–9).\n",
        "\n",
        "The [tf.layers](https://www.tensorflow.org/api_docs/python/tf/layers) module contains methods to create each of the three layer types above:\n",
        "\n",
        "* `conv2d()`. Constructs a two-dimensional convolutional layer. Takes number of filters, filter kernel size, padding, and activation function as arguments.\n",
        "* `max_pooling2d()`. Constructs a two-dimensional pooling layer using the max-pooling algorithm. Takes pooling filter size and stride as arguments.\n",
        "* `dense()`. Constructs a dense layer. Takes number of neurons and activation function as arguments.\n",
        "\n",
        "Each of these methods accepts a tensor as input and returns a transformed tensor as output. This makes it easy to connect one layer to another: just take the output from one layer-creation method and supply it as input to another.\n",
        "\n",
        "Open `cnn_mnist.py` and add the following `cnn_model_fn` function, which conforms to the interface expected by TensorFlow's Estimator API (more on this later in [Create the Estimator](https://www.tensorflow.org/tutorials/estimators/cnn#create_the_estimator)). cnn_mnist.py takes MNIST feature data, labels, and mode (from [tf.estimator.ModeKeys](https://www.tensorflow.org/api_docs/python/tf/estimator/ModeKeys): `TRAIN`, `EVAL`, `PREDICT`) as arguments; configures the CNN; and returns predictions, loss, and a training operation:"
      ]
    },
    {
      "metadata": {
        "id": "I1XOjQ86UEUp",
        "colab_type": "code",
        "colab": {}
      },
      "cell_type": "code",
      "source": [
        "def cnn_model_fn(features, labels, mode):\n",
        "  \"\"\"Model function for CNN.\"\"\"\n",
        "  # Input Layer\n",
        "  input_layer = tf.reshape(features[\"x\"], [-1, 28, 28, 1])\n",
        "\n",
        "  # Convolutional Layer #1\n",
        "  conv1 = tf.layers.conv2d(\n",
        "      inputs=input_layer,\n",
        "      filters=32,\n",
        "      kernel_size=[5, 5],\n",
        "      padding=\"same\",\n",
        "      activation=tf.nn.relu)\n",
        "\n",
        "  # Pooling Layer #1\n",
        "  pool1 = tf.layers.max_pooling2d(inputs=conv1, pool_size=[2, 2], strides=2)\n",
        "\n",
        "  # Convolutional Layer #2 and Pooling Layer #2\n",
        "  conv2 = tf.layers.conv2d(\n",
        "      inputs=pool1,\n",
        "      filters=64,\n",
        "      kernel_size=[5, 5],\n",
        "      padding=\"same\",\n",
        "      activation=tf.nn.relu)\n",
        "  pool2 = tf.layers.max_pooling2d(inputs=conv2, pool_size=[2, 2], strides=2)\n",
        "\n",
        "  # Dense Layer\n",
        "  pool2_flat = tf.reshape(pool2, [-1, 7 * 7 * 64])\n",
        "  dense = tf.layers.dense(inputs=pool2_flat, units=1024, activation=tf.nn.relu)\n",
        "  dropout = tf.layers.dropout(\n",
        "      inputs=dense, rate=0.4, training=mode == tf.estimator.ModeKeys.TRAIN)\n",
        "\n",
        "  # Logits Layer\n",
        "  logits = tf.layers.dense(inputs=dropout, units=10)\n",
        "\n",
        "  predictions = {\n",
        "      # Generate predictions (for PREDICT and EVAL mode)\n",
        "      \"classes\": tf.argmax(input=logits, axis=1),\n",
        "      # Add `softmax_tensor` to the graph. It is used for PREDICT and by the\n",
        "      # `logging_hook`.\n",
        "      \"probabilities\": tf.nn.softmax(logits, name=\"softmax_tensor\")\n",
        "  }\n",
        "\n",
        "  if mode == tf.estimator.ModeKeys.PREDICT:\n",
        "    return tf.estimator.EstimatorSpec(mode=mode, predictions=predictions)\n",
        "\n",
        "  # Calculate Loss (for both TRAIN and EVAL modes)\n",
        "  loss = tf.losses.sparse_softmax_cross_entropy(labels=labels, logits=logits)\n",
        "\n",
        "  # Configure the Training Op (for TRAIN mode)\n",
        "  if mode == tf.estimator.ModeKeys.TRAIN:\n",
        "    optimizer = tf.train.GradientDescentOptimizer(learning_rate=0.001)\n",
        "    train_op = optimizer.minimize(\n",
        "        loss=loss,\n",
        "        global_step=tf.train.get_global_step())\n",
        "    return tf.estimator.EstimatorSpec(mode=mode, loss=loss, train_op=train_op)\n",
        "\n",
        "  # Add evaluation metrics (for EVAL mode)\n",
        "  eval_metric_ops = {\n",
        "      \"accuracy\": tf.metrics.accuracy(\n",
        "          labels=labels, predictions=predictions[\"classes\"])}\n",
        "  return tf.estimator.EstimatorSpec(\n",
        "      mode=mode, loss=loss, eval_metric_ops=eval_metric_ops)"
      ],
      "execution_count": 0,
      "outputs": []
    },
    {
      "metadata": {
        "id": "i8oa8dGOb04F",
        "colab_type": "text"
      },
      "cell_type": "markdown",
      "source": [
        "The following sections (with headings corresponding to each code block above) dive deeper into the [tf.layers](https://www.tensorflow.org/api_docs/python/tf/layers) code used to create each layer, as well as how to calculate loss, configure the training op, and generate predictions. If you're already experienced with CNNs and [TensorFlow Estimators](https://www.tensorflow.org/guide/custom_estimators), and find the above code intuitive, you may want to skim these sections or just skip ahead to \"[Training and Evaluating the CNN MNIST Classifier](https://www.tensorflow.org/tutorials/estimators/cnn#train_eval_mnist)\".\n",
        "\n",
        "### Input Layer\n",
        "The methods in the `layers` module for creating convolutional and pooling layers for two-dimensional image data expect input tensors to have a shape of `[batch_size, image_height, image_width, channels]` by default. This behavior can be changed using the `data_format` parameter; defined as follows:\n",
        "\n",
        "* `batch_size`. Size of the subset of examples to use when performing gradient descent during training.\n",
        "image_height. Height of the example images.\n",
        "* `image_width`. Width of the example images.\n",
        "* `channels`. Number of color channels in the example images. For color images, the number of channels is 3 (red, green, blue). For monochrome images, there is just 1 channel (black).\n",
        "* `data_format`. A string, one of `channels_last` (default) or `channels_first`. `channels_last` corresponds to inputs with shape (`batch, ..., channels`) while `channels_first` corresponds to inputs with shape (`batch, channels, ...`).\n",
        "\n",
        "Here, our MNIST dataset is composed of monochrome 28x28 pixel images, so the desired shape for our input layer is `[batch_size, 28, 28, 1]`.\n",
        "\n",
        "To convert our input feature map (`features`) to this shape, we can perform the following `reshape` operation:"
      ]
    },
    {
      "metadata": {
        "id": "vFo2j_6BdgzF",
        "colab_type": "code",
        "colab": {}
      },
      "cell_type": "code",
      "source": [
        "input_layer = tf.reshape(features[\"x\"], [-1, 28, 28, 1])"
      ],
      "execution_count": 0,
      "outputs": []
    },
    {
      "metadata": {
        "id": "LCNZX6oScyVc",
        "colab_type": "text"
      },
      "cell_type": "markdown",
      "source": [
        "Note that we've indicated `-1` for batch size, which specifies that this dimension should be dynamically computed based on the number of input values in `features[\"x\"]`, holding the size of all other dimensions constant. This allows us to treat `batch_size` as a hyperparameter that we can tune. For example, if we feed examples into our model in batches of 5, `features[\"x\"] `will contain 3,920 values (one value for each pixel in each image), and `input_layer` will have a shape of `[5, 28, 28, 1]`. Similarly, if we feed examples in batches of 100, `features[\"x\"]` will contain 78,400 values, and `input_layer` will have a shape of `*[100, 28, 28, 1]*`.\n",
        "\n"
      ]
    },
    {
      "metadata": {
        "id": "TKSGW3a1dXwq",
        "colab_type": "text"
      },
      "cell_type": "markdown",
      "source": [
        "### Convolutional Layer #1\n",
        "In our first convolutional layer, we want to apply 32 5x5 filters to the input layer, with a ReLU activation function. We can use the `conv2d()` method in the `layers` module to create this layer as follows:"
      ]
    },
    {
      "metadata": {
        "id": "CuvW4I7wcuOl",
        "colab_type": "code",
        "colab": {}
      },
      "cell_type": "code",
      "source": [
        "conv1 = tf.layers.conv2d(\n",
        "    inputs=input_layer,\n",
        "    filters=32,\n",
        "    kernel_size=[5, 5],\n",
        "    padding=\"same\",\n",
        "    activation=tf.nn.relu)"
      ],
      "execution_count": 0,
      "outputs": []
    },
    {
      "metadata": {
        "id": "Oo_VSWUxdo7e",
        "colab_type": "text"
      },
      "cell_type": "markdown",
      "source": [
        "The `inputs` argument specifies our input tensor, which must have the shape [`batch_size`,` image_height`, `image_width`, `channels`]. Here, we're connecting our first convolutional layer to `input_layer`, which has the shape `[batch_size, 28, 28, 1]`.\n",
        "\n",
        "\n",
        "---\n",
        "\n",
        "**Note**: `conv2d()` will instead accept a shape of `[batch_size, channels, image_height, image_width]` when passed the argument `data_format=channels_first`.\n",
        "\n",
        "\n",
        "\n",
        "---\n",
        "\n",
        "The filters argument specifies the number of filters to apply (here, 32), and kernel_size specifies the dimensions of the filters as [height, width] (here, [5, 5]).\n",
        "\n",
        "TIP: If filter height and width have the same value, you can instead specify a single integer for kernel_size—e.g., kernel_size=5.\n",
        "\n",
        "The padding argument specifies one of two enumerated values (case-insensitive): valid (default value) or same. To specify that the output tensor should have the same height and width values as the input tensor, we set padding=same here, which instructs TensorFlow to add 0 values to the edges of the input tensor to preserve height and width of 28. (Without padding, a 5x5 convolution over a 28x28 tensor will produce a 24x24 tensor, as there are 24x24 locations to extract a 5x5 tile from a 28x28 grid.)\n",
        "\n",
        "The activation argument specifies the activation function to apply to the output of the convolution. Here, we specify ReLU activation with tf.nn.relu.\n",
        "\n",
        "Our output tensor produced by conv2d() has a shape of [batch_size, 28, 28, 32]: the same height and width dimensions as the input, but now with 32 channels holding the output from each of the filters.\n",
        "\n"
      ]
    },
    {
      "metadata": {
        "id": "0aJSWbnsfTTv",
        "colab_type": "text"
      },
      "cell_type": "markdown",
      "source": [
        "### Pooling Layer #1\n",
        "Next, we connect our first pooling layer to the convolutional layer we just created. We can use the max_pooling2d() method in layers to construct a layer that performs max pooling with a 2x2 filter and stride of 2:"
      ]
    },
    {
      "metadata": {
        "id": "aaOgMYwQd15u",
        "colab_type": "code",
        "colab": {}
      },
      "cell_type": "code",
      "source": [
        "pool1 = tf.layers.max_pooling2d(inputs=conv1, pool_size=[2, 2], strides=2)"
      ],
      "execution_count": 0,
      "outputs": []
    },
    {
      "metadata": {
        "id": "RHNxMR0BfgfB",
        "colab_type": "text"
      },
      "cell_type": "markdown",
      "source": [
        "Again, inputs specifies the input tensor, with a shape of [batch_size, image_height, image_width, channels]. Here, our input tensor is conv1, the output from the first convolutional layer, which has a shape of [batch_size, 28, 28, 32].\n",
        "\n",
        "\n",
        "\n",
        "---\n",
        "\n",
        "**Note**: As with conv2d(), max_pooling2d() will instead accept a shape of [batch_size, channels, image_height, image_width] when passed the argument data_format=channels_first.\n",
        "\n",
        "\n",
        "---\n",
        "\n",
        "The pool_size argument specifies the size of the max pooling filter as [height, width] (here, [2, 2]). If both dimensions have the same value, you can instead specify a single integer (e.g., pool_size=2).\n",
        "\n",
        "The strides argument specifies the size of the stride. Here, we set a stride of 2, which indicates that the subregions extracted by the filter should be separated by 2 pixels in both the height and width dimensions (for a 2x2 filter, this means that none of the regions extracted will overlap). If you want to set different stride values for height and width, you can instead specify a tuple or list (e.g., stride=[3, 6]).\n",
        "\n",
        "Our output tensor produced by max_pooling2d() (pool1) has a shape of [batch_size, 14, 14, 32]: the 2x2 filter reduces height and width by 50% each.\n",
        "\n"
      ]
    },
    {
      "metadata": {
        "id": "-HxjJeMFgYnI",
        "colab_type": "text"
      },
      "cell_type": "markdown",
      "source": [
        "### Convolutional Layer #2 and Pooling Layer #2\n",
        "We can connect a second convolutional and pooling layer to our CNN using conv2d() and max_pooling2d() as before. For convolutional layer #2, we configure 64 5x5 filters with ReLU activation, and for pooling layer #2, we use the same specs as pooling layer #1 (a 2x2 max pooling filter with stride of 2):"
      ]
    },
    {
      "metadata": {
        "id": "RVGjw5C-ftWO",
        "colab_type": "code",
        "colab": {}
      },
      "cell_type": "code",
      "source": [
        "conv2 = tf.layers.conv2d(\n",
        "    inputs=pool1,\n",
        "    filters=64,\n",
        "    kernel_size=[5, 5],\n",
        "    padding=\"same\",\n",
        "    activation=tf.nn.relu)\n",
        "\n",
        "pool2 = tf.layers.max_pooling2d(inputs=conv2, pool_size=[2, 2], strides=2)"
      ],
      "execution_count": 0,
      "outputs": []
    },
    {
      "metadata": {
        "id": "OZRiMgIBgkkN",
        "colab_type": "text"
      },
      "cell_type": "markdown",
      "source": [
        "Note that convolutional layer #2 takes the output tensor of our first pooling layer (pool1) as input, and produces the tensor conv2 as output. conv2 has a shape of [batch_size, 14, 14, 64], the same height and width as pool1 (due to padding=\"same\"), and 64 channels for the 64 filters applied.\n",
        "\n",
        "Pooling layer #2 takes conv2 as input, producing pool2 as output. pool2 has shape [batch_size, 7, 7, 64] (50% reduction of height and width from conv2).\n",
        "\n"
      ]
    },
    {
      "metadata": {
        "id": "rG7grko1kdjh",
        "colab_type": "text"
      },
      "cell_type": "markdown",
      "source": [
        "### Dense Layer\n",
        "Next, we want to add a dense layer (with 1,024 neurons and ReLU activation) to our CNN to perform classification on the features extracted by the convolution/pooling layers. Before we connect the layer, however, we'll flatten our feature map (pool2) to shape [batch_size, features], so that our tensor has only two dimensions:"
      ]
    },
    {
      "metadata": {
        "id": "4Hmtkqe5kOzt",
        "colab_type": "code",
        "colab": {}
      },
      "cell_type": "code",
      "source": [
        "pool2_flat = tf.reshape(pool2, [-1, 7 * 7 * 64])"
      ],
      "execution_count": 0,
      "outputs": []
    },
    {
      "metadata": {
        "id": "uTDHKjBMkts6",
        "colab_type": "text"
      },
      "cell_type": "markdown",
      "source": [
        "In the reshape() operation above, the -1 signifies that the batch_size dimension will be dynamically calculated based on the number of examples in our input data. Each example has 7 (pool2 height) * 7 (pool2 width) * 64 (pool2 channels) features, so we want the features dimension to have a value of 7 * 7 * 64 (3136 in total). The output tensor, pool2_flat, has shape [batch_size, 3136].\n",
        "\n",
        "\n",
        "Now, we can use the dense() method in layers to connect our dense layer as follows:\n",
        "\n"
      ]
    },
    {
      "metadata": {
        "id": "YTMo3WM4k-In",
        "colab_type": "code",
        "colab": {}
      },
      "cell_type": "code",
      "source": [
        "dense = tf.layers.dense(inputs=pool2_flat, units=1024, activation=tf.nn.relu)"
      ],
      "execution_count": 0,
      "outputs": []
    },
    {
      "metadata": {
        "id": "d3MneYA4lVLF",
        "colab_type": "text"
      },
      "cell_type": "markdown",
      "source": [
        "The inputs argument specifies the input tensor: our flattened feature map, pool2_flat. The units argument specifies the number of neurons in the dense layer (1,024). The activation argument takes the activation function; again, we'll use tf.nn.relu to add ReLU activation.\n",
        "\n",
        "\n",
        "To help improve the results of our model, we also apply dropout regularization to our dense layer, using the dropout method in layers:\n",
        "\n",
        "\n"
      ]
    },
    {
      "metadata": {
        "id": "8M2RoOVQlNo6",
        "colab_type": "code",
        "colab": {}
      },
      "cell_type": "code",
      "source": [
        "dropout = tf.layers.dropout(\n",
        "    inputs=dense, rate=0.4, training=mode == tf.estimator.ModeKeys.TRAIN)"
      ],
      "execution_count": 0,
      "outputs": []
    },
    {
      "metadata": {
        "id": "yQexZTA1m3f8",
        "colab_type": "text"
      },
      "cell_type": "markdown",
      "source": [
        "Again, inputs specifies the input tensor, which is the output tensor from our dense layer (dense).\n",
        "\n",
        "The rate argument specifies the dropout rate; here, we use 0.4, which means 40% of the elements will be randomly dropped out during training.\n",
        "\n",
        "The training argument takes a boolean specifying whether or not the model is currently being run in training mode; dropout will only be performed if training is True. Here, we check if the mode passed to our model function cnn_model_fn is TRAIN mode.\n",
        "\n",
        "Our output tensor dropout has shape [batch_size, 1024]."
      ]
    },
    {
      "metadata": {
        "id": "ARDwo8hQn2Um",
        "colab_type": "text"
      },
      "cell_type": "markdown",
      "source": [
        "### Logits Layer\n",
        "The final layer in our neural network is the logits layer, which will return the raw values for our predictions. We create a dense layer with 10 neurons (one for each target class 0–9), with linear activation (the default):"
      ]
    },
    {
      "metadata": {
        "id": "cGhqVA7cnRv9",
        "colab_type": "code",
        "colab": {}
      },
      "cell_type": "code",
      "source": [
        "logits = tf.layers.dense(inputs=dropout, units=10)"
      ],
      "execution_count": 0,
      "outputs": []
    },
    {
      "metadata": {
        "id": "ctSEeOjSn-Am",
        "colab_type": "text"
      },
      "cell_type": "markdown",
      "source": [
        "Our final output tensor of the CNN, logits, has shape [batch_size, 10].\n",
        "\n",
        "\n",
        "\n",
        "### Generate Predictions\n",
        "The logits layer of our model returns our predictions as raw values in a [batch_size, 10]-dimensional tensor. Let's convert these raw values into two different formats that our model function can return:\n",
        "\n",
        "* The predicted class for each example: a digit from 0–9.\n",
        "* The probabilities for each possible target class for each example: the probability that the example is a 0, is a 1, is a 2, etc.\n",
        "\n",
        "For a given example, our predicted class is the element in the corresponding row of the logits tensor with the highest raw value. We can find the index of this element using the tf.argmax function:\n",
        "\n",
        "\n",
        "\n"
      ]
    },
    {
      "metadata": {
        "id": "_nmcO_s0n_XK",
        "colab_type": "code",
        "colab": {}
      },
      "cell_type": "code",
      "source": [
        "tf.argmax(input=logits, axis=1)"
      ],
      "execution_count": 0,
      "outputs": []
    },
    {
      "metadata": {
        "id": "N7akKvVEqeba",
        "colab_type": "text"
      },
      "cell_type": "markdown",
      "source": [
        "The input argument specifies the tensor from which to extract maximum values—here logits. The axis argument specifies the axis of the input tensor along which to find the greatest value. Here, we want to find the largest value along the dimension with index of 1, which corresponds to our predictions (recall that our logits tensor has shape [batch_size, 10]).\n",
        "\n",
        "\n",
        "We can derive probabilities from our logits layer by applying softmax activation using tf.nn.softmax:\n",
        "\n"
      ]
    },
    {
      "metadata": {
        "id": "WR-fOwUaqh1w",
        "colab_type": "code",
        "colab": {}
      },
      "cell_type": "code",
      "source": [
        "tf.nn.softmax(logits, name=\"softmax_tensor\")"
      ],
      "execution_count": 0,
      "outputs": []
    },
    {
      "metadata": {
        "id": "LHzaZYW4qxF7",
        "colab_type": "text"
      },
      "cell_type": "markdown",
      "source": [
        "**Note**: We use the name argument to explicitly name this operation softmax_tensor, so we can reference it later. (We'll set up logging for the softmax values in \"[Set Up a Logging Hook](https://www.tensorflow.org/tutorials/estimators/cnn#set_up_a_logging_hook)\").\n",
        "\n",
        "\n",
        "\n",
        "---\n",
        "\n",
        "\n",
        "We compile our predictions in a dict, and return an EstimatorSpec object:\n",
        "\n",
        "\n"
      ]
    },
    {
      "metadata": {
        "id": "Tm-5FCkcq0Bu",
        "colab_type": "code",
        "colab": {}
      },
      "cell_type": "code",
      "source": [
        "predictions = {\n",
        "    \"classes\": tf.argmax(input=logits, axis=1),\n",
        "    \"probabilities\": tf.nn.softmax(logits, name=\"softmax_tensor\")\n",
        "}\n",
        "if mode == tf.estimator.ModeKeys.PREDICT:\n",
        "  return tf.estimator.EstimatorSpec(mode=mode, predictions=predictions)"
      ],
      "execution_count": 0,
      "outputs": []
    },
    {
      "metadata": {
        "id": "B3woFYmSrZjE",
        "colab_type": "text"
      },
      "cell_type": "markdown",
      "source": [
        "### Calculate Loss\n",
        "For both training and evaluation, we need to define a [loss function](https://en.wikipedia.org/wiki/Loss_function) that measures how closely the model's predictions match the target classes. For multiclass classification problems like MNIST, [cross entropy](https://en.wikipedia.org/wiki/Cross_entropy) is typically used as the loss metric. The following code calculates cross entropy when the model runs in either TRAIN or EVAL mode:"
      ]
    },
    {
      "metadata": {
        "id": "2YnlHIWvrfqV",
        "colab_type": "code",
        "colab": {}
      },
      "cell_type": "code",
      "source": [
        "loss = tf.losses.sparse_softmax_cross_entropy(labels=labels, logits=logits)"
      ],
      "execution_count": 0,
      "outputs": []
    },
    {
      "metadata": {
        "id": "G6PKxSM0r0BF",
        "colab_type": "text"
      },
      "cell_type": "markdown",
      "source": [
        "Let's take a closer look at what's happening above.\n",
        "\n",
        "Our labels tensor contains a list of prediction indices for our examples, e.g. [1, 9, ...]. logits contains the linear outputs of our last layer.\n",
        "\n",
        "[tf.losses.sparse_softmax_cross_entropy](https://www.tensorflow.org/api_docs/python/tf/losses/sparse_softmax_cross_entropy), calculates the softmax crossentropy (aka: categorical crossentropy, negative log-likelihood) from these two inputs in an efficient, numerically stable way.\n",
        "\n",
        "### Configure the Training Op\n",
        "In the previous section, we defined loss for our CNN as the softmax cross-entropy of the logits layer and our labels. Let's configure our model to optimize this loss value during training. We'll use a learning rate of 0.001 and [stochastic gradient descent](https://en.wikipedia.org/wiki/Stochastic_gradient_descent) as the optimization algorithm:"
      ]
    },
    {
      "metadata": {
        "id": "_LdSgKFSr66K",
        "colab_type": "code",
        "colab": {}
      },
      "cell_type": "code",
      "source": [
        "if mode == tf.estimator.ModeKeys.TRAIN:\n",
        "  optimizer = tf.train.GradientDescentOptimizer(learning_rate=0.001)\n",
        "  train_op = optimizer.minimize(\n",
        "      loss=loss,\n",
        "      global_step=tf.train.get_global_step())\n",
        "  return tf.estimator.EstimatorSpec(mode=mode, loss=loss, train_op=train_op)"
      ],
      "execution_count": 0,
      "outputs": []
    },
    {
      "metadata": {
        "id": "cLWk1_IssQTg",
        "colab_type": "text"
      },
      "cell_type": "markdown",
      "source": [
        "**Note**: For a more in-depth look at configuring training ops for Estimator model functions, see \"[Defining the training op for the model](https://www.tensorflow.org/guide/custom_estimators#defining-the-training-op-for-the-model)\" in the \"[Creating Estimations in tf.estimator](https://www.tensorflow.org/guide/custom_estimators)\" tutorial.\n",
        "\n",
        "\n",
        "---\n",
        "\n",
        "### Add evaluation metrics\n",
        "To add accuracy metric in our model, we define eval_metric_ops dict in EVAL mode as follows:"
      ]
    },
    {
      "metadata": {
        "id": "DofqMYpxsWlR",
        "colab_type": "code",
        "colab": {}
      },
      "cell_type": "code",
      "source": [
        "eval_metric_ops = {\n",
        "    \"accuracy\": tf.metrics.accuracy(\n",
        "        labels=labels, predictions=predictions[\"classes\"])}\n",
        "return tf.estimator.EstimatorSpec(\n",
        "    mode=mode, loss=loss, eval_metric_ops=eval_metric_ops)"
      ],
      "execution_count": 0,
      "outputs": []
    },
    {
      "metadata": {
        "id": "ZtyHlYY_snpa",
        "colab_type": "text"
      },
      "cell_type": "markdown",
      "source": [
        "# Training and Evaluating the CNN MNIST Classifier\n",
        "We've coded our MNIST CNN model function; now we're ready to train and evaluate it.\n",
        "\n",
        "### Load Training and Test Data\n",
        "First, let's load our training and test data. Add a main() function to cnn_mnist.py with the following code:\n",
        "\n"
      ]
    },
    {
      "metadata": {
        "id": "TyKBuzF3srTv",
        "colab_type": "code",
        "colab": {}
      },
      "cell_type": "code",
      "source": [
        "def main(unused_argv):\n",
        "  # Load training and eval data\n",
        "  mnist = tf.contrib.learn.datasets.load_dataset(\"mnist\")\n",
        "  train_data = mnist.train.images # Returns np.array\n",
        "  train_labels = np.asarray(mnist.train.labels, dtype=np.int32)\n",
        "  eval_data = mnist.test.images # Returns np.array\n",
        "  eval_labels = np.asarray(mnist.test.labels, dtype=np.int32)"
      ],
      "execution_count": 0,
      "outputs": []
    },
    {
      "metadata": {
        "id": "7ilr4hw9s64J",
        "colab_type": "text"
      },
      "cell_type": "markdown",
      "source": [
        "We store the training feature data (the raw pixel values for 55,000 images of hand-drawn digits) and training labels (the corresponding value from 0–9 for each image) as [numpy arrays](https://docs.scipy.org/doc/numpy/reference/generated/numpy.array.html) in train_data and train_labels, respectively. Similarly, we store the evaluation feature data (10,000 images) and evaluation labels in eval_data and eval_labels, respectively.\n",
        "\n",
        "### Create the Estimator\n",
        "Next, let's create an Estimator (a TensorFlow class for performing high-level model training, evaluation, and inference) for our model. Add the following code to main():"
      ]
    },
    {
      "metadata": {
        "id": "FIUdwg4nsy9g",
        "colab_type": "code",
        "colab": {
          "base_uri": "https://localhost:8080/",
          "height": 171
        },
        "outputId": "e83413a0-72e7-46ee-bb76-92a5217de00a"
      },
      "cell_type": "code",
      "source": [
        "# Create the Estimator\n",
        "mnist_classifier = tf.estimator.Estimator(\n",
        "    model_fn=cnn_model_fn, model_dir=\"/tmp/mnist_convnet_model\")"
      ],
      "execution_count": 10,
      "outputs": [
        {
          "output_type": "stream",
          "text": [
            "INFO:tensorflow:Using default config.\n",
            "INFO:tensorflow:Using config: {'_model_dir': '/tmp/mnist_convnet_model', '_tf_random_seed': None, '_save_summary_steps': 100, '_save_checkpoints_steps': None, '_save_checkpoints_secs': 600, '_session_config': allow_soft_placement: true\n",
            "graph_options {\n",
            "  rewrite_options {\n",
            "    meta_optimizer_iterations: ONE\n",
            "  }\n",
            "}\n",
            ", '_keep_checkpoint_max': 5, '_keep_checkpoint_every_n_hours': 10000, '_log_step_count_steps': 100, '_train_distribute': None, '_device_fn': None, '_protocol': None, '_eval_distribute': None, '_experimental_distribute': None, '_service': None, '_cluster_spec': <tensorflow.python.training.server_lib.ClusterSpec object at 0x7ff437316748>, '_task_type': 'worker', '_task_id': 0, '_global_id_in_cluster': 0, '_master': '', '_evaluation_master': '', '_is_chief': True, '_num_ps_replicas': 0, '_num_worker_replicas': 1}\n"
          ],
          "name": "stdout"
        }
      ]
    },
    {
      "metadata": {
        "id": "hQJQa2elthbZ",
        "colab_type": "text"
      },
      "cell_type": "markdown",
      "source": [
        "The model_fn argument specifies the model function to use for training, evaluation, and prediction; we pass it the cnn_model_fn we created in \"[Building the CNN MNIST Classifier](https://www.tensorflow.org/tutorials/estimators/cnn#building_the_cnn_mnist_classifier).\" The model_dir argument specifies the directory where model data (checkpoints) will be saved (here, we specify the temp directory /tmp/mnist_convnet_model, but feel free to change to another directory of your choice).\n",
        "\n",
        "\n",
        "---\n",
        "\n",
        "**Note**: For an in-depth walkthrough of the TensorFlow Estimator API, see the tutorial \"[Creating Estimators in tf.estimator](https://www.tensorflow.org/guide/custom_estimators).\"\n",
        "\n",
        "---\n",
        "\n",
        "\n",
        "\n"
      ]
    },
    {
      "metadata": {
        "id": "kpP5OhCjt7wi",
        "colab_type": "text"
      },
      "cell_type": "markdown",
      "source": [
        "### Set Up a Logging Hook\n",
        "Since CNNs can take a while to train, let's set up some logging so we can track progress during training. We can use TensorFlow's [tf.train.SessionRunHook](https://www.tensorflow.org/api_docs/python/tf/train/SessionRunHook) to create a [tf.train.LoggingTensorHook](https://www.tensorflow.org/api_docs/python/tf/train/LoggingTensorHook) that will log the probability values from the softmax layer of our CNN. Add the following to main():\n",
        "\n"
      ]
    },
    {
      "metadata": {
        "id": "mSBRadeAtfVe",
        "colab_type": "code",
        "colab": {}
      },
      "cell_type": "code",
      "source": [
        "# Set up logging for predictions\n",
        "tensors_to_log = {\"probabilities\": \"softmax_tensor\"}\n",
        "logging_hook = tf.train.LoggingTensorHook(\n",
        "    tensors=tensors_to_log, every_n_iter=50)"
      ],
      "execution_count": 0,
      "outputs": []
    },
    {
      "metadata": {
        "id": "WPQ7EfLnuOqt",
        "colab_type": "text"
      },
      "cell_type": "markdown",
      "source": [
        "We store a dict of the tensors we want to log in tensors_to_log. Each key is a label of our choice that will be printed in the log output, and the corresponding label is the name of a Tensor in the TensorFlow graph. Here, our probabilities can be found in softmax_tensor, the name we gave our softmax operation earlier when we generated the probabilities in cnn_model_fn.\n",
        "\n",
        "---\n",
        "\n",
        "**Note**: If you don't explicitly assign a name to an operation via the name argument, TensorFlow will assign a default name. A couple easy ways to discover the names applied to operations are to visualize your graph on TensorBoard) or to enable the TensorFlow Debugger (tfdbg).\n",
        "\n",
        "---\n",
        "Next, we create the LoggingTensorHook, passing tensors_to_log to the tensors argument. We set every_n_iter=50, which specifies that probabilities should be logged after every 50 steps of training.\n",
        "\n",
        "### Train the Model\n",
        "Now we're ready to train our model, which we can do by creating train_input_fn and calling train() on mnist_classifier. Add the following to main():\n"
      ]
    },
    {
      "metadata": {
        "id": "G76xRJ5UuMCs",
        "colab_type": "code",
        "colab": {}
      },
      "cell_type": "code",
      "source": [
        "# Train the model\n",
        "train_input_fn = tf.estimator.inputs.numpy_input_fn(\n",
        "    x={\"x\": train_data},\n",
        "    y=train_labels,\n",
        "    batch_size=100,\n",
        "    num_epochs=None,\n",
        "    shuffle=True)\n",
        "mnist_classifier.train(\n",
        "    input_fn=train_input_fn,\n",
        "    steps=20000,\n",
        "    hooks=[logging_hook])"
      ],
      "execution_count": 0,
      "outputs": []
    },
    {
      "metadata": {
        "id": "SKcLlMOEv3T1",
        "colab_type": "text"
      },
      "cell_type": "markdown",
      "source": [
        "In the numpy_input_fn call, we pass the training feature data and labels to x (as a dict) and y, respectively. We set a batch_size of 100 (which means that the model will train on minibatches of 100 examples at each step). num_epochs=None means that the model will train until the specified number of steps is reached. We also set shuffle=True to shuffle the training data. In the train call, we set steps=20000 (which means the model will train for 20,000 steps total). We pass our logging_hook to the hooks argument, so that it will be triggered during training.\n",
        "\n",
        "### Evaluate the Model\n",
        "Once training is complete, we want to evaluate our model to determine its accuracy on the MNIST test set. We call the evaluate method, which evaluates the metrics we specified in eval_metric_ops argument in the model_fn. Add the following to main():"
      ]
    },
    {
      "metadata": {
        "id": "onerqucAvyu8",
        "colab_type": "code",
        "colab": {}
      },
      "cell_type": "code",
      "source": [
        "# Evaluate the model and print results\n",
        "eval_input_fn = tf.estimator.inputs.numpy_input_fn(\n",
        "    x={\"x\": eval_data},\n",
        "    y=eval_labels,\n",
        "    num_epochs=1,\n",
        "    shuffle=False)\n",
        "eval_results = mnist_classifier.evaluate(input_fn=eval_input_fn)\n",
        "print(eval_results)"
      ],
      "execution_count": 0,
      "outputs": []
    },
    {
      "metadata": {
        "id": "tTPHxmWAwsEM",
        "colab_type": "text"
      },
      "cell_type": "markdown",
      "source": [
        "To create eval_input_fn, we set num_epochs=1, so that the model evaluates the metrics over one epoch of data and returns the result. We also set shuffle=False to iterate through the data sequentially.\n",
        "\n",
        "### Run the Model\n",
        "We've coded the CNN model function, Estimator, and the training/evaluation logic; now let's see the results. Run cnn_mnist.py."
      ]
    },
    {
      "metadata": {
        "id": "jlVu1QNBw-pq",
        "colab_type": "text"
      },
      "cell_type": "markdown",
      "source": [
        "**Note**: Training CNNs is quite computationally intensive. Estimated completion time of cnn_mnist.py will vary depending on your processor, but will likely be upwards of 1 hour on CPU. To train more quickly, you can decrease the number of steps passed to train(), but note that this will affect accuracy."
      ]
    },
    {
      "metadata": {
        "id": "63ODqDsxwuVT",
        "colab_type": "code",
        "colab": {}
      },
      "cell_type": "code",
      "source": [
        "INFO:tensorflow:loss = 2.36026, step = 1\n",
        "INFO:tensorflow:probabilities = [[ 0.07722801  0.08618255  0.09256398, ...]]\n",
        "...\n",
        "INFO:tensorflow:loss = 2.13119, step = 101\n",
        "INFO:tensorflow:global_step/sec: 5.44132\n",
        "...\n",
        "INFO:tensorflow:Loss for final step: 0.553216.\n",
        "\n",
        "INFO:tensorflow:Restored model from /tmp/mnist_convnet_model\n",
        "INFO:tensorflow:Eval steps [0,inf) for training step 20000.\n",
        "INFO:tensorflow:Input iterator is exhausted.\n",
        "INFO:tensorflow:Saving evaluation summary for step 20000: accuracy = 0.9733, loss = 0.0902271\n",
        "{'loss': 0.090227105, 'global_step': 20000, 'accuracy': 0.97329998}"
      ],
      "execution_count": 0,
      "outputs": []
    },
    {
      "metadata": {
        "id": "6ogww_fwxLvt",
        "colab_type": "text"
      },
      "cell_type": "markdown",
      "source": [
        "Here, we've achieved an accuracy of 97.3% on our test data set.\n",
        "\n"
      ]
    },
    {
      "metadata": {
        "id": "MQazAUp0xNrP",
        "colab_type": "text"
      },
      "cell_type": "markdown",
      "source": [
        "# Additional Resources\n",
        "To learn more about TensorFlow Estimators and CNNs in TensorFlow, see the following resources:\n",
        "\n",
        "* [Creating Estimators in tf.estimator](https://www.tensorflow.org/guide/custom_estimators) provides an introduction to the TensorFlow Estimator API. It walks through configuring an Estimator, writing a model function, calculating loss, and defining a training op.\n",
        "* [Advanced Convolutional Neural Networks](https://www.tensorflow.org/tutorials/images/deep_cnn) walks through how to build a MNIST CNN classification model without estimators using lower-level TensorFlow operations."
      ]
    },
    {
      "metadata": {
        "id": "joN47M-zxNQ1",
        "colab_type": "code",
        "colab": {}
      },
      "cell_type": "code",
      "source": [
        ""
      ],
      "execution_count": 0,
      "outputs": []
    }
  ]
}