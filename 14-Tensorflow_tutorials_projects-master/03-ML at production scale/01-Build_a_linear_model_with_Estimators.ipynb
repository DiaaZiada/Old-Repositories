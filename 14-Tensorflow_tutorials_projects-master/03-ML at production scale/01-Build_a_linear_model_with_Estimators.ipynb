{
  "nbformat": 4,
  "nbformat_minor": 0,
  "metadata": {
    "colab": {
      "name": "Build_a_linear_model_with_Estimators.ipynb",
      "version": "0.3.2",
      "provenance": [],
      "collapsed_sections": []
    },
    "kernelspec": {
      "name": "python3",
      "display_name": "Python 3"
    },
    "accelerator": "GPU"
  },
  "cells": [
    {
      "metadata": {
        "id": "b5Zbema8jpI8",
        "colab_type": "text"
      },
      "cell_type": "markdown",
      "source": [
        "# Build a linear model with Estimators\n",
        "This tutorial uses the [tf.estimator](https://www.tensorflow.org/api_docs/python/tf/estimator) API in TensorFlow to solve a benchmark binary classification problem. Estimators are TensorFlow's most scalable and production-oriented model type. For more information see the [Estimator guide](https://www.tensorflow.org/guide/estimators).\n",
        "\n"
      ]
    },
    {
      "metadata": {
        "id": "sZA0rG34lTOC",
        "colab_type": "text"
      },
      "cell_type": "markdown",
      "source": [
        "# Overview\n",
        "Using census data which contains data a person's age, education, marital status, and occupation (the features), we will try to predict whether or not the person earns more than 50,000 dollars a year (the target label). We will train a logistic regression model that, given an individual's information, outputs a number between 0 and 1—this can be interpreted as the probability that the individual has an annual income of over 50,000 dollars.\n",
        "\n",
        "\n",
        "\n",
        "---\n",
        "\n",
        "**Key Point**: As a modeler and developer, think about how this data is used and the potential benefits and harm a model's predictions can cause. A model like this could reinforce societal biases and disparities. Is each feature relevant to the problem you want to solve or will it introduce bias? For more information, read about [ML fairness](https://developers.google.com/machine-learning/fairness-overview/)."
      ]
    },
    {
      "metadata": {
        "id": "aYskbhCBmEd0",
        "colab_type": "text"
      },
      "cell_type": "markdown",
      "source": [
        "# Setup\n",
        "Import TensorFlow, feature column support, and supporting modules:"
      ]
    },
    {
      "metadata": {
        "id": "LLZYcuzpjizo",
        "colab_type": "code",
        "colab": {}
      },
      "cell_type": "code",
      "source": [
        "import tensorflow as tf\n",
        "import tensorflow.feature_column as fc \n",
        "\n",
        "import os\n",
        "import sys\n",
        "\n",
        "import matplotlib.pyplot as plt\n",
        "from IPython.display import clear_output"
      ],
      "execution_count": 0,
      "outputs": []
    },
    {
      "metadata": {
        "id": "A1IkWf1ZmREk",
        "colab_type": "text"
      },
      "cell_type": "markdown",
      "source": [
        "And let's enable [eager execution](https://www.tensorflow.org/guide/eager) to inspect this program as we run it:\n",
        "\n"
      ]
    },
    {
      "metadata": {
        "id": "dTw-8acCmPao",
        "colab_type": "code",
        "colab": {}
      },
      "cell_type": "code",
      "source": [
        "tf.enable_eager_execution()"
      ],
      "execution_count": 0,
      "outputs": []
    },
    {
      "metadata": {
        "id": "JN8x99k0maHf",
        "colab_type": "text"
      },
      "cell_type": "markdown",
      "source": [
        "# Download the official implementation\n",
        "We'll use the [wide and deep model](https://github.com/tensorflow/models/tree/master/official/wide_deep/) available in TensorFlow's [model repository](https://github.com/tensorflow/models/). Download the code, add the root directory to your Python path, and jump to the `wide_deep` directory:"
      ]
    },
    {
      "metadata": {
        "id": "ZMcVIQ4xmXK_",
        "colab_type": "code",
        "colab": {
          "base_uri": "https://localhost:8080/",
          "height": 151
        },
        "outputId": "31e77f9c-403b-4a5e-9b57-a112d33b221f"
      },
      "cell_type": "code",
      "source": [
        "! pip install -q requests\n",
        "! git clone --depth 1 https://github.com/tensorflow/models"
      ],
      "execution_count": 3,
      "outputs": [
        {
          "output_type": "stream",
          "text": [
            "Cloning into 'models'...\n",
            "remote: Enumerating objects: 2973, done.\u001b[K\n",
            "remote: Counting objects: 100% (2973/2973), done.\u001b[K\n",
            "remote: Compressing objects: 100% (2574/2574), done.\u001b[K\n",
            "remote: Total 2973 (delta 507), reused 1775 (delta 323), pack-reused 0\u001b[K\n",
            "Receiving objects: 100% (2973/2973), 376.91 MiB | 41.52 MiB/s, done.\n",
            "Resolving deltas: 100% (507/507), done.\n",
            "Checking out files: 100% (2804/2804), done.\n"
          ],
          "name": "stdout"
        }
      ]
    },
    {
      "metadata": {
        "id": "GgoUEjv2myjN",
        "colab_type": "text"
      },
      "cell_type": "markdown",
      "source": [
        "Add the root directory of the repository to your Python path:\n",
        "\n"
      ]
    },
    {
      "metadata": {
        "id": "iOHzO-9SmrHz",
        "colab_type": "code",
        "colab": {}
      },
      "cell_type": "code",
      "source": [
        "models_path = os.path.join(os.getcwd(), 'models')\n",
        "\n",
        "sys.path.append(models_path)"
      ],
      "execution_count": 0,
      "outputs": []
    },
    {
      "metadata": {
        "id": "kJCCae4Am7JL",
        "colab_type": "text"
      },
      "cell_type": "markdown",
      "source": [
        "Download the dataset:\n",
        "\n"
      ]
    },
    {
      "metadata": {
        "id": "qFkwmTHom4Wu",
        "colab_type": "code",
        "colab": {}
      },
      "cell_type": "code",
      "source": [
        "from official.wide_deep import census_dataset\n",
        "from official.wide_deep import census_main\n",
        "\n",
        "census_dataset.download(\"/tmp/census_data/\")"
      ],
      "execution_count": 0,
      "outputs": []
    },
    {
      "metadata": {
        "id": "YZHr-9TvnD5p",
        "colab_type": "text"
      },
      "cell_type": "markdown",
      "source": [
        "**Command line usage**\n",
        "\n",
        "The repo includes a complete program for experimenting with this type of model.\n",
        "\n",
        "To execute the tutorial code from the command line first add the path to tensorflow/models to your `PYTHONPATH`."
      ]
    },
    {
      "metadata": {
        "id": "qluRMf3-m-Pe",
        "colab_type": "code",
        "colab": {}
      },
      "cell_type": "code",
      "source": [
        "#export PYTHONPATH=${PYTHONPATH}:\"$(pwd)/models\"\n",
        "#running from python you need to set the `os.environ` or the subprocess will not see the directory.\n",
        "\n",
        "if \"PYTHONPATH\" in os.environ:\n",
        "  os.environ['PYTHONPATH'] += os.pathsep +  models_path\n",
        "else:\n",
        "  os.environ['PYTHONPATH'] = models_path"
      ],
      "execution_count": 0,
      "outputs": []
    },
    {
      "metadata": {
        "id": "aWD1wVA9nYhJ",
        "colab_type": "text"
      },
      "cell_type": "markdown",
      "source": [
        "Use `--help` to see what command line options are available:\n",
        "\n"
      ]
    },
    {
      "metadata": {
        "id": "rYTttDPPnWiZ",
        "colab_type": "code",
        "colab": {
          "base_uri": "https://localhost:8080/",
          "height": 1078
        },
        "outputId": "e11b27ce-ff86-47cc-e889-2edd20482065"
      },
      "cell_type": "code",
      "source": [
        "!python -m official.wide_deep.census_main --help"
      ],
      "execution_count": 7,
      "outputs": [
        {
          "output_type": "stream",
          "text": [
            "2018-10-02 18:21:16.713016: I tensorflow/stream_executor/cuda/cuda_gpu_executor.cc:964] successful NUMA node read from SysFS had negative value (-1), but there must be at least one NUMA node, so returning NUMA node zero\n",
            "2018-10-02 18:21:16.713474: I tensorflow/core/common_runtime/gpu/gpu_device.cc:1411] Found device 0 with properties: \n",
            "name: Tesla K80 major: 3 minor: 7 memoryClockRate(GHz): 0.8235\n",
            "pciBusID: 0000:00:04.0\n",
            "totalMemory: 11.17GiB freeMemory: 11.10GiB\n",
            "2018-10-02 18:21:16.713543: I tensorflow/core/common_runtime/gpu/gpu_device.cc:1490] Adding visible gpu devices: 0\n",
            "2018-10-02 18:21:17.080240: I tensorflow/core/common_runtime/gpu/gpu_device.cc:971] Device interconnect StreamExecutor with strength 1 edge matrix:\n",
            "2018-10-02 18:21:17.080306: I tensorflow/core/common_runtime/gpu/gpu_device.cc:977]      0 \n",
            "2018-10-02 18:21:17.080334: I tensorflow/core/common_runtime/gpu/gpu_device.cc:990] 0:   N \n",
            "2018-10-02 18:21:17.080621: W tensorflow/core/common_runtime/gpu/gpu_bfc_allocator.cc:42] Overriding allow_growth setting because the TF_FORCE_GPU_ALLOW_GROWTH environment variable is set. Original config value was 0.\n",
            "2018-10-02 18:21:17.080695: I tensorflow/core/common_runtime/gpu/gpu_device.cc:1103] Created TensorFlow device (/device:GPU:0 with 10759 MB memory) -> physical GPU (device: 0, name: Tesla K80, pci bus id: 0000:00:04.0, compute capability: 3.7)\n",
            "Train DNN on census income dataset.\n",
            "flags:\n",
            "\n",
            "/content/models/official/wide_deep/census_main.py:\n",
            "  -bs,--batch_size:\n",
            "    Batch size for training and evaluation. When using multiple gpus, this is\n",
            "    the\n",
            "    global batch size for all devices. For example, if the batch size is 32 and\n",
            "    there are 4 GPUs, each GPU will get 8 examples on each step.\n",
            "    (default: '40')\n",
            "    (an integer)\n",
            "  --[no]clean:\n",
            "    If set, model_dir will be removed if it exists.\n",
            "    (default: 'false')\n",
            "  -dd,--data_dir:\n",
            "    The location of the input data.\n",
            "    (default: '/tmp/census_data')\n",
            "  --[no]download_if_missing:\n",
            "    Download data to data_dir if it is not already present.\n",
            "    (default: 'true')\n",
            "  -ebe,--epochs_between_evals:\n",
            "    The number of training epochs to run between evaluations.\n",
            "    (default: '2')\n",
            "    (an integer)\n",
            "  -ed,--export_dir:\n",
            "    If set, a SavedModel serialization of the model will be exported to this\n",
            "    directory at the end of training. See the README for more details and\n",
            "    relevant\n",
            "    links.\n",
            "  -hk,--hooks:\n",
            "    A list of (case insensitive) strings to specify the names of training hooks.\n",
            "    ﻿  Hook:\n",
            "    ﻿    loggingtensorhook\n",
            "    ﻿    profilerhook\n",
            "    ﻿    examplespersecondhook\n",
            "    ﻿    loggingmetrichook\n",
            "    ﻿  Example: `--hooks ProfilerHook,ExamplesPerSecondHook`\n",
            "    See official.utils.logs.hooks_helper for details.\n",
            "    (default: 'LoggingTensorHook')\n",
            "    (a comma separated list)\n",
            "  -md,--model_dir:\n",
            "    The location of the model checkpoint files.\n",
            "    (default: '/tmp/census_model')\n",
            "  -mt,--model_type: <wide|deep|wide_deep>: Select model topology.\n",
            "    (default: 'wide_deep')\n",
            "  -te,--train_epochs:\n",
            "    The number of epochs used to train.\n",
            "    (default: '40')\n",
            "    (an integer)\n",
            "\n",
            "Try --helpfull to get a list of all flags.\n"
          ],
          "name": "stdout"
        }
      ]
    },
    {
      "metadata": {
        "id": "ACqS88KenjWK",
        "colab_type": "text"
      },
      "cell_type": "markdown",
      "source": [
        "Now run the model:\n",
        "\n"
      ]
    },
    {
      "metadata": {
        "id": "w6D5Tr5onfl6",
        "colab_type": "code",
        "colab": {
          "base_uri": "https://localhost:8080/",
          "height": 2086
        },
        "outputId": "3263eaed-e61c-4b39-d1ad-17ba24a891f6"
      },
      "cell_type": "code",
      "source": [
        "!python -m official.wide_deep.census_main --model_type=wide --train_epochs=2"
      ],
      "execution_count": 8,
      "outputs": [
        {
          "output_type": "stream",
          "text": [
            "2018-10-02 18:21:23.219222: I tensorflow/stream_executor/cuda/cuda_gpu_executor.cc:964] successful NUMA node read from SysFS had negative value (-1), but there must be at least one NUMA node, so returning NUMA node zero\n",
            "2018-10-02 18:21:23.219701: I tensorflow/core/common_runtime/gpu/gpu_device.cc:1411] Found device 0 with properties: \n",
            "name: Tesla K80 major: 3 minor: 7 memoryClockRate(GHz): 0.8235\n",
            "pciBusID: 0000:00:04.0\n",
            "totalMemory: 11.17GiB freeMemory: 11.10GiB\n",
            "2018-10-02 18:21:23.219743: I tensorflow/core/common_runtime/gpu/gpu_device.cc:1490] Adding visible gpu devices: 0\n",
            "2018-10-02 18:21:23.602915: I tensorflow/core/common_runtime/gpu/gpu_device.cc:971] Device interconnect StreamExecutor with strength 1 edge matrix:\n",
            "2018-10-02 18:21:23.602984: I tensorflow/core/common_runtime/gpu/gpu_device.cc:977]      0 \n",
            "2018-10-02 18:21:23.603011: I tensorflow/core/common_runtime/gpu/gpu_device.cc:990] 0:   N \n",
            "2018-10-02 18:21:23.603291: W tensorflow/core/common_runtime/gpu/gpu_bfc_allocator.cc:42] Overriding allow_growth setting because the TF_FORCE_GPU_ALLOW_GROWTH environment variable is set. Original config value was 0.\n",
            "2018-10-02 18:21:23.603356: I tensorflow/core/common_runtime/gpu/gpu_device.cc:1103] Created TensorFlow device (/device:GPU:0 with 10759 MB memory) -> physical GPU (device: 0, name: Tesla K80, pci bus id: 0000:00:04.0, compute capability: 3.7)\n",
            "I1002 18:21:23.608392 140338305677184 tf_logging.py:115] Using config: {'_model_dir': '/tmp/census_model', '_tf_random_seed': None, '_save_summary_steps': 100, '_save_checkpoints_steps': None, '_save_checkpoints_secs': 600, '_session_config': device_count {\n",
            "  key: \"GPU\"\n",
            "}\n",
            ", '_keep_checkpoint_max': 5, '_keep_checkpoint_every_n_hours': 10000, '_log_step_count_steps': 100, '_train_distribute': None, '_device_fn': None, '_protocol': None, '_eval_distribute': None, '_experimental_distribute': None, '_service': None, '_cluster_spec': <tensorflow.python.training.server_lib.ClusterSpec object at 0x7fa2ab080eb8>, '_task_type': 'worker', '_task_id': 0, '_global_id_in_cluster': 0, '_master': '', '_evaluation_master': '', '_is_chief': True, '_num_ps_replicas': 0, '_num_worker_replicas': 1}\n",
            "W1002 18:21:23.609648 140338305677184 tf_logging.py:120] 'cpuinfo' not imported. CPU info will not be logged.\n",
            "2018-10-02 18:21:23.609814: I tensorflow/core/common_runtime/gpu/gpu_device.cc:1490] Adding visible gpu devices: 0\n",
            "2018-10-02 18:21:23.609867: I tensorflow/core/common_runtime/gpu/gpu_device.cc:971] Device interconnect StreamExecutor with strength 1 edge matrix:\n",
            "2018-10-02 18:21:23.609910: I tensorflow/core/common_runtime/gpu/gpu_device.cc:977]      0 \n",
            "2018-10-02 18:21:23.609932: I tensorflow/core/common_runtime/gpu/gpu_device.cc:990] 0:   N \n",
            "2018-10-02 18:21:23.610184: I tensorflow/core/common_runtime/gpu/gpu_device.cc:1103] Created TensorFlow device (/device:GPU:0 with 10759 MB memory) -> physical GPU (device: 0, name: Tesla K80, pci bus id: 0000:00:04.0, compute capability: 3.7)\n",
            "I1002 18:21:28.699062 140338305677184 tf_logging.py:115] Benchmark run: {'model_name': 'wide_deep', 'dataset': {'name': 'Census Income'}, 'machine_config': {'gpu_info': {'count': 1, 'model': 'Tesla K80'}, 'memory_total': 13655281664, 'memory_available': 12186841088}, 'test_id': None, 'run_date': '2018-10-02T18:21:23.609144Z', 'tensorflow_version': {'version': '1.11.0', 'git_hash': 'unknown'}, 'tensorflow_environment_variables': [{'name': 'TF_FORCE_GPU_ALLOW_GROWTH', 'value': 'true'}], 'run_parameters': [{'name': 'batch_size', 'long_value': 40}, {'name': 'model_type', 'string_value': 'wide'}, {'name': 'train_epochs', 'long_value': 2}]}\n",
            "I1002 18:21:28.730057 140338305677184 tf_logging.py:115] Parsing /tmp/census_data/adult.data\n",
            "I1002 18:21:28.769205 140338305677184 tf_logging.py:115] Calling model_fn.\n",
            "I1002 18:21:29.959267 140338305677184 tf_logging.py:115] Done calling model_fn.\n",
            "I1002 18:21:29.959625 140338305677184 tf_logging.py:115] Create CheckpointSaverHook.\n",
            "I1002 18:21:30.481102 140338305677184 tf_logging.py:115] Graph was finalized.\n",
            "2018-10-02 18:21:30.481510: I tensorflow/core/common_runtime/gpu/gpu_device.cc:971] Device interconnect StreamExecutor with strength 1 edge matrix:\n",
            "2018-10-02 18:21:30.481566: I tensorflow/core/common_runtime/gpu/gpu_device.cc:977]      \n",
            "I1002 18:21:30.552793 140338305677184 tf_logging.py:115] Running local_init_op.\n",
            "I1002 18:21:30.564764 140338305677184 tf_logging.py:115] Done running local_init_op.\n",
            "I1002 18:21:31.319625 140338305677184 tf_logging.py:115] Saving checkpoints for 0 into /tmp/census_model/model.ckpt.\n",
            "I1002 18:21:31.858427 140338305677184 tf_logging.py:115] average_loss = 0.6931472, loss = 27.725887\n",
            "I1002 18:21:31.858765 140338305677184 tf_logging.py:115] loss = 27.725887, step = 1\n",
            "I1002 18:21:32.509786 140338305677184 tf_logging.py:115] global_step/sec: 153.442\n",
            "I1002 18:21:32.510622 140338305677184 tf_logging.py:115] average_loss = 0.19567801, loss = 7.8271203 (0.652 sec)\n",
            "I1002 18:21:32.510828 140338305677184 tf_logging.py:115] loss = 7.8271203, step = 101 (0.652 sec)\n",
            "I1002 18:21:32.829666 140338305677184 tf_logging.py:115] global_step/sec: 312.617\n",
            "I1002 18:21:32.830577 140338305677184 tf_logging.py:115] average_loss = 0.37360796, loss = 14.944319 (0.320 sec)\n",
            "I1002 18:21:32.830772 140338305677184 tf_logging.py:115] loss = 14.944319, step = 201 (0.320 sec)\n",
            "I1002 18:21:33.168776 140338305677184 tf_logging.py:115] global_step/sec: 294.875\n",
            "I1002 18:21:33.169598 140338305677184 tf_logging.py:115] average_loss = 0.29609767, loss = 11.843906 (0.339 sec)\n",
            "I1002 18:21:33.169806 140338305677184 tf_logging.py:115] loss = 11.843906, step = 301 (0.339 sec)\n",
            "I1002 18:21:33.490115 140338305677184 tf_logging.py:115] global_step/sec: 311.182\n",
            "I1002 18:21:33.491023 140338305677184 tf_logging.py:115] average_loss = 0.3252378, loss = 13.009512 (0.321 sec)\n",
            "I1002 18:21:33.491239 140338305677184 tf_logging.py:115] loss = 13.009512, step = 401 (0.321 sec)\n",
            "I1002 18:21:33.810629 140338305677184 tf_logging.py:115] global_step/sec: 312.049\n",
            "I1002 18:21:33.811469 140338305677184 tf_logging.py:115] average_loss = 0.47943625, loss = 19.17745 (0.320 sec)\n",
            "I1002 18:21:33.811828 140338305677184 tf_logging.py:115] loss = 19.17745, step = 501 (0.321 sec)\n",
            "I1002 18:21:34.151550 140338305677184 tf_logging.py:115] global_step/sec: 293.313\n",
            "I1002 18:21:34.152523 140338305677184 tf_logging.py:115] average_loss = 0.21928182, loss = 8.771273 (0.341 sec)\n",
            "I1002 18:21:34.152774 140338305677184 tf_logging.py:115] loss = 8.771273, step = 601 (0.341 sec)\n",
            "I1002 18:21:34.482552 140338305677184 tf_logging.py:115] global_step/sec: 302.105\n",
            "I1002 18:21:34.483361 140338305677184 tf_logging.py:115] average_loss = 0.3343677, loss = 13.374707 (0.331 sec)\n",
            "I1002 18:21:34.483596 140338305677184 tf_logging.py:115] loss = 13.374707, step = 701 (0.331 sec)\n",
            "I1002 18:21:34.803413 140338305677184 tf_logging.py:115] global_step/sec: 311.652\n",
            "I1002 18:21:34.804258 140338305677184 tf_logging.py:115] average_loss = 0.28838953, loss = 11.535582 (0.321 sec)\n",
            "I1002 18:21:34.804536 140338305677184 tf_logging.py:115] loss = 11.535582, step = 801 (0.321 sec)\n",
            "I1002 18:21:35.167051 140338305677184 tf_logging.py:115] global_step/sec: 274.985\n",
            "I1002 18:21:35.167878 140338305677184 tf_logging.py:115] average_loss = 0.2612874, loss = 10.451496 (0.364 sec)\n",
            "I1002 18:21:35.168115 140338305677184 tf_logging.py:115] loss = 10.451496, step = 901 (0.364 sec)\n",
            "I1002 18:21:35.499521 140338305677184 tf_logging.py:115] global_step/sec: 300.792\n",
            "I1002 18:21:35.500311 140338305677184 tf_logging.py:115] average_loss = 0.26080233, loss = 10.432093 (0.332 sec)\n",
            "I1002 18:21:35.500572 140338305677184 tf_logging.py:115] loss = 10.432093, step = 1001 (0.332 sec)\n",
            "I1002 18:21:35.817359 140338305677184 tf_logging.py:115] global_step/sec: 314.612\n",
            "I1002 18:21:35.818255 140338305677184 tf_logging.py:115] average_loss = 0.24716249, loss = 9.886499 (0.318 sec)\n",
            "I1002 18:21:35.818471 140338305677184 tf_logging.py:115] loss = 9.886499, step = 1101 (0.318 sec)\n",
            "I1002 18:21:36.136199 140338305677184 tf_logging.py:115] global_step/sec: 313.646\n",
            "I1002 18:21:36.137101 140338305677184 tf_logging.py:115] average_loss = 0.4749628, loss = 18.998512 (0.319 sec)\n",
            "I1002 18:21:36.137328 140338305677184 tf_logging.py:115] loss = 18.998512, step = 1201 (0.319 sec)\n",
            "I1002 18:21:36.455560 140338305677184 tf_logging.py:115] global_step/sec: 313.133\n",
            "I1002 18:21:36.456408 140338305677184 tf_logging.py:115] average_loss = 0.3807271, loss = 15.229084 (0.319 sec)\n",
            "I1002 18:21:36.456771 140338305677184 tf_logging.py:115] loss = 15.229084, step = 1301 (0.319 sec)\n",
            "I1002 18:21:36.794394 140338305677184 tf_logging.py:115] global_step/sec: 295.111\n",
            "I1002 18:21:36.795241 140338305677184 tf_logging.py:115] average_loss = 0.24898124, loss = 9.9592495 (0.339 sec)\n",
            "I1002 18:21:36.795447 140338305677184 tf_logging.py:115] loss = 9.9592495, step = 1401 (0.339 sec)\n",
            "I1002 18:21:37.113668 140338305677184 tf_logging.py:115] global_step/sec: 313.246\n",
            "I1002 18:21:37.114461 140338305677184 tf_logging.py:115] average_loss = 0.2643941, loss = 10.575765 (0.319 sec)\n",
            "I1002 18:21:37.114825 140338305677184 tf_logging.py:115] loss = 10.575765, step = 1501 (0.319 sec)\n",
            "I1002 18:21:37.425391 140338305677184 tf_logging.py:115] global_step/sec: 320.776\n",
            "I1002 18:21:37.426178 140338305677184 tf_logging.py:115] average_loss = 0.37070066, loss = 14.828027 (0.312 sec)\n",
            "I1002 18:21:37.426383 140338305677184 tf_logging.py:115] loss = 14.828027, step = 1601 (0.312 sec)\n",
            "I1002 18:21:37.522951 140338305677184 tf_logging.py:115] Saving checkpoints for 1629 into /tmp/census_model/model.ckpt.\n",
            "I1002 18:21:37.666982 140338305677184 tf_logging.py:115] Loss for final step: 0.91907156.\n",
            "I1002 18:21:37.679466 140338305677184 tf_logging.py:115] Parsing /tmp/census_data/adult.test\n",
            "I1002 18:21:37.716936 140338305677184 tf_logging.py:115] Calling model_fn.\n",
            "W1002 18:21:39.048313 140338305677184 tf_logging.py:125] Trapezoidal rule is known to produce incorrect PR-AUCs; please switch to \"careful_interpolation\" instead.\n",
            "W1002 18:21:39.072806 140338305677184 tf_logging.py:125] Trapezoidal rule is known to produce incorrect PR-AUCs; please switch to \"careful_interpolation\" instead.\n",
            "I1002 18:21:39.097404 140338305677184 tf_logging.py:115] Done calling model_fn.\n",
            "I1002 18:21:39.133771 140338305677184 tf_logging.py:115] Starting evaluation at 2018-10-02-18:21:39\n",
            "I1002 18:21:39.303053 140338305677184 tf_logging.py:115] Graph was finalized.\n",
            "2018-10-02 18:21:39.303427: I tensorflow/core/common_runtime/gpu/gpu_device.cc:971] Device interconnect StreamExecutor with strength 1 edge matrix:\n",
            "2018-10-02 18:21:39.303499: I tensorflow/core/common_runtime/gpu/gpu_device.cc:977]      \n",
            "I1002 18:21:39.304852 140338305677184 tf_logging.py:115] Restoring parameters from /tmp/census_model/model.ckpt-1629\n",
            "I1002 18:21:39.366219 140338305677184 tf_logging.py:115] Running local_init_op.\n",
            "I1002 18:21:39.398010 140338305677184 tf_logging.py:115] Done running local_init_op.\n",
            "I1002 18:21:41.478350 140338305677184 tf_logging.py:115] Finished evaluation at 2018-10-02-18:21:41\n",
            "I1002 18:21:41.478669 140338305677184 tf_logging.py:115] Saving dict for global step 1629: accuracy = 0.83618945, accuracy_baseline = 0.76377374, auc = 0.8842618, auc_precision_recall = 0.6957708, average_loss = 0.35080227, global_step = 1629, label/mean = 0.23622628, loss = 13.998558, precision = 0.6838167, prediction/mean = 0.2414113, recall = 0.5702028\n",
            "I1002 18:21:41.782467 140338305677184 tf_logging.py:115] Saving 'checkpoint_path' summary for global step 1629: /tmp/census_model/model.ckpt-1629\n",
            "I1002 18:21:41.783203 140338305677184 tf_logging.py:115] Results at epoch 2 / 2\n",
            "I1002 18:21:41.783331 140338305677184 tf_logging.py:115] ------------------------------------------------------------\n",
            "I1002 18:21:41.783453 140338305677184 tf_logging.py:115] accuracy: 0.83618945\n",
            "I1002 18:21:41.783581 140338305677184 tf_logging.py:115] accuracy_baseline: 0.76377374\n",
            "I1002 18:21:41.783699 140338305677184 tf_logging.py:115] auc: 0.8842618\n",
            "I1002 18:21:41.783811 140338305677184 tf_logging.py:115] auc_precision_recall: 0.6957708\n",
            "I1002 18:21:41.783931 140338305677184 tf_logging.py:115] average_loss: 0.35080227\n",
            "I1002 18:21:41.784052 140338305677184 tf_logging.py:115] global_step: 1629\n",
            "I1002 18:21:41.784181 140338305677184 tf_logging.py:115] label/mean: 0.23622628\n",
            "I1002 18:21:41.784293 140338305677184 tf_logging.py:115] loss: 13.998558\n",
            "I1002 18:21:41.784404 140338305677184 tf_logging.py:115] precision: 0.6838167\n",
            "I1002 18:21:41.784532 140338305677184 tf_logging.py:115] prediction/mean: 0.2414113\n",
            "I1002 18:21:41.784657 140338305677184 tf_logging.py:115] recall: 0.5702028\n",
            "I1002 18:21:41.784867 140338305677184 tf_logging.py:115] Benchmark metric: {'name': 'accuracy', 'value': 0.8361894488334656, 'unit': None, 'global_step': 1629, 'timestamp': '2018-10-02T18:21:41.784816Z', 'extras': []}\n",
            "I1002 18:21:41.785036 140338305677184 tf_logging.py:115] Benchmark metric: {'name': 'accuracy_baseline', 'value': 0.7637737393379211, 'unit': None, 'global_step': 1629, 'timestamp': '2018-10-02T18:21:41.785008Z', 'extras': []}\n",
            "I1002 18:21:41.785195 140338305677184 tf_logging.py:115] Benchmark metric: {'name': 'auc', 'value': 0.8842617869377136, 'unit': None, 'global_step': 1629, 'timestamp': '2018-10-02T18:21:41.785166Z', 'extras': []}\n",
            "I1002 18:21:41.785338 140338305677184 tf_logging.py:115] Benchmark metric: {'name': 'auc_precision_recall', 'value': 0.695770800113678, 'unit': None, 'global_step': 1629, 'timestamp': '2018-10-02T18:21:41.785309Z', 'extras': []}\n",
            "I1002 18:21:41.785502 140338305677184 tf_logging.py:115] Benchmark metric: {'name': 'average_loss', 'value': 0.3508022725582123, 'unit': None, 'global_step': 1629, 'timestamp': '2018-10-02T18:21:41.785450Z', 'extras': []}\n",
            "I1002 18:21:41.785659 140338305677184 tf_logging.py:115] Benchmark metric: {'name': 'label/mean', 'value': 0.23622627556324005, 'unit': None, 'global_step': 1629, 'timestamp': '2018-10-02T18:21:41.785618Z', 'extras': []}\n",
            "I1002 18:21:41.785813 140338305677184 tf_logging.py:115] Benchmark metric: {'name': 'loss', 'value': 13.998558044433594, 'unit': None, 'global_step': 1629, 'timestamp': '2018-10-02T18:21:41.785783Z', 'extras': []}\n",
            "I1002 18:21:41.785972 140338305677184 tf_logging.py:115] Benchmark metric: {'name': 'precision', 'value': 0.68381667137146, 'unit': None, 'global_step': 1629, 'timestamp': '2018-10-02T18:21:41.785943Z', 'extras': []}\n",
            "I1002 18:21:41.786141 140338305677184 tf_logging.py:115] Benchmark metric: {'name': 'prediction/mean', 'value': 0.24141129851341248, 'unit': None, 'global_step': 1629, 'timestamp': '2018-10-02T18:21:41.786109Z', 'extras': []}\n",
            "I1002 18:21:41.786301 140338305677184 tf_logging.py:115] Benchmark metric: {'name': 'recall', 'value': 0.5702028274536133, 'unit': None, 'global_step': 1629, 'timestamp': '2018-10-02T18:21:41.786272Z', 'extras': []}\n"
          ],
          "name": "stdout"
        }
      ]
    },
    {
      "metadata": {
        "id": "8o-mkNS5nzfG",
        "colab_type": "text"
      },
      "cell_type": "markdown",
      "source": [
        "# Read the U.S. Census data\n",
        "This example uses the [U.S Census Income Dataset](https://archive.ics.uci.edu/ml/datasets/Census+Income) from 1994 and 1995. We have provided the [census_dataset.py](https://github.com/tensorflow/models/tree/master/official/wide_deep/census_dataset.py) script to download the data and perform a little cleanup.\n",
        "\n",
        "Since the task is a binary classification problem, we'll construct a label column named \"label\" whose value is 1 if the income is over 50K, and 0 otherwise. For reference, see the `input_fn` in [census_main.py](https://github.com/tensorflow/models/tree/master/official/wide_deep/census_main.py).\n",
        "\n",
        "Let's look at the data to see which columns we can use to predict the target label:\n",
        "\n"
      ]
    },
    {
      "metadata": {
        "id": "w1BQ7ZAnnqYs",
        "colab_type": "code",
        "colab": {
          "base_uri": "https://localhost:8080/",
          "height": 34
        },
        "outputId": "db69ade9-547a-4608-d23d-eff15a6b4499"
      },
      "cell_type": "code",
      "source": [
        "!ls  /tmp/census_data/"
      ],
      "execution_count": 9,
      "outputs": [
        {
          "output_type": "stream",
          "text": [
            "adult.data  adult.test\n"
          ],
          "name": "stdout"
        }
      ]
    },
    {
      "metadata": {
        "id": "_kIPMc-5oR5V",
        "colab_type": "code",
        "colab": {}
      },
      "cell_type": "code",
      "source": [
        "train_file = \"/tmp/census_data/adult.data\"\n",
        "test_file = \"/tmp/census_data/adult.test\""
      ],
      "execution_count": 0,
      "outputs": []
    },
    {
      "metadata": {
        "id": "kSWaddk3oW-3",
        "colab_type": "text"
      },
      "cell_type": "markdown",
      "source": [
        "[pandas](https://pandas.pydata.org/) provides some convenient utilities for data analysis. Here's a list of columns available in the Census Income dataset:\n",
        "\n"
      ]
    },
    {
      "metadata": {
        "id": "_AnyTz-NoUW-",
        "colab_type": "code",
        "colab": {
          "base_uri": "https://localhost:8080/",
          "height": 282
        },
        "outputId": "72bfddfc-7ae7-42f5-ae78-951427d79cf4"
      },
      "cell_type": "code",
      "source": [
        "import pandas\n",
        "\n",
        "train_df = pandas.read_csv(train_file, header = None, names = census_dataset._CSV_COLUMNS)\n",
        "test_df = pandas.read_csv(test_file, header = None, names = census_dataset._CSV_COLUMNS)\n",
        "\n",
        "train_df.head()"
      ],
      "execution_count": 11,
      "outputs": [
        {
          "output_type": "execute_result",
          "data": {
            "text/html": [
              "<div>\n",
              "<style scoped>\n",
              "    .dataframe tbody tr th:only-of-type {\n",
              "        vertical-align: middle;\n",
              "    }\n",
              "\n",
              "    .dataframe tbody tr th {\n",
              "        vertical-align: top;\n",
              "    }\n",
              "\n",
              "    .dataframe thead th {\n",
              "        text-align: right;\n",
              "    }\n",
              "</style>\n",
              "<table border=\"1\" class=\"dataframe\">\n",
              "  <thead>\n",
              "    <tr style=\"text-align: right;\">\n",
              "      <th></th>\n",
              "      <th>age</th>\n",
              "      <th>workclass</th>\n",
              "      <th>fnlwgt</th>\n",
              "      <th>education</th>\n",
              "      <th>education_num</th>\n",
              "      <th>marital_status</th>\n",
              "      <th>occupation</th>\n",
              "      <th>relationship</th>\n",
              "      <th>race</th>\n",
              "      <th>gender</th>\n",
              "      <th>capital_gain</th>\n",
              "      <th>capital_loss</th>\n",
              "      <th>hours_per_week</th>\n",
              "      <th>native_country</th>\n",
              "      <th>income_bracket</th>\n",
              "    </tr>\n",
              "  </thead>\n",
              "  <tbody>\n",
              "    <tr>\n",
              "      <th>0</th>\n",
              "      <td>39</td>\n",
              "      <td>State-gov</td>\n",
              "      <td>77516</td>\n",
              "      <td>Bachelors</td>\n",
              "      <td>13</td>\n",
              "      <td>Never-married</td>\n",
              "      <td>Adm-clerical</td>\n",
              "      <td>Not-in-family</td>\n",
              "      <td>White</td>\n",
              "      <td>Male</td>\n",
              "      <td>2174</td>\n",
              "      <td>0</td>\n",
              "      <td>40</td>\n",
              "      <td>United-States</td>\n",
              "      <td>&lt;=50K</td>\n",
              "    </tr>\n",
              "    <tr>\n",
              "      <th>1</th>\n",
              "      <td>50</td>\n",
              "      <td>Self-emp-not-inc</td>\n",
              "      <td>83311</td>\n",
              "      <td>Bachelors</td>\n",
              "      <td>13</td>\n",
              "      <td>Married-civ-spouse</td>\n",
              "      <td>Exec-managerial</td>\n",
              "      <td>Husband</td>\n",
              "      <td>White</td>\n",
              "      <td>Male</td>\n",
              "      <td>0</td>\n",
              "      <td>0</td>\n",
              "      <td>13</td>\n",
              "      <td>United-States</td>\n",
              "      <td>&lt;=50K</td>\n",
              "    </tr>\n",
              "    <tr>\n",
              "      <th>2</th>\n",
              "      <td>38</td>\n",
              "      <td>Private</td>\n",
              "      <td>215646</td>\n",
              "      <td>HS-grad</td>\n",
              "      <td>9</td>\n",
              "      <td>Divorced</td>\n",
              "      <td>Handlers-cleaners</td>\n",
              "      <td>Not-in-family</td>\n",
              "      <td>White</td>\n",
              "      <td>Male</td>\n",
              "      <td>0</td>\n",
              "      <td>0</td>\n",
              "      <td>40</td>\n",
              "      <td>United-States</td>\n",
              "      <td>&lt;=50K</td>\n",
              "    </tr>\n",
              "    <tr>\n",
              "      <th>3</th>\n",
              "      <td>53</td>\n",
              "      <td>Private</td>\n",
              "      <td>234721</td>\n",
              "      <td>11th</td>\n",
              "      <td>7</td>\n",
              "      <td>Married-civ-spouse</td>\n",
              "      <td>Handlers-cleaners</td>\n",
              "      <td>Husband</td>\n",
              "      <td>Black</td>\n",
              "      <td>Male</td>\n",
              "      <td>0</td>\n",
              "      <td>0</td>\n",
              "      <td>40</td>\n",
              "      <td>United-States</td>\n",
              "      <td>&lt;=50K</td>\n",
              "    </tr>\n",
              "    <tr>\n",
              "      <th>4</th>\n",
              "      <td>28</td>\n",
              "      <td>Private</td>\n",
              "      <td>338409</td>\n",
              "      <td>Bachelors</td>\n",
              "      <td>13</td>\n",
              "      <td>Married-civ-spouse</td>\n",
              "      <td>Prof-specialty</td>\n",
              "      <td>Wife</td>\n",
              "      <td>Black</td>\n",
              "      <td>Female</td>\n",
              "      <td>0</td>\n",
              "      <td>0</td>\n",
              "      <td>40</td>\n",
              "      <td>Cuba</td>\n",
              "      <td>&lt;=50K</td>\n",
              "    </tr>\n",
              "  </tbody>\n",
              "</table>\n",
              "</div>"
            ],
            "text/plain": [
              "   age         workclass  fnlwgt  education  education_num  \\\n",
              "0   39         State-gov   77516  Bachelors             13   \n",
              "1   50  Self-emp-not-inc   83311  Bachelors             13   \n",
              "2   38           Private  215646    HS-grad              9   \n",
              "3   53           Private  234721       11th              7   \n",
              "4   28           Private  338409  Bachelors             13   \n",
              "\n",
              "       marital_status         occupation   relationship   race  gender  \\\n",
              "0       Never-married       Adm-clerical  Not-in-family  White    Male   \n",
              "1  Married-civ-spouse    Exec-managerial        Husband  White    Male   \n",
              "2            Divorced  Handlers-cleaners  Not-in-family  White    Male   \n",
              "3  Married-civ-spouse  Handlers-cleaners        Husband  Black    Male   \n",
              "4  Married-civ-spouse     Prof-specialty           Wife  Black  Female   \n",
              "\n",
              "   capital_gain  capital_loss  hours_per_week native_country income_bracket  \n",
              "0          2174             0              40  United-States          <=50K  \n",
              "1             0             0              13  United-States          <=50K  \n",
              "2             0             0              40  United-States          <=50K  \n",
              "3             0             0              40  United-States          <=50K  \n",
              "4             0             0              40           Cuba          <=50K  "
            ]
          },
          "metadata": {
            "tags": []
          },
          "execution_count": 11
        }
      ]
    },
    {
      "metadata": {
        "id": "zZXQPKEFoo0d",
        "colab_type": "text"
      },
      "cell_type": "markdown",
      "source": [
        "The columns are grouped into two types: categorical and continuous columns:\n",
        "\n",
        "* A column is called categorical if its value can only be one of the categories in a finite set. For example, the relationship status of a person (wife, husband, unmarried, etc.) or the education level (high school, college, etc.) are categorical columns.\n",
        "* A column is called continuous if its value can be any numerical value in a continuous range. For example, the capital gain of a person (e.g. $14,084) is a continuous column.\n"
      ]
    },
    {
      "metadata": {
        "id": "CzAPHsNTo50u",
        "colab_type": "text"
      },
      "cell_type": "markdown",
      "source": [
        "# Converting Data into Tensors\n",
        "When building a [tf.estimator](https://www.tensorflow.org/api_docs/python/tf/estimator) model, the input data is specified by using an input function (or `input_fn`). This builder function returns a tf[.data.Dataset](https://www.tensorflow.org/api_docs/python/tf/data/Dataset) of batches of (`features-dict, label`) pairs. It is not called until it is passed to [tf.estimator.Estimator](https://www.tensorflow.org/api_docs/python/tf/estimator/Estimator) methods such as `train` and `evaluate`.\n",
        "\n",
        "The input builder function returns the following pair:\n",
        "\n",
        "1. `features`: A dict from feature names to `Tensors` or `SparseTensors` containing batches of features.\n",
        "2. `labels`: A `Tensor` containing batches of labels.\n",
        "\n",
        "The keys of the `features` are used to configure the model's input layer.\n",
        "\n",
        "\n",
        "---\n",
        "\n",
        "**Note:** The input function is called while constructing the TensorFlow graph, not while running the graph. It is returning a representation of the input data as a sequence of TensorFlow graph operations.\n",
        "\n",
        "\n",
        "---\n",
        "\n",
        "\n",
        "For small problems like this, it's easy to make a [tf.data.Dataset](https://www.tensorflow.org/api_docs/python/tf/data/Dataset) by slicing the `pandas.DataFrame`:\n",
        "\n"
      ]
    },
    {
      "metadata": {
        "id": "T7EBSK9rohqm",
        "colab_type": "code",
        "colab": {}
      },
      "cell_type": "code",
      "source": [
        "def easy_input_function(df, label_key, num_epochs, shuffle, batch_size):\n",
        "  label = df[label_key]\n",
        "  ds = tf.data.Dataset.from_tensor_slices((dict(df),label))\n",
        "\n",
        "  if shuffle:\n",
        "    ds = ds.shuffle(10000)\n",
        "\n",
        "  ds = ds.batch(batch_size).repeat(num_epochs)\n",
        "\n",
        "  return ds"
      ],
      "execution_count": 0,
      "outputs": []
    },
    {
      "metadata": {
        "id": "XFoG6vmzqYGz",
        "colab_type": "text"
      },
      "cell_type": "markdown",
      "source": [
        "Since we have eager execution enabled, it's easy to inspect the resulting dataset:\n",
        "\n"
      ]
    },
    {
      "metadata": {
        "id": "JWonkS-PqWo3",
        "colab_type": "code",
        "colab": {
          "base_uri": "https://localhost:8080/",
          "height": 134
        },
        "outputId": "ff8ed9a9-4432-4fb7-922a-22e077e3eb81"
      },
      "cell_type": "code",
      "source": [
        "ds = easy_input_function(train_df, label_key='income_bracket', num_epochs=5, shuffle=True, batch_size=10)\n",
        "\n",
        "for feature_batch, label_batch in ds.take(1):\n",
        "  print('Some feature keys:', list(feature_batch.keys())[:5])\n",
        "  print()\n",
        "  print('A batch of Ages  :', feature_batch['age'])\n",
        "  print()\n",
        "  print('A batch of Labels:', label_batch )"
      ],
      "execution_count": 13,
      "outputs": [
        {
          "output_type": "stream",
          "text": [
            "Some feature keys: ['age', 'workclass', 'fnlwgt', 'education', 'education_num']\n",
            "\n",
            "A batch of Ages  : tf.Tensor([49 58 53 28 26 35 48 36 63 39], shape=(10,), dtype=int32)\n",
            "\n",
            "A batch of Labels: tf.Tensor(\n",
            "[b'<=50K' b'>50K' b'<=50K' b'<=50K' b'<=50K' b'<=50K' b'<=50K' b'<=50K'\n",
            " b'<=50K' b'>50K'], shape=(10,), dtype=string)\n"
          ],
          "name": "stdout"
        }
      ]
    },
    {
      "metadata": {
        "id": "YxwtfPkJqtzL",
        "colab_type": "text"
      },
      "cell_type": "markdown",
      "source": [
        "But this approach has severly-limited scalability. Larger datasets should be streamed from disk. The `census_dataset.input_fn` provides an example of how to do this using [tf.decode_csv](https://www.tensorflow.org/api_docs/python/tf/decode_csv) and [tf.data.TextLineDataset](https://www.tensorflow.org/api_docs/python/tf/data/TextLineDataset):"
      ]
    },
    {
      "metadata": {
        "id": "dZcj-m-GqcJU",
        "colab_type": "code",
        "colab": {
          "base_uri": "https://localhost:8080/",
          "height": 487
        },
        "outputId": "1995c56c-bcd9-42f5-e2df-e4c3ee313048"
      },
      "cell_type": "code",
      "source": [
        "import inspect\n",
        "print(inspect.getsource(census_dataset.input_fn))"
      ],
      "execution_count": 14,
      "outputs": [
        {
          "output_type": "stream",
          "text": [
            "def input_fn(data_file, num_epochs, shuffle, batch_size):\n",
            "  \"\"\"Generate an input function for the Estimator.\"\"\"\n",
            "  assert tf.gfile.Exists(data_file), (\n",
            "      '%s not found. Please make sure you have run census_dataset.py and '\n",
            "      'set the --data_dir argument to the correct path.' % data_file)\n",
            "\n",
            "  def parse_csv(value):\n",
            "    tf.logging.info('Parsing {}'.format(data_file))\n",
            "    columns = tf.decode_csv(value, record_defaults=_CSV_COLUMN_DEFAULTS)\n",
            "    features = dict(zip(_CSV_COLUMNS, columns))\n",
            "    labels = features.pop('income_bracket')\n",
            "    classes = tf.equal(labels, '>50K')  # binary classification\n",
            "    return features, classes\n",
            "\n",
            "  # Extract lines from input files using the Dataset API.\n",
            "  dataset = tf.data.TextLineDataset(data_file)\n",
            "\n",
            "  if shuffle:\n",
            "    dataset = dataset.shuffle(buffer_size=_NUM_EXAMPLES['train'])\n",
            "\n",
            "  dataset = dataset.map(parse_csv, num_parallel_calls=5)\n",
            "\n",
            "  # We call repeat after shuffling, rather than before, to prevent separate\n",
            "  # epochs from blending together.\n",
            "  dataset = dataset.repeat(num_epochs)\n",
            "  dataset = dataset.batch(batch_size)\n",
            "  return dataset\n",
            "\n"
          ],
          "name": "stdout"
        }
      ]
    },
    {
      "metadata": {
        "id": "WLOyiZIHrYJf",
        "colab_type": "text"
      },
      "cell_type": "markdown",
      "source": [
        "This `input_fn` returns equivalent output:\n",
        "\n"
      ]
    },
    {
      "metadata": {
        "id": "ozUr3KwzrHQw",
        "colab_type": "code",
        "colab": {
          "base_uri": "https://localhost:8080/",
          "height": 151
        },
        "outputId": "28353cd9-0e01-4b7d-e842-c29deeae413b"
      },
      "cell_type": "code",
      "source": [
        "ds = census_dataset.input_fn(train_file, num_epochs=5, shuffle=True, batch_size=10)\n",
        "\n",
        "for feature_batch, label_batch in ds.take(1):\n",
        "  print('Feature keys:', list(feature_batch.keys())[:5])\n",
        "  print()\n",
        "  print('Age batch   :', feature_batch['age'])\n",
        "  print()\n",
        "  print('Label batch :', label_batch )"
      ],
      "execution_count": 15,
      "outputs": [
        {
          "output_type": "stream",
          "text": [
            "INFO:tensorflow:Parsing /tmp/census_data/adult.data\n"
          ],
          "name": "stdout"
        },
        {
          "output_type": "stream",
          "text": [
            "WARNING: Logging before flag parsing goes to stderr.\n",
            "I1002 18:22:00.266650 140052242024320 tf_logging.py:115] Parsing /tmp/census_data/adult.data\n"
          ],
          "name": "stderr"
        },
        {
          "output_type": "stream",
          "text": [
            "Feature keys: ['age', 'workclass', 'fnlwgt', 'education', 'education_num']\n",
            "\n",
            "Age batch   : tf.Tensor([27 44 53 25 50 42 47 17 47 54], shape=(10,), dtype=int32)\n",
            "\n",
            "Label batch : tf.Tensor([False False  True  True False  True  True False  True False], shape=(10,), dtype=bool)\n"
          ],
          "name": "stdout"
        }
      ]
    },
    {
      "metadata": {
        "id": "ebjg9TP9rjm9",
        "colab_type": "text"
      },
      "cell_type": "markdown",
      "source": [
        "Because `Estimators` expect an `input_fn` that takes no arguments, we typically wrap configurable input function into an obejct with the expected signature. For this notebook configure the `train_inpf` to iterate over the data twice:\n",
        "\n"
      ]
    },
    {
      "metadata": {
        "id": "Pq85e-gnrbSh",
        "colab_type": "code",
        "colab": {}
      },
      "cell_type": "code",
      "source": [
        "import functools\n",
        "\n",
        "train_inpf = functools.partial(census_dataset.input_fn, train_file, num_epochs=2, shuffle=True, batch_size=64)\n",
        "test_inpf = functools.partial(census_dataset.input_fn, test_file, num_epochs=1, shuffle=False, batch_size=64)"
      ],
      "execution_count": 0,
      "outputs": []
    },
    {
      "metadata": {
        "id": "qd1yIt2yvKlU",
        "colab_type": "text"
      },
      "cell_type": "markdown",
      "source": [
        "# Selecting and Engineering Features for the Model\n",
        "Estimators use a system called [feature columns](https://www.tensorflow.org/guide/feature_columns) to describe how the model should interpret each of the raw input features. An Estimator expects a vector of numeric inputs, and feature columns describe how the model should convert each feature.\n",
        "\n",
        "Selecting and crafting the right set of feature columns is key to learning an effective model. A feature column can be either one of the raw inputs in the original features `dict` (a base feature column), or any new columns created using transformations defined over one or multiple base columns (a derived feature columns).\n",
        "\n",
        "A feature column is an abstract concept of any raw or derived variable that can be used to predict the target label.\n",
        "\n",
        "## Base Feature Columns\n",
        "### Numeric columns\n",
        "The simplest `feature_column` is `numeric_column`. This indicates that a feature is a numeric value that should be input to the model directly. For example:\n",
        "\n"
      ]
    },
    {
      "metadata": {
        "id": "Y9mYbLeDrvqF",
        "colab_type": "code",
        "colab": {}
      },
      "cell_type": "code",
      "source": [
        "age = fc.numeric_column('age')"
      ],
      "execution_count": 0,
      "outputs": []
    },
    {
      "metadata": {
        "id": "dvPx8ctBv9EH",
        "colab_type": "text"
      },
      "cell_type": "markdown",
      "source": [
        "The model will use the `feature_column` definitions to build the model input. You can inspect the resulting output using the `input_layer` function:\n",
        "\n"
      ]
    },
    {
      "metadata": {
        "id": "i5pGeQccv6yZ",
        "colab_type": "code",
        "colab": {
          "base_uri": "https://localhost:8080/",
          "height": 185
        },
        "outputId": "ec5e04a6-74a4-41e4-e461-fa2cea91cb53"
      },
      "cell_type": "code",
      "source": [
        "fc.input_layer(feature_batch, [age]).numpy()"
      ],
      "execution_count": 18,
      "outputs": [
        {
          "output_type": "execute_result",
          "data": {
            "text/plain": [
              "array([[27.],\n",
              "       [44.],\n",
              "       [53.],\n",
              "       [25.],\n",
              "       [50.],\n",
              "       [42.],\n",
              "       [47.],\n",
              "       [17.],\n",
              "       [47.],\n",
              "       [54.]], dtype=float32)"
            ]
          },
          "metadata": {
            "tags": []
          },
          "execution_count": 18
        }
      ]
    },
    {
      "metadata": {
        "id": "6FcB088QwKhM",
        "colab_type": "text"
      },
      "cell_type": "markdown",
      "source": [
        "The following will train and evaluate a model using only the `age` feature:\n",
        "\n"
      ]
    },
    {
      "metadata": {
        "id": "YAGKanUXwG-e",
        "colab_type": "code",
        "colab": {
          "base_uri": "https://localhost:8080/",
          "height": 54
        },
        "outputId": "05443e3c-0edc-4c77-ac1f-861b7d72c0db"
      },
      "cell_type": "code",
      "source": [
        "classifier = tf.estimator.LinearClassifier(feature_columns=[age])\n",
        "classifier.train(train_inpf)\n",
        "result = classifier.evaluate(test_inpf)\n",
        "\n",
        "clear_output()  # used for display in notebook\n",
        "print(result)"
      ],
      "execution_count": 19,
      "outputs": [
        {
          "output_type": "stream",
          "text": [
            "{'accuracy': 0.76352805, 'accuracy_baseline': 0.76377374, 'auc': 0.6781596, 'auc_precision_recall': 0.311341, 'average_loss': 0.5254081, 'label/mean': 0.23622628, 'loss': 33.54576, 'precision': 0.35714287, 'prediction/mean': 0.21536572, 'recall': 0.001300052, 'global_step': 1018}\n"
          ],
          "name": "stdout"
        }
      ]
    },
    {
      "metadata": {
        "id": "Q6BXbIcNwadY",
        "colab_type": "text"
      },
      "cell_type": "markdown",
      "source": [
        "Similarly, we can define a `NumericColumn` for each continuous feature column that we want to use in the model:\n",
        "\n"
      ]
    },
    {
      "metadata": {
        "id": "dJiYKlA9wVce",
        "colab_type": "code",
        "colab": {
          "base_uri": "https://localhost:8080/",
          "height": 202
        },
        "outputId": "0d1a3ff8-a3dd-410c-9a48-e84d74417de2"
      },
      "cell_type": "code",
      "source": [
        "education_num = tf.feature_column.numeric_column('education_num')\n",
        "capital_gain = tf.feature_column.numeric_column('capital_gain')\n",
        "capital_loss = tf.feature_column.numeric_column('capital_loss')\n",
        "hours_per_week = tf.feature_column.numeric_column('hours_per_week')\n",
        "\n",
        "my_numeric_columns = [age,education_num, capital_gain, capital_loss, hours_per_week]\n",
        "\n",
        "fc.input_layer(feature_batch, my_numeric_columns).numpy()"
      ],
      "execution_count": 20,
      "outputs": [
        {
          "output_type": "execute_result",
          "data": {
            "text/plain": [
              "array([[2.700e+01, 0.000e+00, 0.000e+00, 1.300e+01, 4.000e+01],\n",
              "       [4.400e+01, 0.000e+00, 0.000e+00, 1.000e+01, 6.000e+01],\n",
              "       [5.300e+01, 0.000e+00, 0.000e+00, 1.100e+01, 4.000e+01],\n",
              "       [2.500e+01, 5.178e+03, 0.000e+00, 7.000e+00, 4.000e+01],\n",
              "       [5.000e+01, 0.000e+00, 0.000e+00, 1.000e+01, 4.000e+01],\n",
              "       [4.200e+01, 9.562e+03, 0.000e+00, 1.300e+01, 4.500e+01],\n",
              "       [4.700e+01, 0.000e+00, 0.000e+00, 1.000e+01, 5.000e+01],\n",
              "       [1.700e+01, 0.000e+00, 0.000e+00, 7.000e+00, 5.000e+00],\n",
              "       [4.700e+01, 7.688e+03, 0.000e+00, 1.400e+01, 4.500e+01],\n",
              "       [5.400e+01, 0.000e+00, 0.000e+00, 9.000e+00, 4.000e+01]],\n",
              "      dtype=float32)"
            ]
          },
          "metadata": {
            "tags": []
          },
          "execution_count": 20
        }
      ]
    },
    {
      "metadata": {
        "id": "HhncHdDzwv8w",
        "colab_type": "text"
      },
      "cell_type": "markdown",
      "source": [
        "You could retrain a model on these features by changing the `feature_columns` argument to the constructor:\n",
        "\n"
      ]
    },
    {
      "metadata": {
        "id": "U4xd76tBwmKG",
        "colab_type": "code",
        "colab": {
          "base_uri": "https://localhost:8080/",
          "height": 202
        },
        "outputId": "792e9660-b977-4d11-bbda-f6a21bb7960e"
      },
      "cell_type": "code",
      "source": [
        "classifier = tf.estimator.LinearClassifier(feature_columns=my_numeric_columns)\n",
        "classifier.train(train_inpf)\n",
        "\n",
        "result = classifier.evaluate(test_inpf)\n",
        "\n",
        "clear_output()\n",
        "\n",
        "for key,value in sorted(result.items()):\n",
        "  print('%s: %s' % (key, value))"
      ],
      "execution_count": 21,
      "outputs": [
        {
          "output_type": "stream",
          "text": [
            "accuracy: 0.787728\n",
            "accuracy_baseline: 0.76377374\n",
            "auc: 0.70704854\n",
            "auc_precision_recall: 0.5409346\n",
            "average_loss: 0.5204191\n",
            "global_step: 1018\n",
            "label/mean: 0.23622628\n",
            "loss: 33.22723\n",
            "precision: 0.6575121\n",
            "prediction/mean: 0.23421305\n",
            "recall: 0.21164846\n"
          ],
          "name": "stdout"
        }
      ]
    },
    {
      "metadata": {
        "id": "PvJeEmYQw9jZ",
        "colab_type": "text"
      },
      "cell_type": "markdown",
      "source": [
        "### Categorical columns\n",
        "To define a feature column for a categorical feature, create a `CategoricalColumn` using one of the `tf.feature_column.categorical_column*` functions.\n",
        "\n",
        "If you know the set of all possible feature values of a column—and there are only a few of them—use `categorical_column_with_vocabulary_list`. Each key in the list is assigned an auto-incremented ID starting from 0. For example, for the `relationship` column we can assign the feature string `Husband` to an integer ID of 0 and \"Not-in-family\" to 1, etc."
      ]
    },
    {
      "metadata": {
        "id": "ks32Pnq0w3gX",
        "colab_type": "code",
        "colab": {}
      },
      "cell_type": "code",
      "source": [
        "relationship = fc.categorical_column_with_vocabulary_list(\n",
        "    'relationship',\n",
        "    ['Husband', 'Not-in-family', 'Wife', 'Own-child', 'Unmarried', 'Other-relative'])"
      ],
      "execution_count": 0,
      "outputs": []
    },
    {
      "metadata": {
        "id": "8HA9HXvkxiiI",
        "colab_type": "text"
      },
      "cell_type": "markdown",
      "source": [
        "This creates a sparse one-hot vector from the raw input feature.\n",
        "\n",
        "The `input_layer` function we're using is designed for DNN models and expects dense inputs. To demonstrate the categorical column we must wrap it in a [tf.feature_column.indicator_column](https://www.tensorflow.org/api_docs/python/tf/feature_column/indicator_column) to create the dense one-hot output (Linear `Estimators` can often skip this dense-step).\n",
        "\n",
        "\n",
        "\n",
        "---\n",
        "\n",
        "\n",
        "Note: the other sparse-to-dense option is [tf.feature_column.embedding_column](https://www.tensorflow.org/api_docs/python/tf/feature_column/embedding_column).\n",
        "\n",
        "\n",
        "---\n",
        "\n",
        "\n",
        "Run the input layer, configured with both the `age` and `relationship` columns:\n",
        "\n"
      ]
    },
    {
      "metadata": {
        "id": "X1Dx4nvCxVUD",
        "colab_type": "code",
        "colab": {
          "base_uri": "https://localhost:8080/",
          "height": 202
        },
        "outputId": "a34d5495-2c53-4b18-da6d-51f285104cb7"
      },
      "cell_type": "code",
      "source": [
        "fc.input_layer(feature_batch, [age, fc.indicator_column(relationship)])"
      ],
      "execution_count": 23,
      "outputs": [
        {
          "output_type": "execute_result",
          "data": {
            "text/plain": [
              "<tf.Tensor: id=4563, shape=(10, 7), dtype=float32, numpy=\n",
              "array([[27.,  0.,  0.,  0.,  1.,  0.,  0.],\n",
              "       [44.,  0.,  1.,  0.,  0.,  0.,  0.],\n",
              "       [53.,  1.,  0.,  0.,  0.,  0.,  0.],\n",
              "       [25.,  1.,  0.,  0.,  0.,  0.,  0.],\n",
              "       [50.,  0.,  1.,  0.,  0.,  0.,  0.],\n",
              "       [42.,  0.,  0.,  0.,  0.,  1.,  0.],\n",
              "       [47.,  1.,  0.,  0.,  0.,  0.,  0.],\n",
              "       [17.,  0.,  0.,  0.,  1.,  0.,  0.],\n",
              "       [47.,  1.,  0.,  0.,  0.,  0.,  0.],\n",
              "       [54.,  1.,  0.,  0.,  0.,  0.,  0.]], dtype=float32)>"
            ]
          },
          "metadata": {
            "tags": []
          },
          "execution_count": 23
        }
      ]
    },
    {
      "metadata": {
        "id": "Ch25-shUx4y1",
        "colab_type": "text"
      },
      "cell_type": "markdown",
      "source": [
        "\n",
        "If we don't know the set of possible values in advance, use the `categorical_column_with_hash_bucket` instead:"
      ]
    },
    {
      "metadata": {
        "id": "jsnMm2Qkx_Pg",
        "colab_type": "code",
        "colab": {}
      },
      "cell_type": "code",
      "source": [
        "occupation = tf.feature_column.categorical_column_with_hash_bucket(\n",
        "    'occupation', hash_bucket_size=1000)"
      ],
      "execution_count": 0,
      "outputs": []
    },
    {
      "metadata": {
        "id": "8uth49IWyCQS",
        "colab_type": "text"
      },
      "cell_type": "markdown",
      "source": [
        "Here, each possible value in the feature column `occupation` is hashed to an integer ID as we encounter them in training. The example batch has a few different occupations:\n",
        "\n"
      ]
    },
    {
      "metadata": {
        "id": "ylrCCi0Dxz5B",
        "colab_type": "code",
        "colab": {
          "base_uri": "https://localhost:8080/",
          "height": 185
        },
        "outputId": "fb3e2df2-5d01-48f4-c078-b2c89bcacb31"
      },
      "cell_type": "code",
      "source": [
        "for item in feature_batch['occupation'].numpy():\n",
        "    print(item.decode())"
      ],
      "execution_count": 25,
      "outputs": [
        {
          "output_type": "stream",
          "text": [
            "Exec-managerial\n",
            "Machine-op-inspct\n",
            "Tech-support\n",
            "Transport-moving\n",
            "Other-service\n",
            "Adm-clerical\n",
            "Sales\n",
            "Other-service\n",
            "Prof-specialty\n",
            "Transport-moving\n"
          ],
          "name": "stdout"
        }
      ]
    },
    {
      "metadata": {
        "id": "FcdZ35JXyMBO",
        "colab_type": "text"
      },
      "cell_type": "markdown",
      "source": [
        "If we run `input_layer` with the hashed column, we see that the output shape is (`batch_size, hash_bucket_size`):\n",
        "\n"
      ]
    },
    {
      "metadata": {
        "id": "zBW_NajtyGjy",
        "colab_type": "code",
        "colab": {
          "base_uri": "https://localhost:8080/",
          "height": 34
        },
        "outputId": "bec901de-4217-4a05-e955-b637d609f976"
      },
      "cell_type": "code",
      "source": [
        "occupation_result = fc.input_layer(feature_batch, [fc.indicator_column(occupation)])\n",
        "\n",
        "occupation_result.numpy().shape"
      ],
      "execution_count": 26,
      "outputs": [
        {
          "output_type": "execute_result",
          "data": {
            "text/plain": [
              "(10, 1000)"
            ]
          },
          "metadata": {
            "tags": []
          },
          "execution_count": 26
        }
      ]
    },
    {
      "metadata": {
        "id": "yzVja7bayVoy",
        "colab_type": "text"
      },
      "cell_type": "markdown",
      "source": [
        "It's easier to see the actual results if we take the [tf.argmax](https://www.tensorflow.org/api_docs/python/tf/argmax) over the `hash_bucket_size` dimension. Notice how any duplicate occupations are mapped to the same pseudo-random index:\n",
        "\n"
      ]
    },
    {
      "metadata": {
        "id": "as_ZE9Q1ySr3",
        "colab_type": "code",
        "colab": {
          "base_uri": "https://localhost:8080/",
          "height": 34
        },
        "outputId": "1e631730-6335-4f0a-93a6-9b35733b3fbe"
      },
      "cell_type": "code",
      "source": [
        "tf.argmax(occupation_result, axis=1).numpy()"
      ],
      "execution_count": 27,
      "outputs": [
        {
          "output_type": "execute_result",
          "data": {
            "text/plain": [
              "array([800, 911, 413, 420, 527,  96, 631, 527, 979, 420])"
            ]
          },
          "metadata": {
            "tags": []
          },
          "execution_count": 27
        }
      ]
    },
    {
      "metadata": {
        "id": "dS0-XGgWytPx",
        "colab_type": "text"
      },
      "cell_type": "markdown",
      "source": [
        "* Note: Hash collisions are unavoidable, but often have minimal impact on model quiality. The effect may be noticable if the hash buckets are being used to compress the input space. See [this notebook](https://colab.research.google.com/github/tensorflow/models/blob/master/samples/outreach/blogs/housing_prices.ipynb) for a more visual example of the effect of these hash collisions.\n",
        "\n",
        "\n",
        "---\n",
        "\n",
        "\n",
        "\n",
        "No matter how we choose to define a `SparseColumn`, each feature string is mapped into an integer ID by looking up a fixed mapping or by hashing. Under the hood, the `LinearModel` class is responsible for managing the mapping and creating [tf.Variable](https://www.tensorflow.org/api_docs/python/tf/Variable) to store the model parameters (model weights) for each feature ID. The model parameters are learned through the model training process described later.\n",
        "\n",
        "Let's do the similar trick to define the other categorical features:"
      ]
    },
    {
      "metadata": {
        "id": "fFqL0IM9ylR1",
        "colab_type": "code",
        "colab": {}
      },
      "cell_type": "code",
      "source": [
        "education = tf.feature_column.categorical_column_with_vocabulary_list(\n",
        "    'education', [\n",
        "        'Bachelors', 'HS-grad', '11th', 'Masters', '9th', 'Some-college',\n",
        "        'Assoc-acdm', 'Assoc-voc', '7th-8th', 'Doctorate', 'Prof-school',\n",
        "        '5th-6th', '10th', '1st-4th', 'Preschool', '12th'])\n",
        "\n",
        "marital_status = tf.feature_column.categorical_column_with_vocabulary_list(\n",
        "    'marital_status', [\n",
        "        'Married-civ-spouse', 'Divorced', 'Married-spouse-absent',\n",
        "        'Never-married', 'Separated', 'Married-AF-spouse', 'Widowed'])\n",
        "\n",
        "workclass = tf.feature_column.categorical_column_with_vocabulary_list(\n",
        "    'workclass', [\n",
        "        'Self-emp-not-inc', 'Private', 'State-gov', 'Federal-gov',\n",
        "        'Local-gov', '?', 'Self-emp-inc', 'Without-pay', 'Never-worked'])\n",
        "\n",
        "\n",
        "my_categorical_columns = [relationship, occupation, education, marital_status, workclass]"
      ],
      "execution_count": 0,
      "outputs": []
    },
    {
      "metadata": {
        "id": "pw4SNUAc0E7x",
        "colab_type": "text"
      },
      "cell_type": "markdown",
      "source": [
        "It's easy to use both sets of columns to configure a model that uses all these features:\n",
        "\n"
      ]
    },
    {
      "metadata": {
        "id": "9pO2yMXJ0DJi",
        "colab_type": "code",
        "colab": {
          "base_uri": "https://localhost:8080/",
          "height": 202
        },
        "outputId": "87768b58-0eda-45d8-f15f-5402ed9b5ba0"
      },
      "cell_type": "code",
      "source": [
        "classifier = tf.estimator.LinearClassifier(feature_columns=my_numeric_columns+my_categorical_columns)\n",
        "classifier.train(train_inpf)\n",
        "result = classifier.evaluate(test_inpf)\n",
        "\n",
        "clear_output()\n",
        "\n",
        "for key,value in sorted(result.items()):\n",
        "  print('%s: %s' % (key, value))"
      ],
      "execution_count": 29,
      "outputs": [
        {
          "output_type": "stream",
          "text": [
            "accuracy: 0.79356307\n",
            "accuracy_baseline: 0.76377374\n",
            "auc: 0.8665625\n",
            "auc_precision_recall: 0.635723\n",
            "average_loss: 1.5507218\n",
            "global_step: 1018\n",
            "label/mean: 0.23622628\n",
            "loss: 99.009026\n",
            "precision: 0.54193324\n",
            "prediction/mean: 0.36764777\n",
            "recall: 0.8148726\n"
          ],
          "name": "stdout"
        }
      ]
    },
    {
      "metadata": {
        "id": "M7FFOQAl08UQ",
        "colab_type": "text"
      },
      "cell_type": "markdown",
      "source": [
        "## Derived feature columns\n",
        "### Make Continuous Features Categorical through Bucketization\n",
        "Sometimes the relationship between a continuous feature and the label is not linear. For example, age and income—a person's income may grow in the early stage of their career, then the growth may slow at some point, and finally, the income decreases after retirement. In this scenario, using the raw `age` as a real-valued feature column might not be a good choice because the model can only learn one of the three cases:\n",
        "\n",
        "1. Income always increases at some rate as age grows (positive correlation),\n",
        "2. Income always decreases at some rate as age grows (negative correlation), or\n",
        "3. Income stays the same no matter at what age (no correlation).\n",
        "\n",
        "If we want to learn the fine-grained correlation between income and each age group separately, we can leverage bucketization. Bucketization is a process of dividing the entire range of a continuous feature into a set of consecutive buckets, and then converting the original numerical feature into a bucket ID (as a categorical feature) depending on which bucket that value falls into. So, we can define a `bucketized_column` over `age` as:\n",
        "\n"
      ]
    },
    {
      "metadata": {
        "id": "RJaILJJp0woC",
        "colab_type": "code",
        "colab": {}
      },
      "cell_type": "code",
      "source": [
        "age_buckets = tf.feature_column.bucketized_column(\n",
        "    age, boundaries=[18, 25, 30, 35, 40, 45, 50, 55, 60, 65])"
      ],
      "execution_count": 0,
      "outputs": []
    },
    {
      "metadata": {
        "id": "yId0NIGf8PgU",
        "colab_type": "text"
      },
      "cell_type": "markdown",
      "source": [
        "`boundaries` is a list of bucket boundaries. In this case, there are 10 boundaries, resulting in 11 age group buckets (from age 17 and below, 18-24, 25-29, ..., to 65 and over).\n",
        "\n",
        "With bucketing, the model sees each bucket a one-hot feature:\n",
        "\n"
      ]
    },
    {
      "metadata": {
        "id": "cBn1XYHm8Mw8",
        "colab_type": "code",
        "colab": {
          "base_uri": "https://localhost:8080/",
          "height": 202
        },
        "outputId": "d6f5bc32-315e-40ec-8f98-044ee0d970c1"
      },
      "cell_type": "code",
      "source": [
        "fc.input_layer(feature_batch, [age, age_buckets]).numpy()"
      ],
      "execution_count": 31,
      "outputs": [
        {
          "output_type": "execute_result",
          "data": {
            "text/plain": [
              "array([[27.,  0.,  0.,  1.,  0.,  0.,  0.,  0.,  0.,  0.,  0.,  0.],\n",
              "       [44.,  0.,  0.,  0.,  0.,  0.,  1.,  0.,  0.,  0.,  0.,  0.],\n",
              "       [53.,  0.,  0.,  0.,  0.,  0.,  0.,  0.,  1.,  0.,  0.,  0.],\n",
              "       [25.,  0.,  0.,  1.,  0.,  0.,  0.,  0.,  0.,  0.,  0.,  0.],\n",
              "       [50.,  0.,  0.,  0.,  0.,  0.,  0.,  0.,  1.,  0.,  0.,  0.],\n",
              "       [42.,  0.,  0.,  0.,  0.,  0.,  1.,  0.,  0.,  0.,  0.,  0.],\n",
              "       [47.,  0.,  0.,  0.,  0.,  0.,  0.,  1.,  0.,  0.,  0.,  0.],\n",
              "       [17.,  1.,  0.,  0.,  0.,  0.,  0.,  0.,  0.,  0.,  0.,  0.],\n",
              "       [47.,  0.,  0.,  0.,  0.,  0.,  0.,  1.,  0.,  0.,  0.,  0.],\n",
              "       [54.,  0.,  0.,  0.,  0.,  0.,  0.,  0.,  1.,  0.,  0.,  0.]],\n",
              "      dtype=float32)"
            ]
          },
          "metadata": {
            "tags": []
          },
          "execution_count": 31
        }
      ]
    },
    {
      "metadata": {
        "id": "JGXTg0pz8tSy",
        "colab_type": "text"
      },
      "cell_type": "markdown",
      "source": [
        "### Learn complex relationships with crossed column\n",
        "Using each base feature column separately may not be enough to explain the data. For example, the correlation between education and the label (earning > 50,000 dollars) may be different for different occupations. Therefore, if we only learn a single model weight for `education=\"Bachelors\"` and `education=\"Masters\",` we won't capture every education-occupation combination (e.g. distinguishing between `education=\"Bachelors\"` AND `occupation=\"Exec-managerial\"` AND `education=\"Bachelors\" AND occupation=\"Craft-repair\").`\n",
        "\n",
        "To learn the differences between different feature combinations, we can add crossed feature columns to the model:\n",
        "\n"
      ]
    },
    {
      "metadata": {
        "id": "LjkmbUWT8ZLm",
        "colab_type": "code",
        "colab": {}
      },
      "cell_type": "code",
      "source": [
        "education_x_occupation = tf.feature_column.crossed_column(\n",
        "    ['education', 'occupation'], hash_bucket_size=1000)"
      ],
      "execution_count": 0,
      "outputs": []
    },
    {
      "metadata": {
        "id": "2eTCoREz9CHh",
        "colab_type": "text"
      },
      "cell_type": "markdown",
      "source": [
        "We can also create a `crossed_column` over more than two columns. Each constituent column can be either a base feature column that is categorical (`SparseColumn`), a bucketized real-valued feature column, or even another CrossColumn. For example:\n",
        "\n"
      ]
    },
    {
      "metadata": {
        "id": "mfDtKfrF8_CI",
        "colab_type": "code",
        "colab": {}
      },
      "cell_type": "code",
      "source": [
        "age_buckets_x_education_x_occupation = tf.feature_column.crossed_column(\n",
        "    [age_buckets, 'education', 'occupation'], hash_bucket_size=1000)"
      ],
      "execution_count": 0,
      "outputs": []
    },
    {
      "metadata": {
        "id": "5q8QpehG9KXY",
        "colab_type": "text"
      },
      "cell_type": "markdown",
      "source": [
        "These crossed columns always use hash buckets to avoid the exponential explosion in the number of categories, and put the control over number of model weights in the hands of the user.\n",
        "\n",
        "For a visual example the effect of hash-buckets with crossed columns see [this notebook](https://colab.research.google.com/github/tensorflow/models/blob/master/samples/outreach/blogs/housing_prices.ipynb)\n",
        "\n"
      ]
    },
    {
      "metadata": {
        "id": "k_QPM68S9Wbs",
        "colab_type": "text"
      },
      "cell_type": "markdown",
      "source": [
        "# Define the logistic regression model\n",
        "After processing the input data and defining all the feature columns, we can put them together and build a logistic regression model. The previous section showed several types of base and derived feature columns, including:\n",
        "\n",
        "* `CategoricalColumn`\n",
        "* `NumericColumn`\n",
        "* `BucketizedColumn`\n",
        "* `CrossedColumn`\n",
        "\n",
        "All of these are subclasses of the abstract `FeatureColumn` class and can be added to the `feature_columns` field of a model:\n",
        "\n"
      ]
    },
    {
      "metadata": {
        "id": "PpMMAM_29GWf",
        "colab_type": "code",
        "colab": {
          "base_uri": "https://localhost:8080/",
          "height": 306
        },
        "outputId": "ef30f945-cf03-4bdc-aa41-9d24df451b0d"
      },
      "cell_type": "code",
      "source": [
        "import tempfile\n",
        "\n",
        "base_columns = [\n",
        "    education, marital_status, relationship, workclass, occupation,\n",
        "    age_buckets,\n",
        "]\n",
        "\n",
        "crossed_columns = [\n",
        "    tf.feature_column.crossed_column(\n",
        "        ['education', 'occupation'], hash_bucket_size=1000),\n",
        "    tf.feature_column.crossed_column(\n",
        "        [age_buckets, 'education', 'occupation'], hash_bucket_size=1000),\n",
        "]\n",
        "\n",
        "model = tf.estimator.LinearClassifier(\n",
        "    model_dir=tempfile.mkdtemp(), \n",
        "    feature_columns=base_columns + crossed_columns,\n",
        "    optimizer=tf.train.FtrlOptimizer(learning_rate=0.1))"
      ],
      "execution_count": 34,
      "outputs": [
        {
          "output_type": "stream",
          "text": [
            "INFO:tensorflow:Using default config.\n"
          ],
          "name": "stdout"
        },
        {
          "output_type": "stream",
          "text": [
            "I1002 18:23:35.661538 140052242024320 tf_logging.py:115] Using default config.\n"
          ],
          "name": "stderr"
        },
        {
          "output_type": "stream",
          "text": [
            "INFO:tensorflow:Using config: {'_model_dir': '/tmp/tmpf5_328gj', '_tf_random_seed': None, '_save_summary_steps': 100, '_save_checkpoints_steps': None, '_save_checkpoints_secs': 600, '_session_config': allow_soft_placement: true\n",
            "graph_options {\n",
            "  rewrite_options {\n",
            "    meta_optimizer_iterations: ONE\n",
            "  }\n",
            "}\n",
            ", '_keep_checkpoint_max': 5, '_keep_checkpoint_every_n_hours': 10000, '_log_step_count_steps': 100, '_train_distribute': None, '_device_fn': None, '_protocol': None, '_eval_distribute': None, '_experimental_distribute': None, '_service': None, '_cluster_spec': <tensorflow.python.training.server_lib.ClusterSpec object at 0x7f5ff74e5be0>, '_task_type': 'worker', '_task_id': 0, '_global_id_in_cluster': 0, '_master': '', '_evaluation_master': '', '_is_chief': True, '_num_ps_replicas': 0, '_num_worker_replicas': 1}\n"
          ],
          "name": "stdout"
        },
        {
          "output_type": "stream",
          "text": [
            "I1002 18:23:35.664922 140052242024320 tf_logging.py:115] Using config: {'_model_dir': '/tmp/tmpf5_328gj', '_tf_random_seed': None, '_save_summary_steps': 100, '_save_checkpoints_steps': None, '_save_checkpoints_secs': 600, '_session_config': allow_soft_placement: true\n",
            "graph_options {\n",
            "  rewrite_options {\n",
            "    meta_optimizer_iterations: ONE\n",
            "  }\n",
            "}\n",
            ", '_keep_checkpoint_max': 5, '_keep_checkpoint_every_n_hours': 10000, '_log_step_count_steps': 100, '_train_distribute': None, '_device_fn': None, '_protocol': None, '_eval_distribute': None, '_experimental_distribute': None, '_service': None, '_cluster_spec': <tensorflow.python.training.server_lib.ClusterSpec object at 0x7f5ff74e5be0>, '_task_type': 'worker', '_task_id': 0, '_global_id_in_cluster': 0, '_master': '', '_evaluation_master': '', '_is_chief': True, '_num_ps_replicas': 0, '_num_worker_replicas': 1}\n"
          ],
          "name": "stderr"
        }
      ]
    },
    {
      "metadata": {
        "id": "u5f8zITK9xow",
        "colab_type": "text"
      },
      "cell_type": "markdown",
      "source": [
        "The model automatically learns a bias term, which controls the prediction made without observing any features. The learned model files are stored in `model_dir`."
      ]
    },
    {
      "metadata": {
        "id": "h4zgytBj92i_",
        "colab_type": "text"
      },
      "cell_type": "markdown",
      "source": [
        "# Train and evaluate the model\n",
        "After adding all the features to the model, let's train the model. Training a model is just a single command using the [tf.estimator](https://www.tensorflow.org/api_docs/python/tf/estimator) API:"
      ]
    },
    {
      "metadata": {
        "id": "iMZ3O-Ia9sxe",
        "colab_type": "code",
        "colab": {}
      },
      "cell_type": "code",
      "source": [
        "train_inpf = functools.partial(census_dataset.input_fn, train_file, \n",
        "                               num_epochs=40, shuffle=True, batch_size=64)\n",
        "\n",
        "model.train(train_inpf)\n",
        "\n",
        "clear_output()  # used for notebook display"
      ],
      "execution_count": 0,
      "outputs": []
    },
    {
      "metadata": {
        "id": "8LQf8gnf-v6W",
        "colab_type": "text"
      },
      "cell_type": "markdown",
      "source": [
        "After the model is trained, evaluate the accuracy of the model by predicting the labels of the holdout data:\n",
        "\n"
      ]
    },
    {
      "metadata": {
        "id": "CujIXwDF-tiS",
        "colab_type": "code",
        "colab": {
          "base_uri": "https://localhost:8080/",
          "height": 202
        },
        "outputId": "7d4061dd-6306-4783-bc14-625c4188df2f"
      },
      "cell_type": "code",
      "source": [
        "results = model.evaluate(test_inpf)\n",
        "\n",
        "clear_output()\n",
        "\n",
        "for key,value in sorted(result.items()):\n",
        "  print('%s: %0.2f' % (key, value))"
      ],
      "execution_count": 36,
      "outputs": [
        {
          "output_type": "stream",
          "text": [
            "accuracy: 0.79\n",
            "accuracy_baseline: 0.76\n",
            "auc: 0.87\n",
            "auc_precision_recall: 0.64\n",
            "average_loss: 1.55\n",
            "global_step: 1018.00\n",
            "label/mean: 0.24\n",
            "loss: 99.01\n",
            "precision: 0.54\n",
            "prediction/mean: 0.37\n",
            "recall: 0.81\n"
          ],
          "name": "stdout"
        }
      ]
    },
    {
      "metadata": {
        "id": "4DsWME5e-_IM",
        "colab_type": "text"
      },
      "cell_type": "markdown",
      "source": [
        "The first line of the output should display something like: `accuracy: 0.83`, which means the accuracy is 83%. You can try using more features and transformations to see if you can do better!\n",
        "\n",
        "After the model is evaluated, we can use it to predict whether an individual has an annual income of over 50,000 dollars given an individual's information input.\n",
        "\n",
        "Let's look in more detail how the model performed:"
      ]
    },
    {
      "metadata": {
        "id": "jOAddflI-43Q",
        "colab_type": "code",
        "colab": {
          "base_uri": "https://localhost:8080/",
          "height": 639
        },
        "outputId": "b25c4e11-fe1b-4720-f7f4-3fc01db36074"
      },
      "cell_type": "code",
      "source": [
        "import numpy as np\n",
        "\n",
        "predict_df = test_df[:20].copy()\n",
        "\n",
        "pred_iter = model.predict(\n",
        "    lambda:easy_input_function(predict_df, label_key='income_bracket',\n",
        "                               num_epochs=1, shuffle=False, batch_size=10))\n",
        "\n",
        "classes = np.array(['<=50K', '>50K'])\n",
        "pred_class_id = []\n",
        "\n",
        "for pred_dict in pred_iter:\n",
        "  pred_class_id.append(pred_dict['class_ids'])\n",
        "\n",
        "predict_df['predicted_class'] = classes[np.array(pred_class_id)]\n",
        "predict_df['correct'] = predict_df['predicted_class'] == predict_df['income_bracket']\n",
        "\n",
        "clear_output()\n",
        "\n",
        "predict_df[['income_bracket','predicted_class', 'correct']]"
      ],
      "execution_count": 37,
      "outputs": [
        {
          "output_type": "execute_result",
          "data": {
            "text/html": [
              "<div>\n",
              "<style scoped>\n",
              "    .dataframe tbody tr th:only-of-type {\n",
              "        vertical-align: middle;\n",
              "    }\n",
              "\n",
              "    .dataframe tbody tr th {\n",
              "        vertical-align: top;\n",
              "    }\n",
              "\n",
              "    .dataframe thead th {\n",
              "        text-align: right;\n",
              "    }\n",
              "</style>\n",
              "<table border=\"1\" class=\"dataframe\">\n",
              "  <thead>\n",
              "    <tr style=\"text-align: right;\">\n",
              "      <th></th>\n",
              "      <th>income_bracket</th>\n",
              "      <th>predicted_class</th>\n",
              "      <th>correct</th>\n",
              "    </tr>\n",
              "  </thead>\n",
              "  <tbody>\n",
              "    <tr>\n",
              "      <th>0</th>\n",
              "      <td>&lt;=50K</td>\n",
              "      <td>&lt;=50K</td>\n",
              "      <td>True</td>\n",
              "    </tr>\n",
              "    <tr>\n",
              "      <th>1</th>\n",
              "      <td>&lt;=50K</td>\n",
              "      <td>&lt;=50K</td>\n",
              "      <td>True</td>\n",
              "    </tr>\n",
              "    <tr>\n",
              "      <th>2</th>\n",
              "      <td>&gt;50K</td>\n",
              "      <td>&lt;=50K</td>\n",
              "      <td>False</td>\n",
              "    </tr>\n",
              "    <tr>\n",
              "      <th>3</th>\n",
              "      <td>&gt;50K</td>\n",
              "      <td>&lt;=50K</td>\n",
              "      <td>False</td>\n",
              "    </tr>\n",
              "    <tr>\n",
              "      <th>4</th>\n",
              "      <td>&lt;=50K</td>\n",
              "      <td>&lt;=50K</td>\n",
              "      <td>True</td>\n",
              "    </tr>\n",
              "    <tr>\n",
              "      <th>5</th>\n",
              "      <td>&lt;=50K</td>\n",
              "      <td>&lt;=50K</td>\n",
              "      <td>True</td>\n",
              "    </tr>\n",
              "    <tr>\n",
              "      <th>6</th>\n",
              "      <td>&lt;=50K</td>\n",
              "      <td>&lt;=50K</td>\n",
              "      <td>True</td>\n",
              "    </tr>\n",
              "    <tr>\n",
              "      <th>7</th>\n",
              "      <td>&gt;50K</td>\n",
              "      <td>&gt;50K</td>\n",
              "      <td>True</td>\n",
              "    </tr>\n",
              "    <tr>\n",
              "      <th>8</th>\n",
              "      <td>&lt;=50K</td>\n",
              "      <td>&lt;=50K</td>\n",
              "      <td>True</td>\n",
              "    </tr>\n",
              "    <tr>\n",
              "      <th>9</th>\n",
              "      <td>&lt;=50K</td>\n",
              "      <td>&lt;=50K</td>\n",
              "      <td>True</td>\n",
              "    </tr>\n",
              "    <tr>\n",
              "      <th>10</th>\n",
              "      <td>&gt;50K</td>\n",
              "      <td>&lt;=50K</td>\n",
              "      <td>False</td>\n",
              "    </tr>\n",
              "    <tr>\n",
              "      <th>11</th>\n",
              "      <td>&lt;=50K</td>\n",
              "      <td>&gt;50K</td>\n",
              "      <td>False</td>\n",
              "    </tr>\n",
              "    <tr>\n",
              "      <th>12</th>\n",
              "      <td>&lt;=50K</td>\n",
              "      <td>&lt;=50K</td>\n",
              "      <td>True</td>\n",
              "    </tr>\n",
              "    <tr>\n",
              "      <th>13</th>\n",
              "      <td>&lt;=50K</td>\n",
              "      <td>&lt;=50K</td>\n",
              "      <td>True</td>\n",
              "    </tr>\n",
              "    <tr>\n",
              "      <th>14</th>\n",
              "      <td>&gt;50K</td>\n",
              "      <td>&lt;=50K</td>\n",
              "      <td>False</td>\n",
              "    </tr>\n",
              "    <tr>\n",
              "      <th>15</th>\n",
              "      <td>&gt;50K</td>\n",
              "      <td>&gt;50K</td>\n",
              "      <td>True</td>\n",
              "    </tr>\n",
              "    <tr>\n",
              "      <th>16</th>\n",
              "      <td>&lt;=50K</td>\n",
              "      <td>&lt;=50K</td>\n",
              "      <td>True</td>\n",
              "    </tr>\n",
              "    <tr>\n",
              "      <th>17</th>\n",
              "      <td>&lt;=50K</td>\n",
              "      <td>&lt;=50K</td>\n",
              "      <td>True</td>\n",
              "    </tr>\n",
              "    <tr>\n",
              "      <th>18</th>\n",
              "      <td>&lt;=50K</td>\n",
              "      <td>&lt;=50K</td>\n",
              "      <td>True</td>\n",
              "    </tr>\n",
              "    <tr>\n",
              "      <th>19</th>\n",
              "      <td>&gt;50K</td>\n",
              "      <td>&gt;50K</td>\n",
              "      <td>True</td>\n",
              "    </tr>\n",
              "  </tbody>\n",
              "</table>\n",
              "</div>"
            ],
            "text/plain": [
              "   income_bracket predicted_class  correct\n",
              "0           <=50K           <=50K     True\n",
              "1           <=50K           <=50K     True\n",
              "2            >50K           <=50K    False\n",
              "3            >50K           <=50K    False\n",
              "4           <=50K           <=50K     True\n",
              "5           <=50K           <=50K     True\n",
              "6           <=50K           <=50K     True\n",
              "7            >50K            >50K     True\n",
              "8           <=50K           <=50K     True\n",
              "9           <=50K           <=50K     True\n",
              "10           >50K           <=50K    False\n",
              "11          <=50K            >50K    False\n",
              "12          <=50K           <=50K     True\n",
              "13          <=50K           <=50K     True\n",
              "14           >50K           <=50K    False\n",
              "15           >50K            >50K     True\n",
              "16          <=50K           <=50K     True\n",
              "17          <=50K           <=50K     True\n",
              "18          <=50K           <=50K     True\n",
              "19           >50K            >50K     True"
            ]
          },
          "metadata": {
            "tags": []
          },
          "execution_count": 37
        }
      ]
    },
    {
      "metadata": {
        "id": "XEYnXhJa_aWK",
        "colab_type": "text"
      },
      "cell_type": "markdown",
      "source": [
        "For a working end-to-end example, download our [example code](https://github.com/tensorflow/models/tree/master/official/wide_deep/census_main.py[link text](https://) and set the `model_type` flag to `wide`.\n",
        "\n"
      ]
    },
    {
      "metadata": {
        "id": "0YHcct_N_t2e",
        "colab_type": "text"
      },
      "cell_type": "markdown",
      "source": [
        "# Adding Regularization to Prevent Overfitting\n",
        "Regularization is a technique used to avoid overfitting. Overfitting happens when a model performs well on the data it is trained on, but worse on test data that the model has not seen before. Overfitting can occur when a model is excessively complex, such as having too many parameters relative to the number of observed training data. Regularization allows you to control the model's complexity and make the model more generalizable to unseen data.\n",
        "\n",
        "You can add L1 and L2 regularizations to the model with the following code"
      ]
    },
    {
      "metadata": {
        "id": "6LLkhdV9_VF6",
        "colab_type": "code",
        "colab": {
          "base_uri": "https://localhost:8080/",
          "height": 202
        },
        "outputId": "73e45f06-9137-4167-91ba-f29dc6eb6d99"
      },
      "cell_type": "code",
      "source": [
        "model_l1 = tf.estimator.LinearClassifier(\n",
        "    feature_columns=base_columns + crossed_columns,\n",
        "    optimizer=tf.train.FtrlOptimizer(\n",
        "        learning_rate=0.1,\n",
        "        l1_regularization_strength=10.0,\n",
        "        l2_regularization_strength=0.0))\n",
        "\n",
        "model_l1.train(train_inpf)\n",
        "\n",
        "results = model_l1.evaluate(test_inpf)\n",
        "clear_output()\n",
        "for key in sorted(results):\n",
        "  print('%s: %0.2f' % (key, results[key]))"
      ],
      "execution_count": 38,
      "outputs": [
        {
          "output_type": "stream",
          "text": [
            "accuracy: 0.84\n",
            "accuracy_baseline: 0.76\n",
            "auc: 0.88\n",
            "auc_precision_recall: 0.69\n",
            "average_loss: 0.35\n",
            "global_step: 20351.00\n",
            "label/mean: 0.24\n",
            "loss: 22.47\n",
            "precision: 0.69\n",
            "prediction/mean: 0.24\n",
            "recall: 0.56\n"
          ],
          "name": "stdout"
        }
      ]
    },
    {
      "metadata": {
        "id": "ztmm42_R_8j4",
        "colab_type": "code",
        "colab": {
          "base_uri": "https://localhost:8080/",
          "height": 202
        },
        "outputId": "24cf94e4-c126-46c8-b9a5-70c452f7c2db"
      },
      "cell_type": "code",
      "source": [
        "model_l2 = tf.estimator.LinearClassifier(\n",
        "    feature_columns=base_columns + crossed_columns,\n",
        "    optimizer=tf.train.FtrlOptimizer(\n",
        "        learning_rate=0.1,\n",
        "        l1_regularization_strength=0.0,\n",
        "        l2_regularization_strength=10.0))\n",
        "\n",
        "model_l2.train(train_inpf)\n",
        "\n",
        "results = model_l2.evaluate(test_inpf)\n",
        "clear_output()\n",
        "for key in sorted(results):\n",
        "  print('%s: %0.2f' % (key, results[key]))"
      ],
      "execution_count": 39,
      "outputs": [
        {
          "output_type": "stream",
          "text": [
            "accuracy: 0.84\n",
            "accuracy_baseline: 0.76\n",
            "auc: 0.88\n",
            "auc_precision_recall: 0.69\n",
            "average_loss: 0.35\n",
            "global_step: 20351.00\n",
            "label/mean: 0.24\n",
            "loss: 22.46\n",
            "precision: 0.69\n",
            "prediction/mean: 0.24\n",
            "recall: 0.55\n"
          ],
          "name": "stdout"
        }
      ]
    },
    {
      "metadata": {
        "id": "q0URUOfaAE0S",
        "colab_type": "text"
      },
      "cell_type": "markdown",
      "source": [
        "These regularized models don't perform much better than the base model. Let's look at the model's weight distributions to better see the effect of the regularization:\n",
        "\n"
      ]
    },
    {
      "metadata": {
        "id": "qhjre40fAAWN",
        "colab_type": "code",
        "colab": {}
      },
      "cell_type": "code",
      "source": [
        "def get_flat_weights(model):\n",
        "  weight_names = [\n",
        "      name for name in model.get_variable_names()\n",
        "      if \"linear_model\" in name and \"Ftrl\" not in name]\n",
        "\n",
        "  weight_values = [model.get_variable_value(name) for name in weight_names]\n",
        "\n",
        "  weights_flat = np.concatenate([item.flatten() for item in weight_values], axis=0)\n",
        "\n",
        "  return weights_flat\n",
        "\n",
        "weights_flat = get_flat_weights(model)\n",
        "weights_flat_l1 = get_flat_weights(model_l1)\n",
        "weights_flat_l2 = get_flat_weights(model_l2)"
      ],
      "execution_count": 0,
      "outputs": []
    },
    {
      "metadata": {
        "id": "ahe9n1iYALAB",
        "colab_type": "text"
      },
      "cell_type": "markdown",
      "source": [
        "The models have many zero-valued weights caused by unused hash bins (there are many more hash bins than categories in some columns). We can mask these weights when viewing the weight distributions:\n",
        "\n"
      ]
    },
    {
      "metadata": {
        "id": "UHyLHziPAIpj",
        "colab_type": "code",
        "colab": {}
      },
      "cell_type": "code",
      "source": [
        "weight_mask = weights_flat != 0\n",
        "\n",
        "weights_base = weights_flat[weight_mask]\n",
        "weights_l1 = weights_flat_l1[weight_mask]\n",
        "weights_l2 = weights_flat_l2[weight_mask]"
      ],
      "execution_count": 0,
      "outputs": []
    },
    {
      "metadata": {
        "id": "7rCAa5pWARyE",
        "colab_type": "text"
      },
      "cell_type": "markdown",
      "source": [
        "Now plot the distributions:\n",
        "\n"
      ]
    },
    {
      "metadata": {
        "id": "YGYDWSFuAQB6",
        "colab_type": "code",
        "colab": {
          "base_uri": "https://localhost:8080/",
          "height": 1051
        },
        "outputId": "65fa64fa-efcd-4fbf-e65a-0c05d81c55a7"
      },
      "cell_type": "code",
      "source": [
        "plt.figure()\n",
        "_ = plt.hist(weights_base, bins=np.linspace(-3,3,30))\n",
        "plt.title('Base Model')\n",
        "plt.ylim([0,500])\n",
        "\n",
        "plt.figure()\n",
        "_ = plt.hist(weights_l1, bins=np.linspace(-3,3,30))\n",
        "plt.title('L1 - Regularization')\n",
        "plt.ylim([0,500])\n",
        "\n",
        "plt.figure()\n",
        "_ = plt.hist(weights_l2, bins=np.linspace(-3,3,30))\n",
        "plt.title('L2 - Regularization')\n",
        "_=plt.ylim([0,500])\n"
      ],
      "execution_count": 42,
      "outputs": [
        {
          "output_type": "display_data",
          "data": {
            "image/png": "[encoded data removed]",
            "text/plain": [
              "<matplotlib.figure.Figure at 0x7f5fe77a6898>"
            ]
          },
          "metadata": {
            "tags": []
          }
        },
        {
          "output_type": "display_data",
          "data": {
            "image/png": "[encoded data removed]",
            "text/plain": [
              "<matplotlib.figure.Figure at 0x7f5fe761c588>"
            ]
          },
          "metadata": {
            "tags": []
          }
        },
        {
          "output_type": "display_data",
          "data": {
            "image/png": "[encoded data removed]",
            "text/plain": [
              "<matplotlib.figure.Figure at 0x7f5fe768c9b0>"
            ]
          },
          "metadata": {
            "tags": []
          }
        }
      ]
    },
    {
      "metadata": {
        "id": "Q13KmJrNAXtL",
        "colab_type": "text"
      },
      "cell_type": "markdown",
      "source": [
        "Both types of regularization squeeze the distribution of weights towards zero. L2 regularization has a greater effect in the tails of the distribution eliminating extreme weights. L1 regularization produces more exactly-zero values, in this case it sets ~200 to zero.\n",
        "\n"
      ]
    }
  ]
}