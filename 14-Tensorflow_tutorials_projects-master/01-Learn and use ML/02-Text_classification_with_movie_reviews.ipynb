{
  "nbformat": 4,
  "nbformat_minor": 0,
  "metadata": {
    "colab": {
      "name": "Text_classification_with_movie_reviews.ipynb",
      "version": "0.3.2",
      "provenance": [],
      "collapsed_sections": [
        "DqQ2aWjGeaeB"
      ]
    },
    "kernelspec": {
      "name": "python3",
      "display_name": "Python 3"
    }
  },
  "cells": [
    {
      "metadata": {
        "id": "DqQ2aWjGeaeB",
        "colab_type": "text"
      },
      "cell_type": "markdown",
      "source": [
        "# Text classification with movie reviews\n",
        "\n",
        "This notebook classifies movie reviews as positive or negative using the text of the review. This is an example of binary—or two-class—classification, an important and widely applicable kind of machine learning problem.\n",
        "\n",
        "We'll use the [IMDB dataset](https://www.tensorflow.org/api_docs/python/tf/keras/datasets/imdb) that contains the text of 50,000 movie reviews from the [Internet Movie Database](https://www.imdb.com/). These are split into 25,000 reviews for training and 25,000 reviews for testing. The training and testing sets are balanced, meaning they contain an equal number of positive and negative reviews.\n",
        "\n",
        "This notebook uses [tf.keras](https://www.tensorflow.org/guide/keras), a high-level API to build and train models in TensorFlow. For a more advanced text classification tutorial using tf.keras, see the [MLCC Text Classification Guide](https://developers.google.com/machine-learning/guides/text-classification/)."
      ]
    },
    {
      "metadata": {
        "id": "4yVwxenBfcS-",
        "colab_type": "text"
      },
      "cell_type": "markdown",
      "source": [
        "# Import necessary packages"
      ]
    },
    {
      "metadata": {
        "id": "6eeK_dXYeRki",
        "colab_type": "code",
        "colab": {
          "base_uri": "https://localhost:8080/",
          "height": 34
        },
        "outputId": "32a7d6e4-36db-48a6-a943-1da1b12557bb"
      },
      "cell_type": "code",
      "source": [
        "import tensorflow as tf\n",
        "from tensorflow import keras\n",
        "\n",
        "import numpy as np\n",
        "\n",
        "print(tf.__version__)"
      ],
      "execution_count": 1,
      "outputs": [
        {
          "output_type": "stream",
          "text": [
            "1.11.0-rc2\n"
          ],
          "name": "stdout"
        }
      ]
    },
    {
      "metadata": {
        "id": "Arjq6VnlaUo_",
        "colab_type": "text"
      },
      "cell_type": "markdown",
      "source": [
        "# Download the IMDB dataset\n",
        "The IMDB dataset comes packaged with TensorFlow. It has already been preprocessed such that the reviews (sequences of words) have been converted to sequences of integers, where each integer represents a specific word in a dictionary.\n",
        "\n",
        "The following code downloads the IMDB dataset to your machine (or uses a cached copy if you've already downloaded it):\n",
        "\n"
      ]
    },
    {
      "metadata": {
        "id": "13fPCcO0ff9e",
        "colab_type": "code",
        "colab": {
          "base_uri": "https://localhost:8080/",
          "height": 70
        },
        "outputId": "fc50dee4-2798-441a-fde1-1b2c2fd0f28b"
      },
      "cell_type": "code",
      "source": [
        "imdb = keras.datasets.imdb\n",
        "\n",
        "(train_data, train_labels), (test_data, test_labels) = imdb.load_data(num_words=10000)"
      ],
      "execution_count": 2,
      "outputs": [
        {
          "output_type": "stream",
          "text": [
            "Downloading data from https://storage.googleapis.com/tensorflow/tf-keras-datasets/imdb.npz\n",
            "17465344/17464789 [==============================] - 0s 0us/step\n"
          ],
          "name": "stdout"
        }
      ]
    },
    {
      "metadata": {
        "id": "lbJc-a8ZarQs",
        "colab_type": "text"
      },
      "cell_type": "markdown",
      "source": [
        "The argument `num_words=10000 ` keeps the top 10,000 most frequently occurring words in the training data. The rare words are discarded to keep the size of the data manageable."
      ]
    },
    {
      "metadata": {
        "id": "tuR2dnGgbFGx",
        "colab_type": "text"
      },
      "cell_type": "markdown",
      "source": [
        "# Explore the data\n",
        "Let's take a moment to understand the format of the data. The dataset comes preprocessed: each example is an array of integers representing the words of the movie review. Each label is an integer value of either 0 or 1, where 0 is a negative review, and 1 is a positive review."
      ]
    },
    {
      "metadata": {
        "id": "z-AJda_saiuI",
        "colab_type": "code",
        "colab": {
          "base_uri": "https://localhost:8080/",
          "height": 34
        },
        "outputId": "00a59dac-3f2d-4975-8801-216c0040d8eb"
      },
      "cell_type": "code",
      "source": [
        "print(\"Training entries: {}, labels: {}\".format(len(train_data), len(train_labels)))"
      ],
      "execution_count": 3,
      "outputs": [
        {
          "output_type": "stream",
          "text": [
            "Training entries: 25000, labels: 25000\n"
          ],
          "name": "stdout"
        }
      ]
    },
    {
      "metadata": {
        "id": "y1p4Z_MNbrqI",
        "colab_type": "text"
      },
      "cell_type": "markdown",
      "source": [
        "The text of reviews have been converted to integers, where each integer represents a specific word in a dictionary. Here's what the first review looks like:"
      ]
    },
    {
      "metadata": {
        "id": "3_u90FKkbjZT",
        "colab_type": "code",
        "colab": {
          "base_uri": "https://localhost:8080/",
          "height": 54
        },
        "outputId": "de6d5556-64ae-4947-b83d-a627eb3bf17d"
      },
      "cell_type": "code",
      "source": [
        "print(train_data[0])"
      ],
      "execution_count": 5,
      "outputs": [
        {
          "output_type": "stream",
          "text": [
            "[1, 14, 22, 16, 43, 530, 973, 1622, 1385, 65, 458, 4468, 66, 3941, 4, 173, 36, 256, 5, 25, 100, 43, 838, 112, 50, 670, 2, 9, 35, 480, 284, 5, 150, 4, 172, 112, 167, 2, 336, 385, 39, 4, 172, 4536, 1111, 17, 546, 38, 13, 447, 4, 192, 50, 16, 6, 147, 2025, 19, 14, 22, 4, 1920, 4613, 469, 4, 22, 71, 87, 12, 16, 43, 530, 38, 76, 15, 13, 1247, 4, 22, 17, 515, 17, 12, 16, 626, 18, 2, 5, 62, 386, 12, 8, 316, 8, 106, 5, 4, 2223, 5244, 16, 480, 66, 3785, 33, 4, 130, 12, 16, 38, 619, 5, 25, 124, 51, 36, 135, 48, 25, 1415, 33, 6, 22, 12, 215, 28, 77, 52, 5, 14, 407, 16, 82, 2, 8, 4, 107, 117, 5952, 15, 256, 4, 2, 7, 3766, 5, 723, 36, 71, 43, 530, 476, 26, 400, 317, 46, 7, 4, 2, 1029, 13, 104, 88, 4, 381, 15, 297, 98, 32, 2071, 56, 26, 141, 6, 194, 7486, 18, 4, 226, 22, 21, 134, 476, 26, 480, 5, 144, 30, 5535, 18, 51, 36, 28, 224, 92, 25, 104, 4, 226, 65, 16, 38, 1334, 88, 12, 16, 283, 5, 16, 4472, 113, 103, 32, 15, 16, 5345, 19, 178, 32]\n"
          ],
          "name": "stdout"
        }
      ]
    },
    {
      "metadata": {
        "id": "fuLB_5xwb-66",
        "colab_type": "text"
      },
      "cell_type": "markdown",
      "source": [
        "Movie reviews may be different lengths. The below code shows the number of words in the first and second reviews. Since inputs to a neural network must be the same length, we'll need to resolve this later."
      ]
    },
    {
      "metadata": {
        "id": "21tDBAZHbvQ9",
        "colab_type": "code",
        "colab": {
          "base_uri": "https://localhost:8080/",
          "height": 34
        },
        "outputId": "11e34768-5597-4d79-e880-77c1618f9398"
      },
      "cell_type": "code",
      "source": [
        "len(train_data[0]), len(train_data[1])\n"
      ],
      "execution_count": 6,
      "outputs": [
        {
          "output_type": "execute_result",
          "data": {
            "text/plain": [
              "(218, 189)"
            ]
          },
          "metadata": {
            "tags": []
          },
          "execution_count": 6
        }
      ]
    },
    {
      "metadata": {
        "id": "3jbTXCCFcH4t",
        "colab_type": "text"
      },
      "cell_type": "markdown",
      "source": [
        "# Convert the integers back to words\n",
        "It may be useful to know how to convert integers back to text. Here, we'll create a helper function to query a dictionary object that contains the integer to string mapping:"
      ]
    },
    {
      "metadata": {
        "id": "W-cZ-NGhcErn",
        "colab_type": "code",
        "colab": {}
      },
      "cell_type": "code",
      "source": [
        "# A dictionary mapping words to an integer index\n",
        "word_index = imdb.get_word_index()\n",
        "\n",
        "# The first indices are reserved\n",
        "word_index = {k:(v+3) for k,v in word_index.items()} \n",
        "word_index[\"<PAD>\"] = 0\n",
        "word_index[\"<START>\"] = 1\n",
        "word_index[\"<UNK>\"] = 2  # unknown\n",
        "word_index[\"<UNUSED>\"] = 3\n",
        "\n",
        "reverse_word_index = dict([(value, key) for (key, value) in word_index.items()])\n",
        "\n",
        "def decode_review(text):\n",
        "    return ' '.join([reverse_word_index.get(i, '?') for i in text])"
      ],
      "execution_count": 0,
      "outputs": []
    },
    {
      "metadata": {
        "id": "APl9kCYce9Fm",
        "colab_type": "text"
      },
      "cell_type": "markdown",
      "source": [
        "Now we can use the decode_review function to display the text for the first review:"
      ]
    },
    {
      "metadata": {
        "id": "FyoG_qt0cVb5",
        "colab_type": "code",
        "colab": {
          "base_uri": "https://localhost:8080/",
          "height": 54
        },
        "outputId": "0de0d3f1-1b91-49c0-9994-93bedff9f6b7"
      },
      "cell_type": "code",
      "source": [
        "decode_review(train_data[0])\n"
      ],
      "execution_count": 42,
      "outputs": [
        {
          "output_type": "execute_result",
          "data": {
            "text/plain": [
              "\"<START> this film was just brilliant casting location scenery story direction everyone's really suited the part they played and you could just imagine being there robert <UNK> is an amazing actor and now the same being director <UNK> father came from the same scottish island as myself so i loved the fact there was a real connection with this film the witty remarks throughout the film were great it was just brilliant so much that i bought the film as soon as it was released for <UNK> and would recommend it to everyone to watch and the fly fishing was amazing really cried at the end it was so sad and you know what they say if you cry at a film it must have been good and this definitely was also <UNK> to the two little boy's that played the <UNK> of norman and paul they were just brilliant children are often left out of the <UNK> list i think because the stars that play them all grown up are such a big profile for the whole film but these children are amazing and should be praised for what they have done don't you think the whole story was so lovely because it was true and was someone's life after all that was shared with us all <PAD> <PAD> <PAD> <PAD> <PAD> <PAD> <PAD> <PAD> <PAD> <PAD> <PAD> <PAD> <PAD> <PAD> <PAD> <PAD> <PAD> <PAD> <PAD> <PAD> <PAD> <PAD> <PAD> <PAD> <PAD> <PAD> <PAD> <PAD> <PAD> <PAD> <PAD> <PAD> <PAD> <PAD> <PAD> <PAD> <PAD> <PAD>\""
            ]
          },
          "metadata": {
            "tags": []
          },
          "execution_count": 42
        }
      ]
    },
    {
      "metadata": {
        "id": "rGDHLYMEfV5P",
        "colab_type": "text"
      },
      "cell_type": "markdown",
      "source": [
        "# Prepare the data\n",
        "The reviews—the arrays of integers—must be converted to tensors before fed into the neural network. This conversion can be done a couple of ways:\n",
        "\n",
        "* One-hot-encode the arrays to convert them into vectors of 0s and 1s. For example, the sequence [3, 5] would become a 10,000-dimensional vector that is all zeros except for indices 3 and 5, which are ones. Then, make this the first layer in our network—a Dense layer—that can handle floating point vector data. This approach is memory intensive, though, requiring a num_words * num_reviews size matrix.\n",
        "\n",
        "* Alternatively, we can pad the arrays so they all have the same length, then create an integer tensor of shape max_length * num_reviews. We can use an embedding layer capable of handling this shape as the first layer in our network.\n",
        "\n",
        "In this tutorial, we will use the second approach.\n",
        "\n",
        "Since the movie reviews must be the same length, we will use the [pad_sequences](https://www.tensorflow.org/api_docs/python/tf/keras/preprocessing/sequence/pad_sequences) function to standardize the lengths:\n",
        "\n"
      ]
    },
    {
      "metadata": {
        "id": "-hHWZTvufEcA",
        "colab_type": "code",
        "colab": {}
      },
      "cell_type": "code",
      "source": [
        "train_data = keras.preprocessing.sequence.pad_sequences(train_data,\n",
        "                                                        value=word_index[\"<PAD>\"],\n",
        "                                                        padding='post',\n",
        "                                                        maxlen=256)\n",
        "\n",
        "test_data = keras.preprocessing.sequence.pad_sequences(test_data,\n",
        "                                                       value=word_index[\"<PAD>\"],\n",
        "                                                       padding='post',\n",
        "                                                       maxlen=256)"
      ],
      "execution_count": 0,
      "outputs": []
    },
    {
      "metadata": {
        "id": "-fGUyVmmhZYG",
        "colab_type": "text"
      },
      "cell_type": "markdown",
      "source": [
        "Let's look at the length of the examples now:\n",
        "\n"
      ]
    },
    {
      "metadata": {
        "id": "J72o1qoYhXMM",
        "colab_type": "code",
        "colab": {
          "base_uri": "https://localhost:8080/",
          "height": 34
        },
        "outputId": "b21204ea-fea7-4e0f-e15a-267e28d13200"
      },
      "cell_type": "code",
      "source": [
        "len(train_data[0]), len(train_data[1])\n"
      ],
      "execution_count": 13,
      "outputs": [
        {
          "output_type": "execute_result",
          "data": {
            "text/plain": [
              "(256, 256)"
            ]
          },
          "metadata": {
            "tags": []
          },
          "execution_count": 13
        }
      ]
    },
    {
      "metadata": {
        "id": "g18B0j1GhflO",
        "colab_type": "text"
      },
      "cell_type": "markdown",
      "source": [
        "And inspect the (now padded) first review:\n",
        "\n"
      ]
    },
    {
      "metadata": {
        "id": "8G1LeE72hdK-",
        "colab_type": "code",
        "colab": {
          "base_uri": "https://localhost:8080/",
          "height": 336
        },
        "outputId": "d3ced215-5ae8-4ac2-ad29-f16afc00bf6d"
      },
      "cell_type": "code",
      "source": [
        "print(train_data[0])"
      ],
      "execution_count": 14,
      "outputs": [
        {
          "output_type": "stream",
          "text": [
            "[   1   14   22   16   43  530  973 1622 1385   65  458 4468   66 3941\n",
            "    4  173   36  256    5   25  100   43  838  112   50  670    2    9\n",
            "   35  480  284    5  150    4  172  112  167    2  336  385   39    4\n",
            "  172 4536 1111   17  546   38   13  447    4  192   50   16    6  147\n",
            " 2025   19   14   22    4 1920 4613  469    4   22   71   87   12   16\n",
            "   43  530   38   76   15   13 1247    4   22   17  515   17   12   16\n",
            "  626   18    2    5   62  386   12    8  316    8  106    5    4 2223\n",
            " 5244   16  480   66 3785   33    4  130   12   16   38  619    5   25\n",
            "  124   51   36  135   48   25 1415   33    6   22   12  215   28   77\n",
            "   52    5   14  407   16   82    2    8    4  107  117 5952   15  256\n",
            "    4    2    7 3766    5  723   36   71   43  530  476   26  400  317\n",
            "   46    7    4    2 1029   13  104   88    4  381   15  297   98   32\n",
            " 2071   56   26  141    6  194 7486   18    4  226   22   21  134  476\n",
            "   26  480    5  144   30 5535   18   51   36   28  224   92   25  104\n",
            "    4  226   65   16   38 1334   88   12   16  283    5   16 4472  113\n",
            "  103   32   15   16 5345   19  178   32    0    0    0    0    0    0\n",
            "    0    0    0    0    0    0    0    0    0    0    0    0    0    0\n",
            "    0    0    0    0    0    0    0    0    0    0    0    0    0    0\n",
            "    0    0    0    0]\n"
          ],
          "name": "stdout"
        }
      ]
    },
    {
      "metadata": {
        "id": "YXqX9l-2hnjQ",
        "colab_type": "text"
      },
      "cell_type": "markdown",
      "source": [
        "# Build the model\n",
        "The neural network is created by stacking layers—this requires two main architectural decisions:\n",
        "\n",
        "* How many layers to use in the model?\n",
        "* How many hidden units to use for each layer?\n",
        "\n",
        "In this example, the input data consists of an array of word-indices. The labels to predict are either 0 or 1. Let's build a model for this problem:\n",
        "\n"
      ]
    },
    {
      "metadata": {
        "id": "l-z83SRYhh7c",
        "colab_type": "code",
        "colab": {
          "base_uri": "https://localhost:8080/",
          "height": 269
        },
        "outputId": "5f3dcd52-a0bd-4909-faf0-5df503069c2e"
      },
      "cell_type": "code",
      "source": [
        "# input shape is the vocabulary count used for the movie reviews (10,000 words)\n",
        "vocab_size = 10000\n",
        "\n",
        "model = keras.Sequential()\n",
        "model.add(keras.layers.Embedding(vocab_size, 16))\n",
        "model.add(keras.layers.GlobalAveragePooling1D())\n",
        "model.add(keras.layers.Dense(16,activation=tf.nn.relu))\n",
        "model.add(keras.layers.Dense(1,activation=tf.nn.sigmoid))\n",
        "\n",
        "model.summary()"
      ],
      "execution_count": 16,
      "outputs": [
        {
          "output_type": "stream",
          "text": [
            "_________________________________________________________________\n",
            "Layer (type)                 Output Shape              Param #   \n",
            "=================================================================\n",
            "embedding_1 (Embedding)      (None, None, 16)          160000    \n",
            "_________________________________________________________________\n",
            "global_average_pooling1d_1 ( (None, 16)                0         \n",
            "_________________________________________________________________\n",
            "dense_2 (Dense)              (None, 16)                272       \n",
            "_________________________________________________________________\n",
            "dense_3 (Dense)              (None, 1)                 17        \n",
            "=================================================================\n",
            "Total params: 160,289\n",
            "Trainable params: 160,289\n",
            "Non-trainable params: 0\n",
            "_________________________________________________________________\n"
          ],
          "name": "stdout"
        }
      ]
    },
    {
      "metadata": {
        "id": "RhQjYSQ3jOYS",
        "colab_type": "text"
      },
      "cell_type": "markdown",
      "source": [
        "The layers are stacked sequentially to build the classifier:\n",
        "\n",
        "1. The first layer is an Embedding layer. This layer takes the integer-encoded vocabulary and looks up the embedding vector for each word-index. These vectors are learned as the model trains. The vectors add a dimension to the output array. The resulting dimensions are: (batch, sequence, embedding).\n",
        "\n",
        "2. Next, a GlobalAveragePooling1D layer returns a fixed-length output vector for each example by averaging over the sequence dimension. This allows the model can handle input of variable length, in the simplest way possible.\n",
        "\n",
        "3. This fixed-length output vector is piped through a fully-connected (Dense) layer with 16 hidden units.\n",
        "\n",
        "4. The last layer is densely connected with a single output node. Using the sigmoid activation function, this value is a float between 0 and 1, representing a probability, or confidence level.\n"
      ]
    },
    {
      "metadata": {
        "id": "qx4gsnr9oRGh",
        "colab_type": "text"
      },
      "cell_type": "markdown",
      "source": [
        "# Hidden units\n",
        "The above model has two intermediate or \"hidden\" layers, between the input and output. The number of outputs (units, nodes, or neurons) is the dimension of the representational space for the layer. In other words, the amount of freedom the network is allowed when learning an internal representation.\n",
        "\n",
        "If a model has more hidden units (a higher-dimensional representation space), and/or more layers, then the network can learn more complex representations. However, it makes the network more computationally expensive and may lead to learning unwanted patterns—patterns that improve performance on training data but not on the test data. This is called overfitting, and we'll explore it later.\n",
        "\n"
      ]
    },
    {
      "metadata": {
        "id": "vtTXGNnmpQTs",
        "colab_type": "text"
      },
      "cell_type": "markdown",
      "source": [
        "# Loss function and optimizer\n",
        "A model needs a loss function and an optimizer for training. Since this is a binary classification problem and the model outputs of a probability (a single-unit layer with a sigmoid activation), we'll use the `binary_crossentropy` loss function.\n",
        "\n",
        "This isn't the only choice for a loss function, you could, for instance, choose `mean_squared_error`. But, generally, `binary_crossentropy` is better for dealing with probabilities—it measures the \"distance\" between probability distributions, or in our case, between the ground-truth distribution and the predictions.\n",
        "\n",
        "Later, when we are exploring regression problems (say, to predict the price of a house), we will see how to use another loss function called mean squared error.\n",
        "\n",
        "Now, configure the model to use an optimizer and a loss function:"
      ]
    },
    {
      "metadata": {
        "id": "QHzEiJJ-i-F2",
        "colab_type": "code",
        "colab": {}
      },
      "cell_type": "code",
      "source": [
        "model.compile(optimizer=tf.train.AdamOptimizer(),\n",
        "             loss='binary_crossentropy',\n",
        "             metrics=['accuracy'])"
      ],
      "execution_count": 0,
      "outputs": []
    },
    {
      "metadata": {
        "id": "4l7izBk3qSAL",
        "colab_type": "text"
      },
      "cell_type": "markdown",
      "source": [
        "# Create a validation set\n",
        "When training, we want to check the accuracy of the model on data it hasn't seen before. Create a validation set by setting apart 10,000 examples from the original training data. (Why not use the testing set now? Our goal is to develop and tune our model using only the training data, then use the test data just once to evaluate our accuracy)."
      ]
    },
    {
      "metadata": {
        "id": "vahezPE1qN3q",
        "colab_type": "code",
        "colab": {}
      },
      "cell_type": "code",
      "source": [
        "x_val = train_data[:10000]\n",
        "partial_x_train = train_data[10000:]\n",
        "\n",
        "y_val = train_labels[:10000]\n",
        "partial_y_train = train_labels[10000:]"
      ],
      "execution_count": 0,
      "outputs": []
    },
    {
      "metadata": {
        "id": "kA1u1vOirTRO",
        "colab_type": "text"
      },
      "cell_type": "markdown",
      "source": [
        "# Train the model\n",
        "Train the model for 40 epochs in mini-batches of 512 samples. This is 40 iterations over all samples in the x_train and y_train tensors. While training, monitor the model's loss and accuracy on the 10,000 samples from the validation set:"
      ]
    },
    {
      "metadata": {
        "id": "Vatjzba9qisk",
        "colab_type": "code",
        "colab": {
          "base_uri": "https://localhost:8080/",
          "height": 1398
        },
        "outputId": "71ea840f-c30f-4247-e96e-10643cf2f11d"
      },
      "cell_type": "code",
      "source": [
        "history = model.fit(partial_x_train,\n",
        "                    partial_y_train,\n",
        "                    epochs=40,\n",
        "                    batch_size=512,\n",
        "                    validation_data=(x_val, y_val),\n",
        "                    verbose=1)"
      ],
      "execution_count": 49,
      "outputs": [
        {
          "output_type": "stream",
          "text": [
            "Train on 15000 samples, validate on 10000 samples\n",
            "Epoch 1/40\n",
            "15000/15000 [==============================] - 1s 65us/step - loss: 0.6916 - acc: 0.5763 - val_loss: 0.6894 - val_acc: 0.6409\n",
            "Epoch 2/40\n",
            "15000/15000 [==============================] - 1s 49us/step - loss: 0.6848 - acc: 0.7297 - val_loss: 0.6798 - val_acc: 0.7523\n",
            "Epoch 3/40\n",
            "15000/15000 [==============================] - 1s 60us/step - loss: 0.6698 - acc: 0.7698 - val_loss: 0.6610 - val_acc: 0.7617\n",
            "Epoch 4/40\n",
            "15000/15000 [==============================] - 1s 63us/step - loss: 0.6435 - acc: 0.7776 - val_loss: 0.6323 - val_acc: 0.7709\n",
            "Epoch 5/40\n",
            "15000/15000 [==============================] - 1s 62us/step - loss: 0.6063 - acc: 0.8009 - val_loss: 0.5934 - val_acc: 0.7913\n",
            "Epoch 6/40\n",
            "15000/15000 [==============================] - 1s 62us/step - loss: 0.5610 - acc: 0.8178 - val_loss: 0.5504 - val_acc: 0.8085\n",
            "Epoch 7/40\n",
            "15000/15000 [==============================] - 1s 61us/step - loss: 0.5121 - acc: 0.8383 - val_loss: 0.5065 - val_acc: 0.8235\n",
            "Epoch 8/40\n",
            "15000/15000 [==============================] - 1s 60us/step - loss: 0.4647 - acc: 0.8524 - val_loss: 0.4657 - val_acc: 0.8370\n",
            "Epoch 9/40\n",
            "15000/15000 [==============================] - 1s 61us/step - loss: 0.4221 - acc: 0.8635 - val_loss: 0.4306 - val_acc: 0.8463\n",
            "Epoch 10/40\n",
            "15000/15000 [==============================] - 1s 63us/step - loss: 0.3849 - acc: 0.8773 - val_loss: 0.4019 - val_acc: 0.8536\n",
            "Epoch 11/40\n",
            "15000/15000 [==============================] - 1s 62us/step - loss: 0.3541 - acc: 0.8839 - val_loss: 0.3807 - val_acc: 0.8574\n",
            "Epoch 12/40\n",
            "15000/15000 [==============================] - 1s 61us/step - loss: 0.3285 - acc: 0.8907 - val_loss: 0.3598 - val_acc: 0.8660\n",
            "Epoch 13/40\n",
            "15000/15000 [==============================] - 1s 62us/step - loss: 0.3053 - acc: 0.8986 - val_loss: 0.3454 - val_acc: 0.8693\n",
            "Epoch 14/40\n",
            "15000/15000 [==============================] - 1s 60us/step - loss: 0.2861 - acc: 0.9037 - val_loss: 0.3325 - val_acc: 0.8728\n",
            "Epoch 15/40\n",
            "15000/15000 [==============================] - 1s 62us/step - loss: 0.2695 - acc: 0.9082 - val_loss: 0.3227 - val_acc: 0.8761\n",
            "Epoch 16/40\n",
            "15000/15000 [==============================] - 1s 63us/step - loss: 0.2552 - acc: 0.9121 - val_loss: 0.3146 - val_acc: 0.8781\n",
            "Epoch 17/40\n",
            "15000/15000 [==============================] - 1s 61us/step - loss: 0.2413 - acc: 0.9174 - val_loss: 0.3079 - val_acc: 0.8790\n",
            "Epoch 18/40\n",
            "15000/15000 [==============================] - 1s 61us/step - loss: 0.2293 - acc: 0.9223 - val_loss: 0.3024 - val_acc: 0.8812\n",
            "Epoch 19/40\n",
            "15000/15000 [==============================] - 1s 61us/step - loss: 0.2181 - acc: 0.9254 - val_loss: 0.2980 - val_acc: 0.8825\n",
            "Epoch 20/40\n",
            "15000/15000 [==============================] - 1s 61us/step - loss: 0.2083 - acc: 0.9286 - val_loss: 0.2943 - val_acc: 0.8836\n",
            "Epoch 21/40\n",
            "15000/15000 [==============================] - 1s 62us/step - loss: 0.1986 - acc: 0.9322 - val_loss: 0.2914 - val_acc: 0.8837\n",
            "Epoch 22/40\n",
            "15000/15000 [==============================] - 1s 61us/step - loss: 0.1898 - acc: 0.9362 - val_loss: 0.2894 - val_acc: 0.8842\n",
            "Epoch 23/40\n",
            "15000/15000 [==============================] - 1s 63us/step - loss: 0.1817 - acc: 0.9403 - val_loss: 0.2881 - val_acc: 0.8839\n",
            "Epoch 24/40\n",
            "15000/15000 [==============================] - 1s 63us/step - loss: 0.1736 - acc: 0.9444 - val_loss: 0.2862 - val_acc: 0.8839\n",
            "Epoch 25/40\n",
            "15000/15000 [==============================] - 1s 62us/step - loss: 0.1665 - acc: 0.9472 - val_loss: 0.2854 - val_acc: 0.8846\n",
            "Epoch 26/40\n",
            "15000/15000 [==============================] - 1s 61us/step - loss: 0.1594 - acc: 0.9495 - val_loss: 0.2855 - val_acc: 0.8851\n",
            "Epoch 27/40\n",
            "15000/15000 [==============================] - 1s 63us/step - loss: 0.1535 - acc: 0.9523 - val_loss: 0.2859 - val_acc: 0.8852\n",
            "Epoch 28/40\n",
            "15000/15000 [==============================] - 1s 64us/step - loss: 0.1472 - acc: 0.9558 - val_loss: 0.2856 - val_acc: 0.8861\n",
            "Epoch 29/40\n",
            "15000/15000 [==============================] - 1s 63us/step - loss: 0.1414 - acc: 0.9566 - val_loss: 0.2861 - val_acc: 0.8864\n",
            "Epoch 30/40\n",
            "15000/15000 [==============================] - 1s 61us/step - loss: 0.1363 - acc: 0.9592 - val_loss: 0.2873 - val_acc: 0.8866\n",
            "Epoch 31/40\n",
            "15000/15000 [==============================] - 1s 61us/step - loss: 0.1303 - acc: 0.9615 - val_loss: 0.2887 - val_acc: 0.8861\n",
            "Epoch 32/40\n",
            "15000/15000 [==============================] - 1s 61us/step - loss: 0.1257 - acc: 0.9637 - val_loss: 0.2905 - val_acc: 0.8859\n",
            "Epoch 33/40\n",
            "15000/15000 [==============================] - 1s 61us/step - loss: 0.1202 - acc: 0.9659 - val_loss: 0.2923 - val_acc: 0.8863\n",
            "Epoch 34/40\n",
            "15000/15000 [==============================] - 1s 62us/step - loss: 0.1158 - acc: 0.9677 - val_loss: 0.2945 - val_acc: 0.8853\n",
            "Epoch 35/40\n",
            "15000/15000 [==============================] - 1s 61us/step - loss: 0.1118 - acc: 0.9686 - val_loss: 0.2963 - val_acc: 0.8860\n",
            "Epoch 36/40\n",
            "15000/15000 [==============================] - 1s 62us/step - loss: 0.1069 - acc: 0.9705 - val_loss: 0.2991 - val_acc: 0.8838\n",
            "Epoch 37/40\n",
            "15000/15000 [==============================] - 1s 60us/step - loss: 0.1030 - acc: 0.9720 - val_loss: 0.3019 - val_acc: 0.8838\n",
            "Epoch 38/40\n",
            "15000/15000 [==============================] - 1s 61us/step - loss: 0.0995 - acc: 0.9723 - val_loss: 0.3048 - val_acc: 0.8835\n",
            "Epoch 39/40\n",
            "15000/15000 [==============================] - 1s 61us/step - loss: 0.0952 - acc: 0.9743 - val_loss: 0.3073 - val_acc: 0.8837\n",
            "Epoch 40/40\n",
            "15000/15000 [==============================] - 1s 62us/step - loss: 0.0914 - acc: 0.9767 - val_loss: 0.3106 - val_acc: 0.8830\n"
          ],
          "name": "stdout"
        }
      ]
    },
    {
      "metadata": {
        "id": "nf_WIRbIrr38",
        "colab_type": "text"
      },
      "cell_type": "markdown",
      "source": [
        "# Evaluate the model\n",
        "And let's see how the model performs. Two values will be returned. Loss (a number which represents our error, lower values are better), and accuracy."
      ]
    },
    {
      "metadata": {
        "id": "wPaB8y5CrhIa",
        "colab_type": "code",
        "colab": {
          "base_uri": "https://localhost:8080/",
          "height": 50
        },
        "outputId": "b4d6c240-2ce2-4bd6-9264-529450401d0b"
      },
      "cell_type": "code",
      "source": [
        "results = model.evaluate(test_data, test_labels)\n",
        "\n",
        "print(results)"
      ],
      "execution_count": 50,
      "outputs": [
        {
          "output_type": "stream",
          "text": [
            "25000/25000 [==============================] - 1s 35us/step\n",
            "[0.33116998891830446, 0.87284]\n"
          ],
          "name": "stdout"
        }
      ]
    },
    {
      "metadata": {
        "id": "7kzNbB3wsGVO",
        "colab_type": "text"
      },
      "cell_type": "markdown",
      "source": [
        "This fairly naive approach achieves an accuracy of about 87%. WIth more advanced approaches, the model should get closer to 95%.\n",
        "\n"
      ]
    },
    {
      "metadata": {
        "id": "2ikgZLXSsMtC",
        "colab_type": "text"
      },
      "cell_type": "markdown",
      "source": [
        "# Create a graph of accuracy and loss over time\n",
        "model.fit() returns a History object that contains a dictionary with everything that happened during training:\n",
        "\n"
      ]
    },
    {
      "metadata": {
        "id": "Hg8MAXb2sAHe",
        "colab_type": "code",
        "colab": {
          "base_uri": "https://localhost:8080/",
          "height": 34
        },
        "outputId": "3ea89cc4-66de-4300-d0cd-d1f105a19b92"
      },
      "cell_type": "code",
      "source": [
        "history_dict = history.history\n",
        "history_dict.keys()"
      ],
      "execution_count": 51,
      "outputs": [
        {
          "output_type": "execute_result",
          "data": {
            "text/plain": [
              "dict_keys(['val_loss', 'val_acc', 'loss', 'acc'])"
            ]
          },
          "metadata": {
            "tags": []
          },
          "execution_count": 51
        }
      ]
    },
    {
      "metadata": {
        "id": "5cFZuV9Ysay0",
        "colab_type": "text"
      },
      "cell_type": "markdown",
      "source": [
        "There are four entries: one for each monitored metric during training and validation. We can use these to plot the training and validation loss for comparison, as well as the training and validation accuracy:"
      ]
    },
    {
      "metadata": {
        "id": "msqp35_gsWsE",
        "colab_type": "code",
        "colab": {
          "base_uri": "https://localhost:8080/",
          "height": 376
        },
        "outputId": "52b6718e-9505-4ba3-fd90-acbc7e45d77c"
      },
      "cell_type": "code",
      "source": [
        "import matplotlib.pyplot as plt\n",
        "\n",
        "acc = history.history['acc']\n",
        "val_acc = history.history['val_acc']\n",
        "loss = history.history['loss']\n",
        "val_loss = history.history['val_loss']\n",
        "\n",
        "epochs = range(1, len(acc) + 1)\n",
        "\n",
        "# \"bo\" is for \"blue dot\"\n",
        "plt.plot(epochs, loss, 'bo', label='Training loss')\n",
        "# b is for \"solid blue line\"\n",
        "plt.plot(epochs, val_loss, 'b', label='Validation loss')\n",
        "plt.title('Training and validation loss')\n",
        "plt.xlabel('Epochs')\n",
        "plt.ylabel('Loss')\n",
        "plt.legend()\n",
        "\n",
        "plt.show()"
      ],
      "execution_count": 52,
      "outputs": [
        {
          "output_type": "display_data",
          "data": {
            "image/png": "[encoded data removed]",
            "text/plain": [
              "<matplotlib.figure.Figure at 0x7ff870b580b8>"
            ]
          },
          "metadata": {
            "tags": []
          }
        }
      ]
    },
    {
      "metadata": {
        "id": "qvX7v_qnshqy",
        "colab_type": "code",
        "colab": {
          "base_uri": "https://localhost:8080/",
          "height": 376
        },
        "outputId": "136b5ed1-b92f-47f5-a798-52f08bfa4d03"
      },
      "cell_type": "code",
      "source": [
        "plt.clf()   # clear figure\n",
        "acc_values = history_dict['acc']\n",
        "val_acc_values = history_dict['val_acc']\n",
        "\n",
        "plt.plot(epochs, acc, 'bo', label='Training acc')\n",
        "plt.plot(epochs, val_acc, 'b', label='Validation acc')\n",
        "plt.title('Training and validation accuracy')\n",
        "plt.xlabel('Epochs')\n",
        "plt.ylabel('Accuracy')\n",
        "plt.legend()\n",
        "\n",
        "plt.show()"
      ],
      "execution_count": 53,
      "outputs": [
        {
          "output_type": "display_data",
          "data": {
            "image/png": "[encoded data removed]",
            "text/plain": [
              "<matplotlib.figure.Figure at 0x7ff8711b7be0>"
            ]
          },
          "metadata": {
            "tags": []
          }
        }
      ]
    },
    {
      "metadata": {
        "id": "rly2XX5qsqOp",
        "colab_type": "text"
      },
      "cell_type": "markdown",
      "source": [
        "In this plot, the dots represent the training loss and accuracy, and the solid lines are the validation loss and accuracy.\n",
        "\n",
        "Notice the training loss decreases with each epoch and the training accuracy increases with each epoch. This is expected when using a gradient descent optimization—it should minimize the desired quantity on every iteration.\n",
        "\n",
        "This isn't the case for the validation loss and accuracy—they seem to peak after about twenty epochs. This is an example of overfitting: the model performs better on the training data than it does on data it has never seen before. After this point, the model over-optimizes and learns representations specific to the training data that do not generalize to test data.\n",
        "\n",
        "For this particular case, we could prevent overfitting by simply stopping the training after twenty or so epochs. Later, you'll see how to do this automatically with a callback."
      ]
    }
  ]
}