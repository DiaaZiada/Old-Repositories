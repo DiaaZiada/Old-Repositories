{
  "nbformat": 4,
  "nbformat_minor": 0,
  "metadata": {
    "colab": {
      "name": "Save_and_restore_models.ipynb",
      "version": "0.3.2",
      "provenance": [],
      "collapsed_sections": []
    },
    "kernelspec": {
      "name": "python3",
      "display_name": "Python 3"
    }
  },
  "cells": [
    {
      "metadata": {
        "id": "jbcxX-_yhnUs",
        "colab_type": "text"
      },
      "cell_type": "markdown",
      "source": [
        "# Save and restore models\n",
        "Model progress can be saved during—and after—training. This means a model can resume where it left off and avoid long training times. Saving also means you can share your model and others can recreate your work. When publishing research models and techniques, most machine learning practitioners share:\n",
        "\n",
        "* code to create the model, and\n",
        "* the trained weights, or parameters, for the model\n",
        "\n",
        "Sharing this data helps others understand how the model works and try it themselves with new data.\n",
        "\n"
      ]
    },
    {
      "metadata": {
        "id": "x02f8RE_iLSY",
        "colab_type": "text"
      },
      "cell_type": "markdown",
      "source": [
        "# Options\n",
        "There are different ways to save TensorFlow models—depending on the API you're using. This guide uses [tf.keras](https://www.tensorflow.org/guide/keras), a high-level API to build and train models in TensorFlow. For other approaches, see the TensorFlow [Save and Restore](https://www.tensorflow.org/guide/saved_model) guide or [Saving in eager](https://www.tensorflow.org/guide/eager#object_based_saving).\n",
        "\n"
      ]
    },
    {
      "metadata": {
        "id": "gcqvhCfyjKaE",
        "colab_type": "text"
      },
      "cell_type": "markdown",
      "source": [
        "# Setup\n",
        "** Installs and imports **\n",
        "\n",
        "Install and import TensorFlow and dependencies:"
      ]
    },
    {
      "metadata": {
        "id": "eJnqe5cAhhnL",
        "colab_type": "code",
        "colab": {}
      },
      "cell_type": "code",
      "source": [
        "!pip install -q h5py pyyaml "
      ],
      "execution_count": 0,
      "outputs": []
    },
    {
      "metadata": {
        "id": "mq8oPVodjgrl",
        "colab_type": "text"
      },
      "cell_type": "markdown",
      "source": [
        "# Get an example dataset\n",
        "We'll use the [MNIST dataset](http://yann.lecun.com/exdb/mnist/) to train our model to demonstrate saving weights. To speed up these demonstration runs, only use the first 1000 examples:"
      ]
    },
    {
      "metadata": {
        "id": "UdJMUK3MjT3G",
        "colab_type": "code",
        "colab": {
          "base_uri": "https://localhost:8080/",
          "height": 34
        },
        "outputId": "3e9919d6-0b82-4523-b1dd-25f84bf3b421"
      },
      "cell_type": "code",
      "source": [
        "from __future__ import absolute_import, division, print_function\n",
        "\n",
        "import os\n",
        "\n",
        "import tensorflow as tf\n",
        "from tensorflow import keras\n",
        "\n",
        "tf.__version__"
      ],
      "execution_count": 2,
      "outputs": [
        {
          "output_type": "execute_result",
          "data": {
            "text/plain": [
              "'1.11.0-rc2'"
            ]
          },
          "metadata": {
            "tags": []
          },
          "execution_count": 2
        }
      ]
    },
    {
      "metadata": {
        "id": "7JxHlM17juVg",
        "colab_type": "code",
        "colab": {
          "base_uri": "https://localhost:8080/",
          "height": 70
        },
        "outputId": "bc7131ec-33de-4c8f-eab6-cbe578ccd001"
      },
      "cell_type": "code",
      "source": [
        "(train_images, train_labels), (test_images, test_labels) = tf.keras.datasets.mnist.load_data()\n",
        "\n",
        "train_labels = train_labels[:1000]\n",
        "test_labels = test_labels[:1000]\n",
        "\n",
        "train_images = train_images[:1000].reshape(-1, 28 * 28) / 255.0\n",
        "test_images = test_images[:1000].reshape(-1, 28 * 28) / 255.0"
      ],
      "execution_count": 3,
      "outputs": [
        {
          "output_type": "stream",
          "text": [
            "Downloading data from https://storage.googleapis.com/tensorflow/tf-keras-datasets/mnist.npz\n",
            "11493376/11490434 [==============================] - 0s 0us/step\n"
          ],
          "name": "stdout"
        }
      ]
    },
    {
      "metadata": {
        "id": "HTyKSxMUj2yt",
        "colab_type": "text"
      },
      "cell_type": "markdown",
      "source": [
        "# Define a model\n",
        "Let's build a simple model we'll use to demonstrate saving and loading weights.\n",
        "\n"
      ]
    },
    {
      "metadata": {
        "id": "-WjXFXqVjx0y",
        "colab_type": "code",
        "colab": {
          "base_uri": "https://localhost:8080/",
          "height": 235
        },
        "outputId": "bc03f9e0-abc5-40af-83c2-4b31db637139"
      },
      "cell_type": "code",
      "source": [
        "# Returns a short sequential model\n",
        "def create_model():\n",
        "  model = tf.keras.models.Sequential([\n",
        "    keras.layers.Dense(512, activation=tf.nn.relu, input_shape=(784,)),\n",
        "    keras.layers.Dropout(0.2),\n",
        "    keras.layers.Dense(10, activation=tf.nn.softmax)\n",
        "  ])\n",
        "  \n",
        "  model.compile(optimizer=tf.keras.optimizers.Adam(), \n",
        "                loss=tf.keras.losses.sparse_categorical_crossentropy,\n",
        "                metrics=['accuracy'])\n",
        "  \n",
        "  return model\n",
        "\n",
        "\n",
        "# Create a basic model instance\n",
        "model = create_model()\n",
        "model.summary()"
      ],
      "execution_count": 4,
      "outputs": [
        {
          "output_type": "stream",
          "text": [
            "_________________________________________________________________\n",
            "Layer (type)                 Output Shape              Param #   \n",
            "=================================================================\n",
            "dense (Dense)                (None, 512)               401920    \n",
            "_________________________________________________________________\n",
            "dropout (Dropout)            (None, 512)               0         \n",
            "_________________________________________________________________\n",
            "dense_1 (Dense)              (None, 10)                5130      \n",
            "=================================================================\n",
            "Total params: 407,050\n",
            "Trainable params: 407,050\n",
            "Non-trainable params: 0\n",
            "_________________________________________________________________\n"
          ],
          "name": "stdout"
        }
      ]
    },
    {
      "metadata": {
        "id": "68BPYjNDkDlp",
        "colab_type": "text"
      },
      "cell_type": "markdown",
      "source": [
        "# Save checkpoints during training\n",
        "The primary use case is to automatically save checkpoints during and at the end of training. This way you can use a trained model without having to retrain it, or pick-up training where you left of—in case the training process was interrupted.\n",
        "\n",
        "`tf.keras.callbacks.ModelCheckpoint` is a callback that performs this task. The callback takes a couple of arguments to configure checkpointing.\n",
        "\n",
        "** Checkpoint callback usage **\n",
        "Train the model and pass it the ModelCheckpoint callback:"
      ]
    },
    {
      "metadata": {
        "id": "hbnPTnRXkAlw",
        "colab_type": "code",
        "colab": {
          "base_uri": "https://localhost:8080/",
          "height": 1246
        },
        "outputId": "af5d890d-37c0-4b59-aeff-196f33d16f7f"
      },
      "cell_type": "code",
      "source": [
        "checkpoint_path = \"training_1/cp.ckpt\"\n",
        "checkpoint_dir = os.path.dirname(checkpoint_path)\n",
        "\n",
        "# Create checkpoint callback\n",
        "cp_callback = tf.keras.callbacks.ModelCheckpoint(checkpoint_path, \n",
        "                                                 save_weights_only=True,\n",
        "                                                 verbose=1)\n",
        "\n",
        "model = create_model()\n",
        "\n",
        "model.fit(train_images, train_labels,  epochs = 10, \n",
        "          validation_data = (test_images,test_labels),\n",
        "          callbacks = [cp_callback])  # pass callback to training"
      ],
      "execution_count": 5,
      "outputs": [
        {
          "output_type": "stream",
          "text": [
            "Train on 1000 samples, validate on 1000 samples\n",
            "Epoch 1/10\n",
            " 832/1000 [=======================>......] - ETA: 0s - loss: 1.2421 - acc: 0.6274\n",
            "Epoch 00001: saving model to training_1/cp.ckpt\n",
            "WARNING:tensorflow:This model was compiled with a Keras optimizer (<tensorflow.python.keras.optimizers.Adam object at 0x7f7889f79a90>) but is being saved in TensorFlow format with `save_weights`. The model's weights will be saved, but unlike with TensorFlow optimizers in the TensorFlow format the optimizer's state will not be saved.\n",
            "\n",
            "Consider using a TensorFlow optimizer from `tf.train`.\n",
            "1000/1000 [==============================] - 1s 717us/step - loss: 1.1558 - acc: 0.6560 - val_loss: 0.7525 - val_acc: 0.7650\n",
            "Epoch 2/10\n",
            " 992/1000 [============================>.] - ETA: 0s - loss: 0.4308 - acc: 0.8690\n",
            "Epoch 00002: saving model to training_1/cp.ckpt\n",
            "WARNING:tensorflow:This model was compiled with a Keras optimizer (<tensorflow.python.keras.optimizers.Adam object at 0x7f7889f79a90>) but is being saved in TensorFlow format with `save_weights`. The model's weights will be saved, but unlike with TensorFlow optimizers in the TensorFlow format the optimizer's state will not be saved.\n",
            "\n",
            "Consider using a TensorFlow optimizer from `tf.train`.\n",
            "1000/1000 [==============================] - 0s 436us/step - loss: 0.4325 - acc: 0.8690 - val_loss: 0.5145 - val_acc: 0.8540\n",
            "Epoch 3/10\n",
            " 928/1000 [==========================>...] - ETA: 0s - loss: 0.2902 - acc: 0.9149\n",
            "Epoch 00003: saving model to training_1/cp.ckpt\n",
            "WARNING:tensorflow:This model was compiled with a Keras optimizer (<tensorflow.python.keras.optimizers.Adam object at 0x7f7889f79a90>) but is being saved in TensorFlow format with `save_weights`. The model's weights will be saved, but unlike with TensorFlow optimizers in the TensorFlow format the optimizer's state will not be saved.\n",
            "\n",
            "Consider using a TensorFlow optimizer from `tf.train`.\n",
            "1000/1000 [==============================] - 0s 402us/step - loss: 0.2905 - acc: 0.9160 - val_loss: 0.4710 - val_acc: 0.8500\n",
            "Epoch 4/10\n",
            " 928/1000 [==========================>...] - ETA: 0s - loss: 0.2060 - acc: 0.9515\n",
            "Epoch 00004: saving model to training_1/cp.ckpt\n",
            "WARNING:tensorflow:This model was compiled with a Keras optimizer (<tensorflow.python.keras.optimizers.Adam object at 0x7f7889f79a90>) but is being saved in TensorFlow format with `save_weights`. The model's weights will be saved, but unlike with TensorFlow optimizers in the TensorFlow format the optimizer's state will not be saved.\n",
            "\n",
            "Consider using a TensorFlow optimizer from `tf.train`.\n",
            "1000/1000 [==============================] - 0s 369us/step - loss: 0.2057 - acc: 0.9500 - val_loss: 0.4626 - val_acc: 0.8460\n",
            "Epoch 5/10\n",
            " 992/1000 [============================>.] - ETA: 0s - loss: 0.1567 - acc: 0.9688\n",
            "Epoch 00005: saving model to training_1/cp.ckpt\n",
            "WARNING:tensorflow:This model was compiled with a Keras optimizer (<tensorflow.python.keras.optimizers.Adam object at 0x7f7889f79a90>) but is being saved in TensorFlow format with `save_weights`. The model's weights will be saved, but unlike with TensorFlow optimizers in the TensorFlow format the optimizer's state will not be saved.\n",
            "\n",
            "Consider using a TensorFlow optimizer from `tf.train`.\n",
            "1000/1000 [==============================] - 0s 356us/step - loss: 0.1560 - acc: 0.9690 - val_loss: 0.4234 - val_acc: 0.8590\n",
            "Epoch 6/10\n",
            " 992/1000 [============================>.] - ETA: 0s - loss: 0.1115 - acc: 0.9798\n",
            "Epoch 00006: saving model to training_1/cp.ckpt\n",
            "WARNING:tensorflow:This model was compiled with a Keras optimizer (<tensorflow.python.keras.optimizers.Adam object at 0x7f7889f79a90>) but is being saved in TensorFlow format with `save_weights`. The model's weights will be saved, but unlike with TensorFlow optimizers in the TensorFlow format the optimizer's state will not be saved.\n",
            "\n",
            "Consider using a TensorFlow optimizer from `tf.train`.\n",
            "1000/1000 [==============================] - 0s 353us/step - loss: 0.1119 - acc: 0.9800 - val_loss: 0.4261 - val_acc: 0.8600\n",
            "Epoch 7/10\n",
            " 960/1000 [===========================>..] - ETA: 0s - loss: 0.0892 - acc: 0.9865\n",
            "Epoch 00007: saving model to training_1/cp.ckpt\n",
            "WARNING:tensorflow:This model was compiled with a Keras optimizer (<tensorflow.python.keras.optimizers.Adam object at 0x7f7889f79a90>) but is being saved in TensorFlow format with `save_weights`. The model's weights will be saved, but unlike with TensorFlow optimizers in the TensorFlow format the optimizer's state will not be saved.\n",
            "\n",
            "Consider using a TensorFlow optimizer from `tf.train`.\n",
            "1000/1000 [==============================] - 0s 357us/step - loss: 0.0880 - acc: 0.9870 - val_loss: 0.4062 - val_acc: 0.8690\n",
            "Epoch 8/10\n",
            " 992/1000 [============================>.] - ETA: 0s - loss: 0.0643 - acc: 0.9899\n",
            "Epoch 00008: saving model to training_1/cp.ckpt\n",
            "WARNING:tensorflow:This model was compiled with a Keras optimizer (<tensorflow.python.keras.optimizers.Adam object at 0x7f7889f79a90>) but is being saved in TensorFlow format with `save_weights`. The model's weights will be saved, but unlike with TensorFlow optimizers in the TensorFlow format the optimizer's state will not be saved.\n",
            "\n",
            "Consider using a TensorFlow optimizer from `tf.train`.\n",
            "1000/1000 [==============================] - 0s 361us/step - loss: 0.0646 - acc: 0.9900 - val_loss: 0.4049 - val_acc: 0.8630\n",
            "Epoch 9/10\n",
            " 992/1000 [============================>.] - ETA: 0s - loss: 0.0531 - acc: 0.9960\n",
            "Epoch 00009: saving model to training_1/cp.ckpt\n",
            "WARNING:tensorflow:This model was compiled with a Keras optimizer (<tensorflow.python.keras.optimizers.Adam object at 0x7f7889f79a90>) but is being saved in TensorFlow format with `save_weights`. The model's weights will be saved, but unlike with TensorFlow optimizers in the TensorFlow format the optimizer's state will not be saved.\n",
            "\n",
            "Consider using a TensorFlow optimizer from `tf.train`.\n",
            "1000/1000 [==============================] - 0s 360us/step - loss: 0.0534 - acc: 0.9960 - val_loss: 0.4198 - val_acc: 0.8710\n",
            "Epoch 10/10\n",
            " 992/1000 [============================>.] - ETA: 0s - loss: 0.0447 - acc: 0.9970\n",
            "Epoch 00010: saving model to training_1/cp.ckpt\n",
            "WARNING:tensorflow:This model was compiled with a Keras optimizer (<tensorflow.python.keras.optimizers.Adam object at 0x7f7889f79a90>) but is being saved in TensorFlow format with `save_weights`. The model's weights will be saved, but unlike with TensorFlow optimizers in the TensorFlow format the optimizer's state will not be saved.\n",
            "\n",
            "Consider using a TensorFlow optimizer from `tf.train`.\n",
            "1000/1000 [==============================] - 0s 363us/step - loss: 0.0444 - acc: 0.9970 - val_loss: 0.4016 - val_acc: 0.8740\n"
          ],
          "name": "stdout"
        },
        {
          "output_type": "execute_result",
          "data": {
            "text/plain": [
              "<tensorflow.python.keras.callbacks.History at 0x7f788916f668>"
            ]
          },
          "metadata": {
            "tags": []
          },
          "execution_count": 5
        }
      ]
    },
    {
      "metadata": {
        "id": "_pV-Hb60koL3",
        "colab_type": "text"
      },
      "cell_type": "markdown",
      "source": [
        "This creates a single collection of TensorFlow checkpoint files that are updated at the end of each epoch:\n",
        "\n"
      ]
    },
    {
      "metadata": {
        "id": "PRmD4x5IkiAO",
        "colab_type": "code",
        "colab": {
          "base_uri": "https://localhost:8080/",
          "height": 34
        },
        "outputId": "003e7444-5fca-4a0a-d9fe-05fa9f36f131"
      },
      "cell_type": "code",
      "source": [
        "!ls {checkpoint_dir}"
      ],
      "execution_count": 6,
      "outputs": [
        {
          "output_type": "stream",
          "text": [
            "checkpoint  cp.ckpt.data-00000-of-00001  cp.ckpt.index\n"
          ],
          "name": "stdout"
        }
      ]
    },
    {
      "metadata": {
        "id": "Dc4HI99zkwjS",
        "colab_type": "text"
      },
      "cell_type": "markdown",
      "source": [
        "Create a new, untrained model. When restoring a model from only weights, you must have a model with the same architecture as the original model. Since it's the same model architecture, we can share weights despite that it's a different instance of the model.\n",
        "\n",
        "Now rebuild a fresh, untrained model, and evaluate it on the test set. An untrained model will perform at chance levels (~10% accuracy):"
      ]
    },
    {
      "metadata": {
        "id": "aHAzKb79ksx7",
        "colab_type": "code",
        "colab": {
          "base_uri": "https://localhost:8080/",
          "height": 50
        },
        "outputId": "37f662e3-a1f1-4792-ccbf-6d6f610c153e"
      },
      "cell_type": "code",
      "source": [
        "model = create_model()\n",
        "\n",
        "loss, acc = model.evaluate(test_images, test_labels)\n",
        "print(\"Untrained model, accuracy: {:5.2f}%\".format(100*acc))"
      ],
      "execution_count": 10,
      "outputs": [
        {
          "output_type": "stream",
          "text": [
            "1000/1000 [==============================] - 0s 227us/step\n",
            "Untrained model, accuracy:  5.10%\n"
          ],
          "name": "stdout"
        }
      ]
    },
    {
      "metadata": {
        "id": "befkHLoylKzP",
        "colab_type": "text"
      },
      "cell_type": "markdown",
      "source": [
        "Then load the weights from the checkpoint, and re-evaluate:\n",
        "\n"
      ]
    },
    {
      "metadata": {
        "id": "KngMyrYdlBxi",
        "colab_type": "code",
        "colab": {
          "base_uri": "https://localhost:8080/",
          "height": 50
        },
        "outputId": "a14fc7dd-72fb-411a-d9ef-730a9a46c386"
      },
      "cell_type": "code",
      "source": [
        "model.load_weights(checkpoint_path)\n",
        "loss,acc = model.evaluate(test_images, test_labels)\n",
        "print(\"Restored model, accuracy: {:5.2f}%\".format(100*acc))"
      ],
      "execution_count": 11,
      "outputs": [
        {
          "output_type": "stream",
          "text": [
            "1000/1000 [==============================] - 0s 74us/step\n",
            "Restored model, accuracy: 87.40%\n"
          ],
          "name": "stdout"
        }
      ]
    },
    {
      "metadata": {
        "id": "FuYyCqbulR9T",
        "colab_type": "text"
      },
      "cell_type": "markdown",
      "source": [
        "# Checkpoint callback options\n",
        "The callback provides several options to give the resulting checkpoints unique names, and adjust the checkpointing frequency.\n",
        "\n",
        "Train a new model, and save uniquely named checkpoints once every 5-epochs:"
      ]
    },
    {
      "metadata": {
        "id": "YELbRszAlOlY",
        "colab_type": "code",
        "colab": {
          "base_uri": "https://localhost:8080/",
          "height": 894
        },
        "outputId": "9cd890ea-1e52-4a7b-fff4-4f25efc7920c"
      },
      "cell_type": "code",
      "source": [
        "# include the epoch in the file name. (uses `str.format`)\n",
        "checkpoint_path = \"training_2/cp-{epoch:04d}.ckpt\"\n",
        "checkpoint_dir = os.path.dirname(checkpoint_path)\n",
        "\n",
        "cp_callback = tf.keras.callbacks.ModelCheckpoint(\n",
        "    checkpoint_path, verbose=1, save_weights_only=True,\n",
        "    # Save weights, every 5-epochs.\n",
        "    period=5)\n",
        "\n",
        "model = create_model()\n",
        "model.fit(train_images, train_labels,\n",
        "          epochs = 50, callbacks = [cp_callback],\n",
        "          validation_data = (test_images,test_labels),\n",
        "          verbose=0)"
      ],
      "execution_count": 12,
      "outputs": [
        {
          "output_type": "stream",
          "text": [
            "\n",
            "Epoch 00005: saving model to training_2/cp-0005.ckpt\n",
            "WARNING:tensorflow:This model was compiled with a Keras optimizer (<tensorflow.python.keras.optimizers.Adam object at 0x7f7884e37898>) but is being saved in TensorFlow format with `save_weights`. The model's weights will be saved, but unlike with TensorFlow optimizers in the TensorFlow format the optimizer's state will not be saved.\n",
            "\n",
            "Consider using a TensorFlow optimizer from `tf.train`.\n",
            "\n",
            "Epoch 00010: saving model to training_2/cp-0010.ckpt\n",
            "WARNING:tensorflow:This model was compiled with a Keras optimizer (<tensorflow.python.keras.optimizers.Adam object at 0x7f7884e37898>) but is being saved in TensorFlow format with `save_weights`. The model's weights will be saved, but unlike with TensorFlow optimizers in the TensorFlow format the optimizer's state will not be saved.\n",
            "\n",
            "Consider using a TensorFlow optimizer from `tf.train`.\n",
            "\n",
            "Epoch 00015: saving model to training_2/cp-0015.ckpt\n",
            "WARNING:tensorflow:This model was compiled with a Keras optimizer (<tensorflow.python.keras.optimizers.Adam object at 0x7f7884e37898>) but is being saved in TensorFlow format with `save_weights`. The model's weights will be saved, but unlike with TensorFlow optimizers in the TensorFlow format the optimizer's state will not be saved.\n",
            "\n",
            "Consider using a TensorFlow optimizer from `tf.train`.\n",
            "\n",
            "Epoch 00020: saving model to training_2/cp-0020.ckpt\n",
            "WARNING:tensorflow:This model was compiled with a Keras optimizer (<tensorflow.python.keras.optimizers.Adam object at 0x7f7884e37898>) but is being saved in TensorFlow format with `save_weights`. The model's weights will be saved, but unlike with TensorFlow optimizers in the TensorFlow format the optimizer's state will not be saved.\n",
            "\n",
            "Consider using a TensorFlow optimizer from `tf.train`.\n",
            "\n",
            "Epoch 00025: saving model to training_2/cp-0025.ckpt\n",
            "WARNING:tensorflow:This model was compiled with a Keras optimizer (<tensorflow.python.keras.optimizers.Adam object at 0x7f7884e37898>) but is being saved in TensorFlow format with `save_weights`. The model's weights will be saved, but unlike with TensorFlow optimizers in the TensorFlow format the optimizer's state will not be saved.\n",
            "\n",
            "Consider using a TensorFlow optimizer from `tf.train`.\n",
            "\n",
            "Epoch 00030: saving model to training_2/cp-0030.ckpt\n",
            "WARNING:tensorflow:This model was compiled with a Keras optimizer (<tensorflow.python.keras.optimizers.Adam object at 0x7f7884e37898>) but is being saved in TensorFlow format with `save_weights`. The model's weights will be saved, but unlike with TensorFlow optimizers in the TensorFlow format the optimizer's state will not be saved.\n",
            "\n",
            "Consider using a TensorFlow optimizer from `tf.train`.\n",
            "\n",
            "Epoch 00035: saving model to training_2/cp-0035.ckpt\n",
            "WARNING:tensorflow:This model was compiled with a Keras optimizer (<tensorflow.python.keras.optimizers.Adam object at 0x7f7884e37898>) but is being saved in TensorFlow format with `save_weights`. The model's weights will be saved, but unlike with TensorFlow optimizers in the TensorFlow format the optimizer's state will not be saved.\n",
            "\n",
            "Consider using a TensorFlow optimizer from `tf.train`.\n",
            "\n",
            "Epoch 00040: saving model to training_2/cp-0040.ckpt\n",
            "WARNING:tensorflow:This model was compiled with a Keras optimizer (<tensorflow.python.keras.optimizers.Adam object at 0x7f7884e37898>) but is being saved in TensorFlow format with `save_weights`. The model's weights will be saved, but unlike with TensorFlow optimizers in the TensorFlow format the optimizer's state will not be saved.\n",
            "\n",
            "Consider using a TensorFlow optimizer from `tf.train`.\n",
            "\n",
            "Epoch 00045: saving model to training_2/cp-0045.ckpt\n",
            "WARNING:tensorflow:This model was compiled with a Keras optimizer (<tensorflow.python.keras.optimizers.Adam object at 0x7f7884e37898>) but is being saved in TensorFlow format with `save_weights`. The model's weights will be saved, but unlike with TensorFlow optimizers in the TensorFlow format the optimizer's state will not be saved.\n",
            "\n",
            "Consider using a TensorFlow optimizer from `tf.train`.\n",
            "\n",
            "Epoch 00050: saving model to training_2/cp-0050.ckpt\n",
            "WARNING:tensorflow:This model was compiled with a Keras optimizer (<tensorflow.python.keras.optimizers.Adam object at 0x7f7884e37898>) but is being saved in TensorFlow format with `save_weights`. The model's weights will be saved, but unlike with TensorFlow optimizers in the TensorFlow format the optimizer's state will not be saved.\n",
            "\n",
            "Consider using a TensorFlow optimizer from `tf.train`.\n"
          ],
          "name": "stdout"
        },
        {
          "output_type": "execute_result",
          "data": {
            "text/plain": [
              "<tensorflow.python.keras.callbacks.History at 0x7f7895ed1e48>"
            ]
          },
          "metadata": {
            "tags": []
          },
          "execution_count": 12
        }
      ]
    },
    {
      "metadata": {
        "id": "OxemMLJXl2vE",
        "colab_type": "text"
      },
      "cell_type": "markdown",
      "source": [
        "Now, have a look at the resulting checkpoints (sorting by modification date):"
      ]
    },
    {
      "metadata": {
        "id": "I90Xe0gnlwBp",
        "colab_type": "code",
        "colab": {
          "base_uri": "https://localhost:8080/",
          "height": 185
        },
        "outputId": "bd430636-fb65-40e2-c021-6f56c78dab70"
      },
      "cell_type": "code",
      "source": [
        "import pathlib\n",
        "\n",
        "# Sort the checkpoints by modification time.\n",
        "checkpoints = pathlib.Path(checkpoint_dir).glob(\"*.index\")\n",
        "checkpoints = sorted(checkpoints, key=lambda cp:cp.stat().st_mtime)\n",
        "checkpoints = [cp.with_suffix('') for cp in checkpoints]\n",
        "latest = str(checkpoints[-1])\n",
        "checkpoints"
      ],
      "execution_count": 13,
      "outputs": [
        {
          "output_type": "execute_result",
          "data": {
            "text/plain": [
              "[PosixPath('training_2/cp-0005.ckpt'),\n",
              " PosixPath('training_2/cp-0010.ckpt'),\n",
              " PosixPath('training_2/cp-0015.ckpt'),\n",
              " PosixPath('training_2/cp-0020.ckpt'),\n",
              " PosixPath('training_2/cp-0025.ckpt'),\n",
              " PosixPath('training_2/cp-0030.ckpt'),\n",
              " PosixPath('training_2/cp-0035.ckpt'),\n",
              " PosixPath('training_2/cp-0040.ckpt'),\n",
              " PosixPath('training_2/cp-0045.ckpt'),\n",
              " PosixPath('training_2/cp-0050.ckpt')]"
            ]
          },
          "metadata": {
            "tags": []
          },
          "execution_count": 13
        }
      ]
    },
    {
      "metadata": {
        "id": "iQH1eE8RmFkp",
        "colab_type": "text"
      },
      "cell_type": "markdown",
      "source": [
        "To test, reset the model and load the latest checkpoint:\n",
        "\n"
      ]
    },
    {
      "metadata": {
        "id": "Jf4c2rGWl6kW",
        "colab_type": "code",
        "colab": {
          "base_uri": "https://localhost:8080/",
          "height": 50
        },
        "outputId": "bfae6feb-e4b1-4ea3-aa4f-dcaf32636c3f"
      },
      "cell_type": "code",
      "source": [
        "model = create_model()\n",
        "model.load_weights(latest)\n",
        "loss, acc = model.evaluate(test_images, test_labels)\n",
        "print(\"Restored model, accuracy: {:5.2f}%\".format(100*acc))"
      ],
      "execution_count": 14,
      "outputs": [
        {
          "output_type": "stream",
          "text": [
            "1000/1000 [==============================] - 0s 183us/step\n",
            "Restored model, accuracy: 87.50%\n"
          ],
          "name": "stdout"
        }
      ]
    },
    {
      "metadata": {
        "id": "QleaNxoNmNNS",
        "colab_type": "text"
      },
      "cell_type": "markdown",
      "source": [
        "# What are these files?\n",
        "The above code stores the weights to a collection of [checkpoint](https://www.tensorflow.org/guide/saved_model#save_and_restore_variables)-formatted files that contain only the trained weights in a binary format. Checkpoints contain: * One or more shards that contain your model's weights. * An index file that indicates which weights are stored in a which shard.\n",
        "\n",
        "If you are only training a model on a single machine, you'll have one shard with the suffix: `.data-00000-of-00001`"
      ]
    },
    {
      "metadata": {
        "id": "FKOHOmDAmmUp",
        "colab_type": "text"
      },
      "cell_type": "markdown",
      "source": [
        "# Manually save weights\n",
        "Above you saw how to load the weights into a model.\n",
        "\n",
        "Manually saving the weights is just as simple, use the `Model.save_weights` method."
      ]
    },
    {
      "metadata": {
        "id": "xrWCZ7_SmKAY",
        "colab_type": "code",
        "colab": {
          "base_uri": "https://localhost:8080/",
          "height": 121
        },
        "outputId": "1b1c3483-9bcf-43f2-87f2-00c773d3b42d"
      },
      "cell_type": "code",
      "source": [
        "# Save the weights\n",
        "model.save_weights('./checkpoints/my_checkpoint')\n",
        "\n",
        "# Restore the weights\n",
        "model = create_model()\n",
        "model.load_weights('./checkpoints/my_checkpoint')\n",
        "\n",
        "loss,acc = model.evaluate(test_images, test_labels)\n",
        "print(\"Restored model, accuracy: {:5.2f}%\".format(100*acc))"
      ],
      "execution_count": 15,
      "outputs": [
        {
          "output_type": "stream",
          "text": [
            "WARNING:tensorflow:This model was compiled with a Keras optimizer (<tensorflow.python.keras.optimizers.Adam object at 0x7f78868a3c50>) but is being saved in TensorFlow format with `save_weights`. The model's weights will be saved, but unlike with TensorFlow optimizers in the TensorFlow format the optimizer's state will not be saved.\n",
            "\n",
            "Consider using a TensorFlow optimizer from `tf.train`.\n",
            "1000/1000 [==============================] - 0s 210us/step\n",
            "Restored model, accuracy: 87.50%\n"
          ],
          "name": "stdout"
        }
      ]
    },
    {
      "metadata": {
        "id": "VjLe0B7imzzS",
        "colab_type": "text"
      },
      "cell_type": "markdown",
      "source": [
        "# Save the entire model\n",
        "The entire model can be saved to a file that contains the weight values, the model's configuration, and even the optimizer's configuration. This allows you to checkpoint a model and resume training later—from the exact same state—without access to the original code.\n",
        "\n",
        "Saving a fully-functional model in Keras is very useful—you can load them in [TensorFlow.js](https://js.tensorflow.org/tutorials/import-keras.html) and then train and run them in web browsers.\n",
        "\n",
        "Keras provides a basic save format using the [HDF5](https://en.wikipedia.org/wiki/Hierarchical_Data_Format) standard. For our purposes, the saved model can be treated as a single binary blob."
      ]
    },
    {
      "metadata": {
        "id": "iR6FJpAqmwfA",
        "colab_type": "code",
        "colab": {
          "base_uri": "https://localhost:8080/",
          "height": 205
        },
        "outputId": "b2f7ee6d-0335-44cb-91a2-624bc7624b53"
      },
      "cell_type": "code",
      "source": [
        "model = create_model()\n",
        "\n",
        "model.fit(train_images, train_labels, epochs=5)\n",
        "\n",
        "# Save entire model to a HDF5 file\n",
        "model.save('my_model.h5')"
      ],
      "execution_count": 16,
      "outputs": [
        {
          "output_type": "stream",
          "text": [
            "Epoch 1/5\n",
            "1000/1000 [==============================] - 1s 696us/step - loss: 1.1255 - acc: 0.6810\n",
            "Epoch 2/5\n",
            "1000/1000 [==============================] - 0s 306us/step - loss: 0.4179 - acc: 0.8920\n",
            "Epoch 3/5\n",
            "1000/1000 [==============================] - 0s 285us/step - loss: 0.2822 - acc: 0.9240\n",
            "Epoch 4/5\n",
            "1000/1000 [==============================] - 0s 275us/step - loss: 0.2163 - acc: 0.9430\n",
            "Epoch 5/5\n",
            "1000/1000 [==============================] - 0s 274us/step - loss: 0.1484 - acc: 0.9690\n"
          ],
          "name": "stdout"
        }
      ]
    },
    {
      "metadata": {
        "id": "Nuqe4tCnnXdf",
        "colab_type": "text"
      },
      "cell_type": "markdown",
      "source": [
        "Now recreate the model from that file:\n",
        "\n"
      ]
    },
    {
      "metadata": {
        "id": "-d3c5rkynTz1",
        "colab_type": "code",
        "colab": {
          "base_uri": "https://localhost:8080/",
          "height": 235
        },
        "outputId": "b6550407-a7f8-46fc-b5f4-02a8abe8997e"
      },
      "cell_type": "code",
      "source": [
        "# Recreate the exact same model, including weights and optimizer.\n",
        "new_model = keras.models.load_model('my_model.h5')\n",
        "new_model.summary()"
      ],
      "execution_count": 17,
      "outputs": [
        {
          "output_type": "stream",
          "text": [
            "_________________________________________________________________\n",
            "Layer (type)                 Output Shape              Param #   \n",
            "=================================================================\n",
            "dense_18 (Dense)             (None, 512)               401920    \n",
            "_________________________________________________________________\n",
            "dropout_9 (Dropout)          (None, 512)               0         \n",
            "_________________________________________________________________\n",
            "dense_19 (Dense)             (None, 10)                5130      \n",
            "=================================================================\n",
            "Total params: 407,050\n",
            "Trainable params: 407,050\n",
            "Non-trainable params: 0\n",
            "_________________________________________________________________\n"
          ],
          "name": "stdout"
        }
      ]
    },
    {
      "metadata": {
        "id": "tJ76bVO5ndOl",
        "colab_type": "text"
      },
      "cell_type": "markdown",
      "source": [
        "Check its accuracy:\n",
        "\n"
      ]
    },
    {
      "metadata": {
        "id": "CU5afA2KnaZV",
        "colab_type": "code",
        "colab": {
          "base_uri": "https://localhost:8080/",
          "height": 50
        },
        "outputId": "95a2cabc-bc68-46f2-97bc-a81421390520"
      },
      "cell_type": "code",
      "source": [
        "loss, acc = new_model.evaluate(test_images, test_labels)\n",
        "print(\"Restored model, accuracy: {:5.2f}%\".format(100*acc))"
      ],
      "execution_count": 18,
      "outputs": [
        {
          "output_type": "stream",
          "text": [
            "1000/1000 [==============================] - 0s 233us/step\n",
            "Restored model, accuracy: 86.00%\n"
          ],
          "name": "stdout"
        }
      ]
    },
    {
      "metadata": {
        "id": "3v2JSB9inj5L",
        "colab_type": "text"
      },
      "cell_type": "markdown",
      "source": [
        "This technique saves everything:\n",
        "\n",
        "* The weight values\n",
        "* The model's configuration(architecture)\n",
        "* The optimizer configuration\n",
        "\n",
        "Keras saves models by inspecting the architecture. Currently, it is not able to save TensorFlow optimizers (from [tf.train](https://www.tensorflow.org/api_docs/python/tf/train)). When using those you will need to re-compile the model after loading, and you will loose the state of the optimizer.\n",
        "\n"
      ]
    },
    {
      "metadata": {
        "id": "pk5H7dqIohsl",
        "colab_type": "text"
      },
      "cell_type": "markdown",
      "source": [
        "# What's Next\n",
        "That was a quick guide to saving and loading in with [tf.keras](https://www.tensorflow.org/api_docs/python/tf/keras).\n",
        "\n",
        "The [tf.keras guide](https://www.tensorflow.org/guide/keras) shows more about saving and loading models with tf.keras.\n",
        "\n",
        "See [Saving in eager](https://www.tensorflow.org/guide/eager#object_based_saving) for saving during eager execution.\n",
        "\n",
        "The [Save and Restore](https://www.tensorflow.org/guide/saved_model) guide has low-level details about TensorFlow saving.\n",
        "\n"
      ]
    }
  ]
}