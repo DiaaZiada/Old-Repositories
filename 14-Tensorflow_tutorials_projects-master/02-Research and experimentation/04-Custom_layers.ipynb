{
  "nbformat": 4,
  "nbformat_minor": 0,
  "metadata": {
    "colab": {
      "name": "Custom_layers.ipynb",
      "version": "0.3.2",
      "provenance": [],
      "collapsed_sections": []
    },
    "kernelspec": {
      "name": "python3",
      "display_name": "Python 3"
    }
  },
  "cells": [
    {
      "metadata": {
        "id": "YhWXK6X8z95o",
        "colab_type": "text"
      },
      "cell_type": "markdown",
      "source": [
        "# Custom layers\n",
        "\n",
        "We recommend using [tf.keras](https://www.tensorflow.org/api_docs/python/tf/keras) as a high-level API for building neural networks. That said, most TensorFlow APIs are usable with eager execution.\n",
        "\n"
      ]
    },
    {
      "metadata": {
        "id": "BzV4_Aebvr34",
        "colab_type": "code",
        "colab": {}
      },
      "cell_type": "code",
      "source": [
        "import tensorflow as tf\n",
        "tfe = tf.contrib.eager\n",
        "\n",
        "tf.enable_eager_execution()"
      ],
      "execution_count": 0,
      "outputs": []
    },
    {
      "metadata": {
        "id": "lyAXYOs40QE1",
        "colab_type": "text"
      },
      "cell_type": "markdown",
      "source": [
        "# Layers: common sets of useful operations\n",
        "Most of the time when writing code for machine learning models you want to operate at a higher level of abstraction than individual operations and manipulation of individual variables.\n",
        "\n",
        "Many machine learning models are expressible as the composition and stacking of relatively simple layers, and TensorFlow provides both a set of many common layers as a well as easy ways for you to write your own application-specific layers either from scratch or as the composition of existing layers.\n",
        "\n",
        "TensorFlow includes the full [Keras](https://keras.io/) API in the tf.keras package, and the Keras layers are very useful when building your own models.\n",
        "\n"
      ]
    },
    {
      "metadata": {
        "id": "KhH87t5K0Lhk",
        "colab_type": "code",
        "colab": {}
      },
      "cell_type": "code",
      "source": [
        "# In the tf.keras.layers package, layers are objects. To construct a layer,\n",
        "# simply construct the object. Most layers take as a first argument the number\n",
        "# of output dimensions / channels.\n",
        "layer = tf.keras.layers.Dense(100)\n",
        "# The number of input dimensions is often unnecessary, as it can be inferred\n",
        "# the first time the layer is used, but it can be provided if you want to \n",
        "# specify it manually, which is useful in some complex models.\n",
        "layer = tf.keras.layers.Dense(10, input_shape=(None, 5))"
      ],
      "execution_count": 0,
      "outputs": []
    },
    {
      "metadata": {
        "id": "onoYUfn62cNc",
        "colab_type": "text"
      },
      "cell_type": "markdown",
      "source": [
        "The full list of pre-existing layers can be seen in [the documentation](https://www.tensorflow.org/api_docs/python/tf/keras/layers). It includes Dense (a fully-connected layer), Conv2D, LSTM, BatchNormalization, Dropout, and many others."
      ]
    },
    {
      "metadata": {
        "id": "7F1t1gpp2Z9N",
        "colab_type": "code",
        "colab": {
          "base_uri": "https://localhost:8080/",
          "height": 202
        },
        "outputId": "4cc75a39-31b4-4cad-f246-f3a765c5ddb9"
      },
      "cell_type": "code",
      "source": [
        "# To use a layer, simply call it.\n",
        "layer(tf.zeros([10, 5]))"
      ],
      "execution_count": 3,
      "outputs": [
        {
          "output_type": "execute_result",
          "data": {
            "text/plain": [
              "<tf.Tensor: id=30, shape=(10, 10), dtype=float32, numpy=\n",
              "array([[0., 0., 0., 0., 0., 0., 0., 0., 0., 0.],\n",
              "       [0., 0., 0., 0., 0., 0., 0., 0., 0., 0.],\n",
              "       [0., 0., 0., 0., 0., 0., 0., 0., 0., 0.],\n",
              "       [0., 0., 0., 0., 0., 0., 0., 0., 0., 0.],\n",
              "       [0., 0., 0., 0., 0., 0., 0., 0., 0., 0.],\n",
              "       [0., 0., 0., 0., 0., 0., 0., 0., 0., 0.],\n",
              "       [0., 0., 0., 0., 0., 0., 0., 0., 0., 0.],\n",
              "       [0., 0., 0., 0., 0., 0., 0., 0., 0., 0.],\n",
              "       [0., 0., 0., 0., 0., 0., 0., 0., 0., 0.],\n",
              "       [0., 0., 0., 0., 0., 0., 0., 0., 0., 0.]], dtype=float32)>"
            ]
          },
          "metadata": {
            "tags": []
          },
          "execution_count": 3
        }
      ]
    },
    {
      "metadata": {
        "id": "dYhp-RVn21RN",
        "colab_type": "code",
        "colab": {
          "base_uri": "https://localhost:8080/",
          "height": 322
        },
        "outputId": "493714df-c7a8-494d-b0c8-2705760347ec"
      },
      "cell_type": "code",
      "source": [
        "# Layers have many useful methods. For example, you can inspect all variables\n",
        "# in a layer by calling layer.variables. In this case a fully-connected layer\n",
        "# will have variables for weights and biases.\n",
        "layer.variables"
      ],
      "execution_count": 4,
      "outputs": [
        {
          "output_type": "execute_result",
          "data": {
            "text/plain": [
              "[<tf.Variable 'dense_1/kernel:0' shape=(5, 10) dtype=float32, numpy=\n",
              " array([[-4.0366814e-01,  3.2031327e-01,  5.6271762e-01, -5.8880943e-01,\n",
              "         -2.8946480e-01,  3.5525382e-01,  1.2851298e-02,  3.7897748e-01,\n",
              "         -6.0882068e-01, -4.1087961e-01],\n",
              "        [-3.2560897e-01, -5.6080186e-01,  4.7131866e-01,  3.1059730e-01,\n",
              "         -1.8097281e-02,  6.0922450e-01,  3.9811134e-03, -4.2806429e-01,\n",
              "         -3.2269955e-04, -1.1358327e-01],\n",
              "        [ 1.7385662e-02,  9.9588871e-02,  1.5270764e-01, -5.8298111e-02,\n",
              "         -4.2097706e-01, -5.1848471e-01, -4.1809669e-01, -2.8321353e-01,\n",
              "          6.1121279e-01, -1.4117122e-01],\n",
              "        [ 5.3456753e-01, -5.8435619e-01,  5.5030471e-01,  1.6315055e-01,\n",
              "         -5.2405035e-01,  1.4842117e-01,  7.6578438e-02, -2.1788701e-01,\n",
              "         -3.3180127e-01, -3.3434629e-02],\n",
              "        [ 3.6605895e-02, -4.7766310e-01,  1.8173337e-01,  1.8173593e-01,\n",
              "         -3.6914390e-01, -2.6182982e-01, -6.3673139e-02, -4.3127006e-01,\n",
              "         -2.6092434e-01, -5.2228248e-01]], dtype=float32)>,\n",
              " <tf.Variable 'dense_1/bias:0' shape=(10,) dtype=float32, numpy=array([0., 0., 0., 0., 0., 0., 0., 0., 0., 0.], dtype=float32)>]"
            ]
          },
          "metadata": {
            "tags": []
          },
          "execution_count": 4
        }
      ]
    },
    {
      "metadata": {
        "id": "lhDBhyQP3KO0",
        "colab_type": "code",
        "colab": {
          "base_uri": "https://localhost:8080/",
          "height": 322
        },
        "outputId": "8f5b7676-a71d-44fa-e5e1-fd03ed3c6aee"
      },
      "cell_type": "code",
      "source": [
        "# The variables are also accessible through nice accessors\n",
        "layer.kernel, layer.bias"
      ],
      "execution_count": 5,
      "outputs": [
        {
          "output_type": "execute_result",
          "data": {
            "text/plain": [
              "(<tf.Variable 'dense_1/kernel:0' shape=(5, 10) dtype=float32, numpy=\n",
              " array([[-4.0366814e-01,  3.2031327e-01,  5.6271762e-01, -5.8880943e-01,\n",
              "         -2.8946480e-01,  3.5525382e-01,  1.2851298e-02,  3.7897748e-01,\n",
              "         -6.0882068e-01, -4.1087961e-01],\n",
              "        [-3.2560897e-01, -5.6080186e-01,  4.7131866e-01,  3.1059730e-01,\n",
              "         -1.8097281e-02,  6.0922450e-01,  3.9811134e-03, -4.2806429e-01,\n",
              "         -3.2269955e-04, -1.1358327e-01],\n",
              "        [ 1.7385662e-02,  9.9588871e-02,  1.5270764e-01, -5.8298111e-02,\n",
              "         -4.2097706e-01, -5.1848471e-01, -4.1809669e-01, -2.8321353e-01,\n",
              "          6.1121279e-01, -1.4117122e-01],\n",
              "        [ 5.3456753e-01, -5.8435619e-01,  5.5030471e-01,  1.6315055e-01,\n",
              "         -5.2405035e-01,  1.4842117e-01,  7.6578438e-02, -2.1788701e-01,\n",
              "         -3.3180127e-01, -3.3434629e-02],\n",
              "        [ 3.6605895e-02, -4.7766310e-01,  1.8173337e-01,  1.8173593e-01,\n",
              "         -3.6914390e-01, -2.6182982e-01, -6.3673139e-02, -4.3127006e-01,\n",
              "         -2.6092434e-01, -5.2228248e-01]], dtype=float32)>,\n",
              " <tf.Variable 'dense_1/bias:0' shape=(10,) dtype=float32, numpy=array([0., 0., 0., 0., 0., 0., 0., 0., 0., 0.], dtype=float32)>)"
            ]
          },
          "metadata": {
            "tags": []
          },
          "execution_count": 5
        }
      ]
    },
    {
      "metadata": {
        "id": "LmUFJMxY3gia",
        "colab_type": "text"
      },
      "cell_type": "markdown",
      "source": [
        "# Implementing custom layers\n",
        "The best way to implement your own layer is extending the tf.keras.Layer class and implementing: * `__init__ `, where you can do all input-independent initialization * `build`, where you know the shapes of the input tensors and can do the rest of the initialization * `call`, where you do the forward computation\n",
        "\n",
        "Note that you don't have to wait until `build` is called to create your variables, you can also create them in `__init__`. However, the advantage of creating them in build is that it enables late variable creation based on the shape of the inputs the layer will operate on. On the other hand, creating variables in `__init__` would mean that shapes required to create the variables will need to be explicitly specified."
      ]
    },
    {
      "metadata": {
        "id": "hFsq4ABw3VG3",
        "colab_type": "code",
        "colab": {
          "base_uri": "https://localhost:8080/",
          "height": 403
        },
        "outputId": "76b036f8-2d5e-47a3-e3bc-7c69f69c11ba"
      },
      "cell_type": "code",
      "source": [
        "class MyDenseLayer(tf.keras.layers.Layer):\n",
        "  def __init__(self, num_outputs):\n",
        "    super(MyDenseLayer, self).__init__()\n",
        "    self.num_outputs = num_outputs\n",
        "    \n",
        "  def build(self, input_shape):\n",
        "    self.kernel = self.add_variable(\"kernel\", \n",
        "                                    shape=[input_shape[-1].value, \n",
        "                                           self.num_outputs])\n",
        "    \n",
        "  def call(self, input):\n",
        "    return tf.matmul(input, self.kernel)\n",
        "  \n",
        "layer = MyDenseLayer(10)\n",
        "print(layer(tf.zeros([10, 5])))\n",
        "print(layer.variables)"
      ],
      "execution_count": 6,
      "outputs": [
        {
          "output_type": "stream",
          "text": [
            "tf.Tensor(\n",
            "[[0. 0. 0. 0. 0. 0. 0. 0. 0. 0.]\n",
            " [0. 0. 0. 0. 0. 0. 0. 0. 0. 0.]\n",
            " [0. 0. 0. 0. 0. 0. 0. 0. 0. 0.]\n",
            " [0. 0. 0. 0. 0. 0. 0. 0. 0. 0.]\n",
            " [0. 0. 0. 0. 0. 0. 0. 0. 0. 0.]\n",
            " [0. 0. 0. 0. 0. 0. 0. 0. 0. 0.]\n",
            " [0. 0. 0. 0. 0. 0. 0. 0. 0. 0.]\n",
            " [0. 0. 0. 0. 0. 0. 0. 0. 0. 0.]\n",
            " [0. 0. 0. 0. 0. 0. 0. 0. 0. 0.]\n",
            " [0. 0. 0. 0. 0. 0. 0. 0. 0. 0.]], shape=(10, 10), dtype=float32)\n",
            "[<tf.Variable 'my_dense_layer/kernel:0' shape=(5, 10) dtype=float32, numpy=\n",
            "array([[-0.48930794, -0.3148687 ,  0.29035568, -0.37791938,  0.02816045,\n",
            "         0.27328676,  0.11643714,  0.2509973 ,  0.02953011,  0.22730422],\n",
            "       [-0.10154003, -0.5281738 , -0.29052424,  0.23391211,  0.37096137,\n",
            "         0.18079996,  0.43431705, -0.23190239,  0.25416398,  0.2310248 ],\n",
            "       [-0.572566  , -0.37430662,  0.607472  ,  0.43998986,  0.20894265,\n",
            "        -0.12685758,  0.01026618,  0.03067052,  0.3161133 ,  0.06499451],\n",
            "       [-0.05167484,  0.51854426, -0.42793733, -0.5962794 , -0.30030248,\n",
            "        -0.06430477,  0.4917336 ,  0.32094687,  0.48923928, -0.057069  ],\n",
            "       [-0.14420086, -0.5705323 ,  0.34145463, -0.41576067, -0.24283764,\n",
            "         0.54001933, -0.42388594,  0.03502107, -0.29374963,  0.4211045 ]],\n",
            "      dtype=float32)>]\n"
          ],
          "name": "stdout"
        }
      ]
    },
    {
      "metadata": {
        "id": "hL14LoEA9Xzr",
        "colab_type": "text"
      },
      "cell_type": "markdown",
      "source": [
        "Note that you don't have to wait until `build` is called to create your variables, you can also create them in `__init__`.\n",
        "\n",
        "Overall code is easier to read and maintain if it uses standard layers whenever possible, as other readers will be familiar with the behavior of standard layers. If you want to use a layer which is not present in tf.keras.layers or tf.contrib.layers, consider filing a [github issue](http://github.com/tensorflow/tensorflow/issues/new) or, even better, sending us a pull request!\n",
        "\n"
      ]
    },
    {
      "metadata": {
        "id": "rho2a9fe9lwu",
        "colab_type": "text"
      },
      "cell_type": "markdown",
      "source": [
        "# Models: composing layers\n",
        "Many interesting layer-like things in machine learning models are implemented by composing existing layers. For example, each residual block in a resnet is a composition of convolutions, batch normalizations, and a shortcut.\n",
        "\n",
        "The main class used when creating a layer-like thing which contains other layers is tf.keras.Model. Implementing one is done by inheriting from tf.keras.Model.\n",
        "\n"
      ]
    },
    {
      "metadata": {
        "id": "C02ktrgi6co6",
        "colab_type": "code",
        "colab": {
          "base_uri": "https://localhost:8080/",
          "height": 188
        },
        "outputId": "6c06ec81-bbf1-4709-d8d8-0338d6b349a6"
      },
      "cell_type": "code",
      "source": [
        "class ResnetIdentityBlock(tf.keras.Model):\n",
        "  def __init__(self, kernel_size, filters):\n",
        "    super(ResnetIdentityBlock, self).__init__(name='')\n",
        "    filters1, filters2, filters3 = filters\n",
        "\n",
        "    self.conv2a = tf.keras.layers.Conv2D(filters1, (1, 1))\n",
        "    self.bn2a = tf.keras.layers.BatchNormalization()\n",
        "\n",
        "    self.conv2b = tf.keras.layers.Conv2D(filters2, kernel_size, padding='same')\n",
        "    self.bn2b = tf.keras.layers.BatchNormalization()\n",
        "\n",
        "    self.conv2c = tf.keras.layers.Conv2D(filters3, (1, 1))\n",
        "    self.bn2c = tf.keras.layers.BatchNormalization()\n",
        "\n",
        "  def call(self, input_tensor, training=False):\n",
        "    x = self.conv2a(input_tensor)\n",
        "    x = self.bn2a(x, training=training)\n",
        "    x = tf.nn.relu(x)\n",
        "\n",
        "    x = self.conv2b(x)\n",
        "    x = self.bn2b(x, training=training)\n",
        "    x = tf.nn.relu(x)\n",
        "\n",
        "    x = self.conv2c(x)\n",
        "    x = self.bn2c(x, training=training)\n",
        "\n",
        "    x += input_tensor\n",
        "    return tf.nn.relu(x)\n",
        "\n",
        "    \n",
        "block = ResnetIdentityBlock(1, [1, 2, 3])\n",
        "print(block(tf.zeros([1, 2, 3, 3])))\n",
        "print([x.name for x in block.variables])"
      ],
      "execution_count": 7,
      "outputs": [
        {
          "output_type": "stream",
          "text": [
            "tf.Tensor(\n",
            "[[[[0. 0. 0.]\n",
            "   [0. 0. 0.]\n",
            "   [0. 0. 0.]]\n",
            "\n",
            "  [[0. 0. 0.]\n",
            "   [0. 0. 0.]\n",
            "   [0. 0. 0.]]]], shape=(1, 2, 3, 3), dtype=float32)\n",
            "['resnet_identity_block/conv2d/kernel:0', 'resnet_identity_block/conv2d/bias:0', 'resnet_identity_block/batch_normalization/gamma:0', 'resnet_identity_block/batch_normalization/beta:0', 'resnet_identity_block/conv2d_1/kernel:0', 'resnet_identity_block/conv2d_1/bias:0', 'resnet_identity_block/batch_normalization_1/gamma:0', 'resnet_identity_block/batch_normalization_1/beta:0', 'resnet_identity_block/conv2d_2/kernel:0', 'resnet_identity_block/conv2d_2/bias:0', 'resnet_identity_block/batch_normalization_2/gamma:0', 'resnet_identity_block/batch_normalization_2/beta:0', 'resnet_identity_block/batch_normalization/moving_mean:0', 'resnet_identity_block/batch_normalization/moving_variance:0', 'resnet_identity_block/batch_normalization_1/moving_mean:0', 'resnet_identity_block/batch_normalization_1/moving_variance:0', 'resnet_identity_block/batch_normalization_2/moving_mean:0', 'resnet_identity_block/batch_normalization_2/moving_variance:0']\n"
          ],
          "name": "stdout"
        }
      ]
    },
    {
      "metadata": {
        "id": "b6YyFYQaCEEb",
        "colab_type": "text"
      },
      "cell_type": "markdown",
      "source": [
        "Much of the time, however, models which compose many layers simply call one layer after the other. This can be done in very little code using tf.keras.Sequential\n",
        "\n"
      ]
    },
    {
      "metadata": {
        "id": "EZzv6NRWBwOI",
        "colab_type": "code",
        "colab": {
          "base_uri": "https://localhost:8080/",
          "height": 151
        },
        "outputId": "dabafaf0-5ca8-4a10-a28a-2b6982c4254c"
      },
      "cell_type": "code",
      "source": [
        " my_seq = tf.keras.Sequential([tf.keras.layers.Conv2D(1, (1, 1)),\n",
        "                               tf.keras.layers.BatchNormalization(),\n",
        "                               tf.keras.layers.Conv2D(2, 1, \n",
        "                                                      padding='same'),\n",
        "                               tf.keras.layers.BatchNormalization(),\n",
        "                               tf.keras.layers.Conv2D(3, (1, 1)),\n",
        "                               tf.keras.layers.BatchNormalization()])\n",
        "my_seq(tf.zeros([1, 2, 3, 3]))"
      ],
      "execution_count": 8,
      "outputs": [
        {
          "output_type": "execute_result",
          "data": {
            "text/plain": [
              "<tf.Tensor: id=503, shape=(1, 2, 3, 3), dtype=float32, numpy=\n",
              "array([[[[0., 0., 0.],\n",
              "         [0., 0., 0.],\n",
              "         [0., 0., 0.]],\n",
              "\n",
              "        [[0., 0., 0.],\n",
              "         [0., 0., 0.],\n",
              "         [0., 0., 0.]]]], dtype=float32)>"
            ]
          },
          "metadata": {
            "tags": []
          },
          "execution_count": 8
        }
      ]
    },
    {
      "metadata": {
        "id": "uQ3MZ-S7CeQE",
        "colab_type": "text"
      },
      "cell_type": "markdown",
      "source": [
        "**Next steps**\n",
        "\n",
        "Now you can go back to the previous notebook and adapt the linear regression example to use layers and models to be better structured.\n",
        "\n"
      ]
    }
  ]
}