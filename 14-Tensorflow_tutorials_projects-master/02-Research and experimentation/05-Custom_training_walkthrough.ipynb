{
  "nbformat": 4,
  "nbformat_minor": 0,
  "metadata": {
    "colab": {
      "name": "Custom_training_walkthrough.ipynb",
      "version": "0.3.2",
      "provenance": [],
      "collapsed_sections": []
    },
    "kernelspec": {
      "name": "python3",
      "display_name": "Python 3"
    },
    "accelerator": "GPU"
  },
  "cells": [
    {
      "metadata": {
        "id": "5_p7rnCFKDOX",
        "colab_type": "text"
      },
      "cell_type": "markdown",
      "source": [
        "# Custom training: walkthrough\n",
        "This guide uses machine learning to categorize Iris flowers by species. It uses TensorFlow's eager execution to: \n",
        "1. Build a model, \n",
        "2. Train this model on example data, and \n",
        "3. Use the model to make predictions about unknown data.\n",
        "\n"
      ]
    },
    {
      "metadata": {
        "id": "mjPruC-5KI2k",
        "colab_type": "text"
      },
      "cell_type": "markdown",
      "source": [
        "# TensorFlow programming\n",
        "This guide uses these high-level TensorFlow concepts:\n",
        "\n",
        "* Enable an [eager execution](https://www.tensorflow.org/guide/eager) development environment,\n",
        "* Import data with the [Datasets API](https://www.tensorflow.org/guide/datasets),\n",
        "* Build models and layers with TensorFlow's [Keras API](https://keras.io/getting-started/sequential-model-guide/).\n",
        "\n",
        "This tutorial is structured like many TensorFlow programs:\n",
        "\n",
        "1. Import and parse the data sets.\n",
        "2. Select the type of model.\n",
        "3. Train the model.\n",
        "4. Evaluate the model's effectiveness.\n",
        "5. Use the trained model to make predictions."
      ]
    },
    {
      "metadata": {
        "id": "1O-dluSlKplW",
        "colab_type": "text"
      },
      "cell_type": "markdown",
      "source": [
        "# Setup program\n",
        "**Configure imports and eager execution**\n",
        "\n",
        "Import the required Python modules—including TensorFlow—and enable eager execution for this program. Eager execution makes TensorFlow evaluate operations immediately, returning concrete values instead of creating a [computational graph](https://www.tensorflow.org/guide/graphs) that is executed later. If you are used to a REPL or the python interactive console, this feels familiar. Eager execution is available in [Tensorlow >=1.8](https://www.tensorflow.org/install/).\n",
        "\n",
        "Once eager execution is enabled, it cannot be disabled within the same program. See the [eager execution guide](https://www.tensorflow.org/guide/eager) for more details."
      ]
    },
    {
      "metadata": {
        "id": "hqkKAV6JJ-Dx",
        "colab_type": "code",
        "colab": {
          "base_uri": "https://localhost:8080/",
          "height": 50
        },
        "outputId": "33965d12-b317-40da-d2ed-6758efc612b5"
      },
      "cell_type": "code",
      "source": [
        "from __future__ import absolute_import, division, print_function\n",
        "\n",
        "import os\n",
        "import matplotlib.pyplot as plt\n",
        "\n",
        "import tensorflow as tf\n",
        "import tensorflow.contrib.eager as tfe\n",
        "\n",
        "tf.enable_eager_execution()\n",
        "\n",
        "print(\"TensorFlow version: {}\".format(tf.VERSION))\n",
        "print(\"Eager execution: {}\".format(tf.executing_eagerly()))"
      ],
      "execution_count": 1,
      "outputs": [
        {
          "output_type": "stream",
          "text": [
            "TensorFlow version: 1.11.0\n",
            "Eager execution: True\n"
          ],
          "name": "stdout"
        }
      ]
    },
    {
      "metadata": {
        "id": "qmFQoRFWLmfq",
        "colab_type": "text"
      },
      "cell_type": "markdown",
      "source": [
        "# The Iris classification problem\n",
        "Imagine you are a botanist seeking an automated way to categorize each Iris flower you find. Machine learning provides many algorithms to classify flowers statistically. For instance, a sophisticated machine learning program could classify flowers based on photographs. Our ambitions are more modest—we're going to classify Iris flowers based on the length and width measurements of their [sepals](https://en.wikipedia.org/wiki/Sepal) and [petals](https://en.wikipedia.org/wiki/Petal).\n",
        "\n",
        "The Iris genus entails about 300 species, but our program will only classify the following three:\n",
        "\n",
        "* Iris setosa\n",
        "* Iris virginica\n",
        "* Iris versicolor\n",
        "\n",
        "Fortunately, someone has already created a [data set of 120 Iris flowers](https://en.wikipedia.org/wiki/Iris_flower_data_set) with the sepal and petal measurements. This is a classic dataset that is popular for beginner machine learning classification problems.\n",
        "\n"
      ]
    },
    {
      "metadata": {
        "id": "6VuKdkUiMLD6",
        "colab_type": "text"
      },
      "cell_type": "markdown",
      "source": [
        "# Import and parse the training dataset\n",
        "Download the dataset file and convert it into a structure that can be used by this Python program.\n",
        "\n",
        "**Download the dataset**\n",
        "\n",
        "Download the training dataset file using the [tf.keras.utils.get_file](https://www.tensorflow.org/api_docs/python/tf/keras/utils/get_file) function. This returns the file path of the downloaded file."
      ]
    },
    {
      "metadata": {
        "id": "gg6QReenLJOz",
        "colab_type": "code",
        "colab": {
          "base_uri": "https://localhost:8080/",
          "height": 34
        },
        "outputId": "e1cc2c09-0f16-4a57-f2a4-b2b2f21ba5ae"
      },
      "cell_type": "code",
      "source": [
        "train_dataset_url = \"http://download.tensorflow.org/data/iris_training.csv\"\n",
        "\n",
        "train_dataset_fp = tf.keras.utils.get_file(fname=os.path.basename(train_dataset_url),\n",
        "                                           origin=train_dataset_url)\n",
        "\n",
        "print(\"Local copy of the dataset file: {}\".format(train_dataset_fp))"
      ],
      "execution_count": 2,
      "outputs": [
        {
          "output_type": "stream",
          "text": [
            "Local copy of the dataset file: /root/.keras/datasets/iris_training.csv\n"
          ],
          "name": "stdout"
        }
      ]
    },
    {
      "metadata": {
        "id": "MbF0v2IjNW3Y",
        "colab_type": "text"
      },
      "cell_type": "markdown",
      "source": [
        "**Inspect the data**\n",
        "\n",
        "This dataset, `iris_training.csv`, is a plain text file that stores tabular data formatted as comma-separated values (CSV). Use the `head -n5` command to take a peak at the first five entries:\n",
        "\n"
      ]
    },
    {
      "metadata": {
        "id": "Aw359ElEMcv4",
        "colab_type": "code",
        "colab": {
          "base_uri": "https://localhost:8080/",
          "height": 101
        },
        "outputId": "9d8d7044-ee2b-4d7e-a3db-ebfbcd7fb06e"
      },
      "cell_type": "code",
      "source": [
        "!head -n5 {train_dataset_fp}"
      ],
      "execution_count": 3,
      "outputs": [
        {
          "output_type": "stream",
          "text": [
            "120,4,setosa,versicolor,virginica\n",
            "6.4,2.8,5.6,2.2,2\n",
            "5.0,2.3,3.3,1.0,1\n",
            "4.9,2.5,4.5,1.7,2\n",
            "4.9,3.1,1.5,0.1,0\n"
          ],
          "name": "stdout"
        }
      ]
    },
    {
      "metadata": {
        "id": "W7c53KnQ-X3e",
        "colab_type": "text"
      },
      "cell_type": "markdown",
      "source": [
        "From this view of the dataset, notice the following:\n",
        "\n",
        "1. The first line is a header containing information about the dataset:\n",
        "\n",
        "\n",
        "* There are 120 total examples. Each example has four features and one of three possible label names.\n",
        "\n",
        "\n",
        "2. Subsequent rows are data records, one [example](https://developers.google.com/machine-learning/glossary/#example) per line, where:\n",
        "\n",
        "\n",
        "* The first four fields are [features](https://developers.google.com/machine-learning/glossary/#feature): these are characteristics of an example. Here, the fields hold float numbers representing flower measurements.\n",
        "\n",
        "* The last column is the [label](https://developers.google.com/machine-learning/glossary/#label): this is the value we want to predict. For this dataset, it's an integer value of 0, 1, or 2 that corresponds to a flower name.\n",
        "\n",
        "Let's write that out in code:"
      ]
    },
    {
      "metadata": {
        "id": "S8Zd_fyDNhfk",
        "colab_type": "code",
        "colab": {
          "base_uri": "https://localhost:8080/",
          "height": 50
        },
        "outputId": "d1ca02a9-a98a-4a6e-d8b7-66927726589f"
      },
      "cell_type": "code",
      "source": [
        "# column order in CSV file\n",
        "column_names = ['sepal_length', 'sepal_width', 'petal_length', 'petal_width', 'species']\n",
        "\n",
        "feature_names = column_names[:-1]\n",
        "label_name = column_names[-1]\n",
        "\n",
        "print(\"Features: {}\".format(feature_names))\n",
        "print(\"Label: {}\".format(label_name))"
      ],
      "execution_count": 4,
      "outputs": [
        {
          "output_type": "stream",
          "text": [
            "Features: ['sepal_length', 'sepal_width', 'petal_length', 'petal_width']\n",
            "Label: species\n"
          ],
          "name": "stdout"
        }
      ]
    },
    {
      "metadata": {
        "id": "x3X7wvy2_lzk",
        "colab_type": "text"
      },
      "cell_type": "markdown",
      "source": [
        "Each label is associated with string name (for example, \"setosa\"), but machine learning typically relies on numeric values. The label numbers are mapped to a named representation, such as:\n",
        "\n",
        "* 0: Iris setosa\n",
        "* 1: Iris versicolor\n",
        "* 2: Iris virginica\n",
        "\n",
        "For more information about features and labels, see the [ML Terminology section of the Machine Learning Crash Course](https://developers.google.com/machine-learning/crash-course/framing/ml-terminology)."
      ]
    },
    {
      "metadata": {
        "id": "c43nEr20_XRA",
        "colab_type": "code",
        "colab": {}
      },
      "cell_type": "code",
      "source": [
        "class_names = ['Iris setosa', 'Iris versicolor', 'Iris virginica']"
      ],
      "execution_count": 0,
      "outputs": []
    },
    {
      "metadata": {
        "id": "Rf1ZJXuNAEtv",
        "colab_type": "text"
      },
      "cell_type": "markdown",
      "source": [
        "**Create a** [tf.data.Dataset](https://www.tensorflow.org/api_docs/python/tf/data/Dataset)\n",
        "TensorFlow's [Dataset API](https://www.tensorflow.org/guide/datasets) handles many common cases for loading data into a model. This is a high-level API for reading data and transforming it into a form used for training. See the [Datasets Quick Start guide](https://www.tensorflow.org/get_started/datasets_quickstart) for more information.\n",
        "\n",
        "Since the dataset is a CSV-formatted text file, use the [make_csv_dataset](https://www.tensorflow.org/api_docs/python/tf/contrib/data/make_csv_dataset) function to parse the data into a suitable format. Since this function generates data for training models, the default behavior is to shuffle the data (`shuffle=True, shuffle_buffer_size=10000`), and repeat the dataset forever (`num_epochs=None`). We also set the [batch_size](https://developers.google.com/machine-learning/glossary/#batch_size) parameter."
      ]
    },
    {
      "metadata": {
        "id": "mjj-Nsof_zHx",
        "colab_type": "code",
        "colab": {}
      },
      "cell_type": "code",
      "source": [
        "batch_size = 32\n",
        "\n",
        "train_dataset = tf.contrib.data.make_csv_dataset(\n",
        "    train_dataset_fp,\n",
        "    batch_size, \n",
        "    column_names=column_names,\n",
        "    label_name=label_name,\n",
        "    num_epochs=1)"
      ],
      "execution_count": 0,
      "outputs": []
    },
    {
      "metadata": {
        "id": "-ViHQUFtA1f9",
        "colab_type": "text"
      },
      "cell_type": "markdown",
      "source": [
        "The `make_csv_dataset` function returns a [tf.data.Dataset](https://www.tensorflow.org/api_docs/python/tf/data/Dataset) of (`features, label`) pairs, where `features` is a dictionary: `{'feature_name': value}`\n",
        "\n",
        "With eager execution enabled, these `Dataset` objects are iterable. Let's look at a batch of features:"
      ]
    },
    {
      "metadata": {
        "id": "PsZ8P6nEAsmh",
        "colab_type": "code",
        "colab": {
          "base_uri": "https://localhost:8080/",
          "height": 373
        },
        "outputId": "8bf27fa5-eccb-4a3b-ac03-ab9102376217"
      },
      "cell_type": "code",
      "source": [
        "features, labels = next(iter(train_dataset))\n",
        "\n",
        "features"
      ],
      "execution_count": 7,
      "outputs": [
        {
          "output_type": "execute_result",
          "data": {
            "text/plain": [
              "OrderedDict([('sepal_length',\n",
              "              <tf.Tensor: id=60, shape=(32,), dtype=float32, numpy=\n",
              "              array([5. , 4.6, 6.2, 5.1, 4.9, 5.8, 5.8, 4.9, 6.6, 6.5, 6.2, 7.7, 4.4,\n",
              "                     5.4, 4.4, 6.5, 5.3, 5.5, 4.9, 5.2, 6.4, 4.7, 5.8, 6.8, 6.7, 5.4,\n",
              "                     4.4, 6.8, 7.6, 4.6, 5.1, 7.3], dtype=float32)>),\n",
              "             ('sepal_width',\n",
              "              <tf.Tensor: id=61, shape=(32,), dtype=float32, numpy=\n",
              "              array([3. , 3.2, 2.2, 3.8, 2.4, 2.7, 2.7, 3. , 2.9, 3. , 2.8, 3. , 3.2,\n",
              "                     3.7, 2.9, 3. , 3.7, 2.6, 2.5, 3.5, 2.8, 3.2, 4. , 3. , 3. , 3.9,\n",
              "                     3. , 2.8, 3. , 3.6, 2.5, 2.9], dtype=float32)>),\n",
              "             ('petal_length',\n",
              "              <tf.Tensor: id=58, shape=(32,), dtype=float32, numpy=\n",
              "              array([1.6, 1.4, 4.5, 1.6, 3.3, 5.1, 4.1, 1.4, 4.6, 5.8, 4.8, 6.1, 1.3,\n",
              "                     1.5, 1.4, 5.2, 1.5, 4.4, 4.5, 1.5, 5.6, 1.3, 1.2, 5.5, 5. , 1.3,\n",
              "                     1.3, 4.8, 6.6, 1. , 3. , 6.3], dtype=float32)>),\n",
              "             ('petal_width',\n",
              "              <tf.Tensor: id=59, shape=(32,), dtype=float32, numpy=\n",
              "              array([0.2, 0.2, 1.5, 0.2, 1. , 1.9, 1. , 0.2, 1.3, 2.2, 1.8, 2.3, 0.2,\n",
              "                     0.2, 0.2, 2. , 0.2, 1.2, 1.7, 0.2, 2.2, 0.2, 0.2, 2.1, 1.7, 0.4,\n",
              "                     0.2, 1.4, 2.1, 0.2, 1.1, 1.8], dtype=float32)>)])"
            ]
          },
          "metadata": {
            "tags": []
          },
          "execution_count": 7
        }
      ]
    },
    {
      "metadata": {
        "id": "sYBnjk07BbAl",
        "colab_type": "text"
      },
      "cell_type": "markdown",
      "source": [
        "\n",
        "Notice that like-features are grouped together, or batched. Each example row's fields are appended to the corresponding feature array. Change the `batch_size` to set the number of examples stored in these feature arrays.\n",
        "\n",
        "You can start to see some clusters by plotting a few features from the batch:"
      ]
    },
    {
      "metadata": {
        "id": "EbGiNSDfBIim",
        "colab_type": "code",
        "colab": {
          "base_uri": "https://localhost:8080/",
          "height": 361
        },
        "outputId": "23cd6767-7384-4e09-abd9-df4d2ebb1b33"
      },
      "cell_type": "code",
      "source": [
        "plt.scatter(features['petal_length'],\n",
        "            features['sepal_length'],\n",
        "            c=labels,\n",
        "            cmap='viridis')\n",
        "\n",
        "plt.xlabel(\"Petal length\")\n",
        "plt.ylabel(\"Sepal length\");"
      ],
      "execution_count": 8,
      "outputs": [
        {
          "output_type": "display_data",
          "data": {
            "image/png": "[encoded data removed]",
            "text/plain": [
              "<matplotlib.figure.Figure at 0x7fc194722ef0>"
            ]
          },
          "metadata": {
            "tags": []
          }
        }
      ]
    },
    {
      "metadata": {
        "id": "H8jza9M2Xm1K",
        "colab_type": "text"
      },
      "cell_type": "markdown",
      "source": [
        "To simplify the model building step, create a function to repackage the features dictionary into a single array with shape: (`batch_size, num_features`).\n",
        "\n",
        "This function uses the [tf.stack](https://www.tensorflow.org/api_docs/python/tf/stack) method which takes values from a list of tensors and creates a combined tensor at the specified dimension."
      ]
    },
    {
      "metadata": {
        "id": "QScujESWBdir",
        "colab_type": "code",
        "colab": {}
      },
      "cell_type": "code",
      "source": [
        "def pack_features_vector(features, labels):\n",
        "  \"\"\"Pack the features into a single array.\"\"\"\n",
        "  features = tf.stack(list(features.values()), axis=1)\n",
        "  return features, labels"
      ],
      "execution_count": 0,
      "outputs": []
    },
    {
      "metadata": {
        "id": "LQWYKsCVYBsg",
        "colab_type": "text"
      },
      "cell_type": "markdown",
      "source": [
        "Then use the [tf.data.Dataset.map](https://www.tensorflow.org/api_docs/python/tf/data/dataset/map) method to pack the `features` of each (`features,label`) pair into the training dataset:\n",
        "\n"
      ]
    },
    {
      "metadata": {
        "id": "E2_2RGATYBL0",
        "colab_type": "code",
        "colab": {}
      },
      "cell_type": "code",
      "source": [
        "train_dataset = train_dataset.map(pack_features_vector)"
      ],
      "execution_count": 0,
      "outputs": []
    },
    {
      "metadata": {
        "id": "tZLfKayYYX9B",
        "colab_type": "text"
      },
      "cell_type": "markdown",
      "source": [
        "The features element of the `Dataset` are now arrays with shape (`batch_size, num_features`). Let's look at the first few examples:\n",
        "\n"
      ]
    },
    {
      "metadata": {
        "id": "5qVoWjb1YWiE",
        "colab_type": "code",
        "colab": {
          "base_uri": "https://localhost:8080/",
          "height": 118
        },
        "outputId": "88e394f2-8335-4b35-c6f1-3fd4eb00776e"
      },
      "cell_type": "code",
      "source": [
        "features, labels = next(iter(train_dataset))\n",
        "\n",
        "print(features[:5])"
      ],
      "execution_count": 11,
      "outputs": [
        {
          "output_type": "stream",
          "text": [
            "tf.Tensor(\n",
            "[[5.7 3.  4.2 1.2]\n",
            " [4.4 2.9 1.4 0.2]\n",
            " [4.7 3.2 1.3 0.2]\n",
            " [6.7 3.1 5.6 2.4]\n",
            " [6.8 3.2 5.9 2.3]], shape=(5, 4), dtype=float32)\n"
          ],
          "name": "stdout"
        }
      ]
    },
    {
      "metadata": {
        "id": "6o_IzAJ8YsMY",
        "colab_type": "text"
      },
      "cell_type": "markdown",
      "source": [
        "# Select the type of model\n",
        "**Why model?**\n",
        "\n",
        "A [model](https://developers.google.com/machine-learning/crash-course/glossary#model) is a relationship between features and the label. For the Iris classification problem, the model defines the relationship between the sepal and petal measurements and the predicted Iris species. Some simple models can be described with a few lines of algebra, but complex machine learning models have a large number of parameters that are difficult to summarize.\n",
        "\n",
        "Could you determine the relationship between the four features and the Iris species without using machine learning? That is, could you use traditional programming techniques (for example, a lot of conditional statements) to create a model? Perhaps—if you analyzed the dataset long enough to determine the relationships between petal and sepal measurements to a particular species. And this becomes difficult—maybe impossible—on more complicated datasets. A good machine learning approach determines the model for you. If you feed enough representative examples into the right machine learning model type, the program will figure out the relationships for you.\n",
        "\n",
        "Select the model\n",
        "We need to select the kind of model to train. There are many types of models and picking a good one takes experience. This tutorial uses a neural network to solve the Iris classification problem. [Neural networks](https://developers.google.com/machine-learning/glossary/#neural_network) can find complex relationships between features and the label. It is a highly-structured graph, organized into one or more [hidden layers](https://developers.google.com/machine-learning/glossary/#hidden_layer). Each hidden layer consists of one or more [neurons](https://developers.google.com/machine-learning/glossary/#neuron). There are several categories of neural networks and this program uses a dense, or [fully-connected neural network](https://developers.google.com/machine-learning/glossary/#fully_connected_layer![alt text](https://)): the neurons in one layer receive input connections from every neuron in the previous layer. For example, Figure 2 illustrates a dense neural network consisting of an input layer, two hidden layers, and an output layer:![Figure 2. A neural network with features, hidden layers, and predictions.](https://www.tensorflow.org/images/custom_estimators/full_network.png)\n",
        "\n",
        "When the model from Figure 2 is trained and fed an unlabeled example, it yields three predictions: the likelihood that this flower is the given Iris species. This prediction is called [inference](https://developers.google.com/machine-learning/crash-course/glossary#inference). For this example, the sum of the output predictions is 1.0. In Figure 2, this prediction breaks down as: `0.02` for Iris setosa, `0.95` for Iris versicolor, and `0.03` for Iris virginica. This means that the model predicts—with 95% probability—that an unlabeled example flower is an Iris versicolor.\n",
        "\n",
        "**Create a model using Keras**\n",
        "\n",
        "The TensorFlow [tf.keras](https://www.tensorflow.org/api_docs/python/tf/keras) API is the preferred way to create models and layers. This makes it easy to build models and experiment while Keras handles the complexity of connecting everything together.\n",
        "\n",
        "The [tf.keras.Sequential](https://www.tensorflow.org/api_docs/python/tf/keras/Sequential) model is a linear stack of layers. Its constructor takes a list of layer instances, in this case, two [Dense](https://www.tensorflow.org/api_docs/python/tf/keras/layers/Dense) layers with 10 nodes each, and an output layer with 3 nodes representing our label predictions. The first layer's `input_shape` parameter corresponds to the number of features from the dataset, and is required.\n",
        "\n"
      ]
    },
    {
      "metadata": {
        "id": "rrDklfvkYjGK",
        "colab_type": "code",
        "colab": {}
      },
      "cell_type": "code",
      "source": [
        "model = tf.keras.Sequential([\n",
        "  tf.keras.layers.Dense(10, activation=tf.nn.relu, input_shape=(4,)),  # input shape required\n",
        "  tf.keras.layers.Dense(10, activation=tf.nn.relu),\n",
        "  tf.keras.layers.Dense(3)\n",
        "])"
      ],
      "execution_count": 0,
      "outputs": []
    },
    {
      "metadata": {
        "id": "hevLWfHmb5f7",
        "colab_type": "text"
      },
      "cell_type": "markdown",
      "source": [
        "The [activation function](https://developers.google.com/machine-learning/crash-course/glossary#activation_function) determines the output shape of each node in the layer. These non-linearities are important—without them the model would be equivalent to a single layer. There are many [available activations](https://www.tensorflow.org/api_docs/python/tf/keras/activations), but [ReLU](https://developers.google.com/machine-learning/crash-course/glossary#ReLU) is common for hidden layers.\n",
        "\n",
        "The ideal number of hidden layers and neurons depends on the problem and the dataset. Like many aspects of machine learning, picking the best shape of the neural network requires a mixture of knowledge and experimentation. As a rule of thumb, increasing the number of hidden layers and neurons typically creates a more powerful model, which requires more data to train effectively.\n",
        "\n",
        "**Using the model**\n",
        "\n",
        "Let's have a quick look at what this model does to a batch of features:\n",
        "\n"
      ]
    },
    {
      "metadata": {
        "id": "ppejJ6LGb1nw",
        "colab_type": "code",
        "colab": {
          "base_uri": "https://localhost:8080/",
          "height": 118
        },
        "outputId": "b69fef6e-a6f6-4ada-fb8e-8e70fe24b0a3"
      },
      "cell_type": "code",
      "source": [
        "predictions = model(features)\n",
        "predictions[:5]"
      ],
      "execution_count": 13,
      "outputs": [
        {
          "output_type": "execute_result",
          "data": {
            "text/plain": [
              "<tf.Tensor: id=207, shape=(5, 3), dtype=float32, numpy=\n",
              "array([[ 0.4624722 ,  2.2643294 , -1.7858667 ],\n",
              "       [ 0.59685594,  1.5742035 , -1.6104637 ],\n",
              "       [ 0.66648585,  1.6571496 , -1.7433362 ],\n",
              "       [ 0.43857044,  2.7337272 , -1.9307781 ],\n",
              "       [ 0.42655835,  2.743171  , -1.9373853 ]], dtype=float32)>"
            ]
          },
          "metadata": {
            "tags": []
          },
          "execution_count": 13
        }
      ]
    },
    {
      "metadata": {
        "id": "sQewmqPhc1qk",
        "colab_type": "text"
      },
      "cell_type": "markdown",
      "source": [
        "Here, each example returns a [logit](https://developers.google.com/machine-learning/crash-course/glossary#logit) for each class.\n",
        "\n",
        "To convert these logits to a probability for each class, use the [softmax](https://developers.google.com/machine-learning/crash-course/glossary#softmax) function:"
      ]
    },
    {
      "metadata": {
        "id": "CDc7UUd_cw6O",
        "colab_type": "code",
        "colab": {
          "base_uri": "https://localhost:8080/",
          "height": 118
        },
        "outputId": "c901fecc-1ccb-4363-d696-eecaecac6b38"
      },
      "cell_type": "code",
      "source": [
        "tf.nn.softmax(predictions[:5])"
      ],
      "execution_count": 14,
      "outputs": [
        {
          "output_type": "execute_result",
          "data": {
            "text/plain": [
              "<tf.Tensor: id=213, shape=(5, 3), dtype=float32, numpy=\n",
              "array([[0.13953874, 0.8457295 , 0.01473172],\n",
              "       [0.26543552, 0.70536786, 0.0291966 ],\n",
              "       [0.26435077, 0.71190226, 0.02374697],\n",
              "       [0.09074795, 0.90076345, 0.00848871],\n",
              "       [0.08900508, 0.9026241 , 0.0083708 ]], dtype=float32)>"
            ]
          },
          "metadata": {
            "tags": []
          },
          "execution_count": 14
        }
      ]
    },
    {
      "metadata": {
        "id": "N3_NWBlydIiY",
        "colab_type": "text"
      },
      "cell_type": "markdown",
      "source": [
        "Taking the [tf.argmax](https://www.tensorflow.org/api_docs/python/tf/argmax) across classes gives us the predicted class index. But, the model hasn't been trained yet, so these aren't good predictions."
      ]
    },
    {
      "metadata": {
        "id": "0z1M0kCddCDG",
        "colab_type": "code",
        "colab": {
          "base_uri": "https://localhost:8080/",
          "height": 50
        },
        "outputId": "49bf6f2c-a89f-4190-a214-3c99517f092e"
      },
      "cell_type": "code",
      "source": [
        "print(\"Prediction: {}\".format(tf.argmax(predictions, axis=1)))\n",
        "print(\"    Labels: {}\".format(labels))"
      ],
      "execution_count": 15,
      "outputs": [
        {
          "output_type": "stream",
          "text": [
            "Prediction: [1 1 1 1 1 1 1 1 1 1 1 1 1 1 1 1 1 1 1 1 1 1 1 1 1 1 1 1 1 1 1 1]\n",
            "    Labels: [1 0 0 2 2 2 2 0 2 0 0 0 1 2 1 1 2 0 1 2 0 0 2 1 0 2 2 0 1 1 1 2]\n"
          ],
          "name": "stdout"
        }
      ]
    },
    {
      "metadata": {
        "id": "7V3KM3gmddqr",
        "colab_type": "text"
      },
      "cell_type": "markdown",
      "source": [
        "# Train the model\n",
        "[Training](https://developers.google.com/machine-learning/crash-course/glossary#training) is the stage of machine learning when the model is gradually optimized, or the model learns the dataset. The goal is to learn enough about the structure of the training dataset to make predictions about unseen data. If you learn too much about the training dataset, then the predictions only work for the data it has seen and will not be generalizable. This problem is called [overfitting](https://developers.google.com/machine-learning/crash-course/glossary#overfitting)—it's like memorizing the answers instead of understanding how to solve a problem.\n",
        "\n",
        "The Iris classification problem is an example of [supervised machine learning](https://developers.google.com/machine-learning/glossary/#supervised_machine_learning): the model is trained from examples that contain labels. In [unsupervised machine learning](https://developers.google.com/machine-learning/glossary/#unsupervised_machine_learning), the examples don't contain labels. Instead, the model typically finds patterns among the features.\n",
        "\n",
        "**Define the loss and gradient function**\n",
        "\n",
        "Both training and evaluation stages need to calculate the model's [loss](https://developers.google.com/machine-learning/crash-course/glossary#loss). This measures how off a model's predictions are from the desired label, in other words, how bad the model is performing. We want to minimize, or optimize, this value.\n",
        "\n",
        "Our model will calculate its loss using the [tf.keras.losses.categorical_crossentropy](https://www.tensorflow.org/api_docs/python/tf/losses/sparse_softmax_cross_entropy) function which takes the model's class probability predictions and the desired label, and returns the average loss across the examples.\n",
        "\n"
      ]
    },
    {
      "metadata": {
        "id": "JRmSZ445dR7c",
        "colab_type": "code",
        "colab": {
          "base_uri": "https://localhost:8080/",
          "height": 34
        },
        "outputId": "8d03408a-7c17-4343-a87e-f79929000232"
      },
      "cell_type": "code",
      "source": [
        "def loss(model, x, y):\n",
        "  y_ = model(x)\n",
        "  return tf.losses.sparse_softmax_cross_entropy(labels=y, logits=y_)\n",
        "\n",
        "\n",
        "l = loss(model, features, labels)\n",
        "print(\"Loss test: {}\".format(l))"
      ],
      "execution_count": 16,
      "outputs": [
        {
          "output_type": "stream",
          "text": [
            "Loss test: 2.2784762382507324\n"
          ],
          "name": "stdout"
        }
      ]
    },
    {
      "metadata": {
        "id": "t9vItA4jevoU",
        "colab_type": "text"
      },
      "cell_type": "markdown",
      "source": [
        "Use the [tf.GradientTape](https://www.tensorflow.org/api_docs/python/tf/GradientTape) context to calculate the [gradients](https://developers.google.com/machine-learning/crash-course/glossary#gradient) used to optimize our model. For more examples of this, see the [eager execution guide](https://www.tensorflow.org/guide/eager)."
      ]
    },
    {
      "metadata": {
        "id": "I3N1Kx0be3DH",
        "colab_type": "code",
        "colab": {}
      },
      "cell_type": "code",
      "source": [
        "def grad(model, inputs, targets):\n",
        "  with tf.GradientTape() as tape:\n",
        "    loss_value = loss(model, inputs, targets)\n",
        "  return loss_value, tape.gradient(loss_value, model.trainable_variables)"
      ],
      "execution_count": 0,
      "outputs": []
    },
    {
      "metadata": {
        "id": "YV8U_KebfOUw",
        "colab_type": "text"
      },
      "cell_type": "markdown",
      "source": [
        "**Create an optimizer**\n",
        "\n",
        "An [optimizer](https://developers.google.com/machine-learning/crash-course/glossary#optimizer) applies the computed gradients to the model's variables to minimize the `loss` function. You can think of the loss function as a curved surface (see Figure 3) and we want to find its lowest point by walking around. The gradients point in the direction of steepest ascent—so we'll travel the opposite way and move down the hill. By iteratively calculating the loss and gradient for each batch, we'll adjust the model during training. Gradually, the model will find the best combination of weights and bias to minimize loss. And the lower the loss, the better the model's predictions.![alt text](https://cs231n.github.io/assets/nn3/opt1.gif)\n",
        "\n",
        "TensorFlow has many [optimization algorithms](https://www.tensorflow.org/api_guides/python/train) available for training. This model uses the [tf.train.GradientDescentOptimizer](https://www.tensorflow.org/api_docs/python/tf/train/GradientDescentOptimizer) that implements the [stochastic gradient descent](https://developers.google.com/machine-learning/crash-course/glossary#gradient_descent) (SGD) algorithm. The `learning_rate` sets the step size to take for each iteration down the hill. This is a hyperparameter that you'll commonly adjust to achieve better results.\n",
        "\n",
        "Let's setup the optimizer and the `global_step` counter:"
      ]
    },
    {
      "metadata": {
        "id": "idsmRSVXeqr0",
        "colab_type": "code",
        "colab": {}
      },
      "cell_type": "code",
      "source": [
        "optimizer = tf.train.GradientDescentOptimizer(learning_rate=0.01)\n",
        "\n",
        "global_step = tf.train.get_or_create_global_step()"
      ],
      "execution_count": 0,
      "outputs": []
    },
    {
      "metadata": {
        "id": "msneX_eZgumI",
        "colab_type": "text"
      },
      "cell_type": "markdown",
      "source": [
        "We'll use this to calculate a single optimization step:\n"
      ]
    },
    {
      "metadata": {
        "id": "n7tIq8maguGM",
        "colab_type": "code",
        "colab": {
          "base_uri": "https://localhost:8080/",
          "height": 50
        },
        "outputId": "1b73d4e7-cd8f-4ac0-dbe1-fdf804af0aca"
      },
      "cell_type": "code",
      "source": [
        "loss_value, grads = grad(model, features, labels)\n",
        "\n",
        "print(\"Step: {}, Initial Loss: {}\".format(global_step.numpy(),\n",
        "                                          loss_value.numpy()))\n",
        "\n",
        "optimizer.apply_gradients(zip(grads, model.variables), global_step)\n",
        "\n",
        "print(\"Step: {},         Loss: {}\".format(global_step.numpy(),\n",
        "                                          loss(model, features, labels).numpy()))"
      ],
      "execution_count": 19,
      "outputs": [
        {
          "output_type": "stream",
          "text": [
            "Step: 0, Initial Loss: 2.2784762382507324\n",
            "Step: 1,         Loss: 1.8337934017181396\n"
          ],
          "name": "stdout"
        }
      ]
    },
    {
      "metadata": {
        "id": "wd9ymPK6hI82",
        "colab_type": "text"
      },
      "cell_type": "markdown",
      "source": [
        "# Training loop\n",
        "With all the pieces in place, the model is ready for training! A training loop feeds the dataset examples into the model to help it make better predictions. The following code block sets up these training steps:\n",
        "\n",
        "1. Iterate each epoch. An epoch is one pass through the dataset.\n",
        "2. Within an epoch, iterate over each example in the training `Dataset` grabbing its features (`x`) and label (`y`).\n",
        "3. Using the example's features, make a prediction and compare it with the label. Measure the inaccuracy of the prediction and use that to calculate the model's loss and gradients.\n",
        "4. Use an `optimizer` to update the model's variables.\n",
        "5. Keep track of some stats for visualization.\n",
        "6. Repeat for each epoch.\n",
        "\n",
        "The `num_epochs` variable is the number of times to loop over the dataset collection. Counter-intuitively, training a model longer does not guarantee a better model. `num_epochs` is a [hyperparameter](https://developers.google.com/machine-learning/glossary/#hyperparameter) that you can tune. Choosing the right number usually requires both experience and experimentation.\n",
        "\n"
      ]
    },
    {
      "metadata": {
        "id": "QmD4s1MthAyZ",
        "colab_type": "code",
        "colab": {
          "base_uri": "https://localhost:8080/",
          "height": 101
        },
        "outputId": "8d90fcc3-48c5-413c-db58-5f02afb4cb74"
      },
      "cell_type": "code",
      "source": [
        "## Note: Rerunning this cell uses the same model variables\n",
        "\n",
        "# keep results for plotting\n",
        "train_loss_results = []\n",
        "train_accuracy_results = []\n",
        "\n",
        "num_epochs = 201\n",
        "\n",
        "for epoch in range(num_epochs):\n",
        "  epoch_loss_avg = tfe.metrics.Mean()\n",
        "  epoch_accuracy = tfe.metrics.Accuracy()\n",
        "\n",
        "  # Training loop - using batches of 32\n",
        "  for x, y in train_dataset:\n",
        "    # Optimize the model\n",
        "    loss_value, grads = grad(model, x, y)\n",
        "    optimizer.apply_gradients(zip(grads, model.variables),\n",
        "                              global_step)\n",
        "\n",
        "    # Track progress\n",
        "    epoch_loss_avg(loss_value)  # add current batch loss\n",
        "    # compare predicted label to actual label\n",
        "    epoch_accuracy(tf.argmax(model(x), axis=1, output_type=tf.int32), y)\n",
        "\n",
        "  # end epoch\n",
        "  train_loss_results.append(epoch_loss_avg.result())\n",
        "  train_accuracy_results.append(epoch_accuracy.result())\n",
        "  \n",
        "  if epoch % 50 == 0:\n",
        "    print(\"Epoch {:03d}: Loss: {:.3f}, Accuracy: {:.3%}\".format(epoch,\n",
        "                                                                epoch_loss_avg.result(),\n",
        "                                                                epoch_accuracy.result()))"
      ],
      "execution_count": 20,
      "outputs": [
        {
          "output_type": "stream",
          "text": [
            "Epoch 000: Loss: 1.430, Accuracy: 54.167%\n",
            "Epoch 050: Loss: 0.310, Accuracy: 95.000%\n",
            "Epoch 100: Loss: 0.213, Accuracy: 98.333%\n",
            "Epoch 150: Loss: 0.146, Accuracy: 97.500%\n",
            "Epoch 200: Loss: 0.123, Accuracy: 98.333%\n"
          ],
          "name": "stdout"
        }
      ]
    },
    {
      "metadata": {
        "id": "r0ZNGXQdwSu9",
        "colab_type": "text"
      },
      "cell_type": "markdown",
      "source": [
        "**Visualize the loss function over time**\n",
        "\n",
        "While it's helpful to print out the model's training progress, it's often more helpful to see this progress. [TensorBoard](https://www.tensorflow.org/guide/summaries_and_tensorboard) is a nice visualization tool that is packaged with TensorFlow, but we can create basic charts using the `matplotlib` module.\n",
        "\n",
        "Interpreting these charts takes some experience, but you really want to see the loss go down and the accuracy go up."
      ]
    },
    {
      "metadata": {
        "id": "GohLEryxv4tO",
        "colab_type": "code",
        "colab": {
          "base_uri": "https://localhost:8080/",
          "height": 578
        },
        "outputId": "535afe2d-842f-4abe-ca13-f392ebe36460"
      },
      "cell_type": "code",
      "source": [
        "fig, axes = plt.subplots(2, sharex=True, figsize=(12, 8))\n",
        "fig.suptitle('Training Metrics')\n",
        "\n",
        "axes[0].set_ylabel(\"Loss\", fontsize=14)\n",
        "axes[0].plot(train_loss_results)\n",
        "\n",
        "axes[1].set_ylabel(\"Accuracy\", fontsize=14)\n",
        "axes[1].set_xlabel(\"Epoch\", fontsize=14)\n",
        "axes[1].plot(train_accuracy_results);"
      ],
      "execution_count": 21,
      "outputs": [
        {
          "output_type": "display_data",
          "data": {
            "image/png": "[encoded data removed]",
            "text/plain": [
              "<matplotlib.figure.Figure at 0x7fc190920438>"
            ]
          },
          "metadata": {
            "tags": []
          }
        }
      ]
    },
    {
      "metadata": {
        "id": "9XKyQSEWw4h7",
        "colab_type": "text"
      },
      "cell_type": "markdown",
      "source": [
        "# Evaluate the model's effectiveness\n",
        "Now that the model is trained, we can get some statistics on its performance.\n",
        "\n",
        "Evaluating means determining how effectively the model makes predictions. To determine the model's effectiveness at Iris classification, pass some sepal and petal measurements to the model and ask the model to predict what Iris species they represent. Then compare the model's prediction against the actual label. For example, a model that picked the correct species on half the input examples has an [accuracy](https://developers.google.com/machine-learning/glossary/#accuracy) of `0.5`. Figure 4 shows a slightly more effective model, getting 4 out of 5 predictions correct at 80% accuracy:"
      ]
    },
    {
      "metadata": {
        "id": "WZlV6iQyxeo_",
        "colab_type": "text"
      },
      "cell_type": "markdown",
      "source": [
        "**Setup the test dataset**\n",
        "\n",
        "Evaluating the model is similar to training the model. The biggest difference is the examples come from a separate [test set](https://developers.google.com/machine-learning/crash-course/glossary#test_set) rather than the training set. To fairly assess a model's effectiveness, the examples used to evaluate a model must be different from the examples used to train the model.\n",
        "\n",
        "The setup for the test `Dataset` is similar to the setup for training `Dataset`. Download the CSV text file and parse that values, then give it a little shuffle:"
      ]
    },
    {
      "metadata": {
        "id": "F3Oh9nM0wzd3",
        "colab_type": "code",
        "colab": {}
      },
      "cell_type": "code",
      "source": [
        "test_url = \"http://download.tensorflow.org/data/iris_test.csv\"\n",
        "\n",
        "test_fp = tf.keras.utils.get_file(fname=os.path.basename(test_url),\n",
        "                                  origin=test_url)"
      ],
      "execution_count": 0,
      "outputs": []
    },
    {
      "metadata": {
        "id": "JSvDsKNYxx3n",
        "colab_type": "code",
        "colab": {}
      },
      "cell_type": "code",
      "source": [
        "test_dataset = tf.contrib.data.make_csv_dataset(\n",
        "    test_fp,\n",
        "    batch_size, \n",
        "    column_names=column_names,\n",
        "    label_name='species',\n",
        "    num_epochs=1,\n",
        "    shuffle=False)\n",
        "\n",
        "test_dataset = test_dataset.map(pack_features_vector)"
      ],
      "execution_count": 0,
      "outputs": []
    },
    {
      "metadata": {
        "id": "uVd_2ST6x3_X",
        "colab_type": "text"
      },
      "cell_type": "markdown",
      "source": [
        "**Evaluate the model on the test dataset**\n",
        "\n",
        "Unlike the training stage, the model only evaluates a single [epoch](https://developers.google.com/machine-learning/glossary/#epoch) of the test data. In the following code cell, we iterate over each example in the test set and compare the model's prediction against the actual label. This is used to measure the model's accuracy across the entire test set.\n",
        "\n"
      ]
    },
    {
      "metadata": {
        "id": "M-9ZrGZnxzct",
        "colab_type": "code",
        "colab": {
          "base_uri": "https://localhost:8080/",
          "height": 34
        },
        "outputId": "4b3b032e-9988-4f99-d84a-478b8aac9cb7"
      },
      "cell_type": "code",
      "source": [
        "test_accuracy = tfe.metrics.Accuracy()\n",
        "\n",
        "for (x, y) in test_dataset:\n",
        "  logits = model(x)\n",
        "  prediction = tf.argmax(logits, axis=1, output_type=tf.int32)\n",
        "  test_accuracy(prediction, y)\n",
        "\n",
        "print(\"Test set accuracy: {:.3%}\".format(test_accuracy.result()))"
      ],
      "execution_count": 24,
      "outputs": [
        {
          "output_type": "stream",
          "text": [
            "Test set accuracy: 96.667%\n"
          ],
          "name": "stdout"
        }
      ]
    },
    {
      "metadata": {
        "id": "XYEQJmnlyRXl",
        "colab_type": "text"
      },
      "cell_type": "markdown",
      "source": [
        "We can see on the last batch, for example, the model is usually correct:\n",
        "\n"
      ]
    },
    {
      "metadata": {
        "id": "ohM2t-J_yPfj",
        "colab_type": "code",
        "colab": {
          "base_uri": "https://localhost:8080/",
          "height": 538
        },
        "outputId": "1307d79c-36d1-47c1-8e94-4d5ad4b2a5a9"
      },
      "cell_type": "code",
      "source": [
        "tf.stack([y,prediction],axis=1)"
      ],
      "execution_count": 25,
      "outputs": [
        {
          "output_type": "execute_result",
          "data": {
            "text/plain": [
              "<tf.Tensor: id=115963, shape=(30, 2), dtype=int32, numpy=\n",
              "array([[1, 1],\n",
              "       [2, 2],\n",
              "       [0, 0],\n",
              "       [1, 1],\n",
              "       [1, 1],\n",
              "       [1, 1],\n",
              "       [0, 0],\n",
              "       [2, 2],\n",
              "       [1, 1],\n",
              "       [2, 2],\n",
              "       [2, 2],\n",
              "       [0, 0],\n",
              "       [2, 2],\n",
              "       [1, 1],\n",
              "       [1, 1],\n",
              "       [0, 0],\n",
              "       [1, 1],\n",
              "       [0, 0],\n",
              "       [0, 0],\n",
              "       [2, 2],\n",
              "       [0, 0],\n",
              "       [1, 1],\n",
              "       [2, 2],\n",
              "       [1, 2],\n",
              "       [1, 1],\n",
              "       [1, 1],\n",
              "       [0, 0],\n",
              "       [1, 1],\n",
              "       [2, 2],\n",
              "       [1, 1]], dtype=int32)>"
            ]
          },
          "metadata": {
            "tags": []
          },
          "execution_count": 25
        }
      ]
    },
    {
      "metadata": {
        "id": "R5r2oN-TyccZ",
        "colab_type": "text"
      },
      "cell_type": "markdown",
      "source": [
        "# Use the trained model to make predictions\n",
        "We've trained a model and \"proven\" that it's good—but not perfect—at classifying Iris species. Now let's use the trained model to make some predictions on [unlabeled examples](https://developers.google.com/machine-learning/glossary/#unlabeled_example); that is, on examples that contain features but not a label.\n",
        "\n",
        "In real-life, the unlabeled examples could come from lots of different sources including apps, CSV files, and data feeds. For now, we're going to manually provide three unlabeled examples to predict their labels. Recall, the label numbers are mapped to a named representation as:\n",
        "\n",
        "* `0`: Iris setosa\n",
        "* `1`: Iris versicolor\n",
        "* `2`: Iris virginica\n"
      ]
    },
    {
      "metadata": {
        "id": "W4nZZ7WOyXA3",
        "colab_type": "code",
        "colab": {
          "base_uri": "https://localhost:8080/",
          "height": 67
        },
        "outputId": "17de52d4-5c01-4d9b-c3c6-3e00a2635015"
      },
      "cell_type": "code",
      "source": [
        "predict_dataset = tf.convert_to_tensor([\n",
        "    [5.1, 3.3, 1.7, 0.5,],\n",
        "    [5.9, 3.0, 4.2, 1.5,],\n",
        "    [6.9, 3.1, 5.4, 2.1]\n",
        "])\n",
        "\n",
        "predictions = model(predict_dataset)\n",
        "\n",
        "for i, logits in enumerate(predictions):\n",
        "  class_idx = tf.argmax(logits).numpy()\n",
        "  p = tf.nn.softmax(logits)[class_idx]\n",
        "  name = class_names[class_idx]\n",
        "  print(\"Example {} prediction: {} ({:4.1f}%)\".format(i, name, 100*p))"
      ],
      "execution_count": 27,
      "outputs": [
        {
          "output_type": "stream",
          "text": [
            "Example 0 prediction: Iris setosa (98.4%)\n",
            "Example 1 prediction: Iris versicolor (93.2%)\n",
            "Example 2 prediction: Iris virginica (75.0%)\n"
          ],
          "name": "stdout"
        }
      ]
    },
    {
      "metadata": {
        "id": "6Je6760fzxXi",
        "colab_type": "code",
        "colab": {}
      },
      "cell_type": "code",
      "source": [
        ""
      ],
      "execution_count": 0,
      "outputs": []
    }
  ]
}