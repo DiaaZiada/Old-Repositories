{
  "nbformat": 4,
  "nbformat_minor": 0,
  "metadata": {
    "colab": {
      "name": "Custom_training_basics.ipynb",
      "version": "0.3.2",
      "provenance": [],
      "collapsed_sections": []
    },
    "kernelspec": {
      "name": "python3",
      "display_name": "Python 3"
    }
  },
  "cells": [
    {
      "metadata": {
        "id": "kHnmWS12MoXr",
        "colab_type": "text"
      },
      "cell_type": "markdown",
      "source": [
        "# Custom training: basics\n",
        "\n",
        "In the previous tutorial we covered the TensorFlow APIs for automatic differentiation, a basic building block for machine learning. In this tutorial we will use the TensorFlow primitives introduced in the prior tutorials to do some simple machine learning.\n",
        "\n",
        "TensorFlow also includes a higher-level neural networks API ([tf.keras](https://www.tensorflow.org/api_docs/python/tf/keras)) which provides useful abstractions to reduce boilerplate. We strongly recommend those higher level APIs for people working with neural networks. However, in this short tutorial we cover neural network training from first principles to establish a strong foundation."
      ]
    },
    {
      "metadata": {
        "id": "6BFLqoDmOgHf",
        "colab_type": "text"
      },
      "cell_type": "markdown",
      "source": [
        "# Setup"
      ]
    },
    {
      "metadata": {
        "id": "7D30AEAAMhv4",
        "colab_type": "code",
        "colab": {}
      },
      "cell_type": "code",
      "source": [
        "import tensorflow as tf\n",
        "\n",
        "tfe = tf.contrib.eager\n",
        "\n",
        "tf.enable_eager_execution()"
      ],
      "execution_count": 0,
      "outputs": []
    },
    {
      "metadata": {
        "id": "mLelOpYiOklZ",
        "colab_type": "text"
      },
      "cell_type": "markdown",
      "source": [
        "# Variables\n",
        "Tensors in TensorFlow are immutable stateless objects. Machine learning models, however, need to have changing state: as your model trains, the same code to compute predictions should behave differently over time (hopefully with a lower loss!). To represent this state which needs to change over the course of your computation, you can choose to rely on the fact that Python is a stateful programming language:"
      ]
    },
    {
      "metadata": {
        "id": "7c0ZIcfzOh0s",
        "colab_type": "code",
        "colab": {
          "base_uri": "https://localhost:8080/",
          "height": 202
        },
        "outputId": "233bbbcb-24ed-40c0-deb0-2d7c4ab6fdbe"
      },
      "cell_type": "code",
      "source": [
        "# Using python state\n",
        "x = tf.zeros([10, 10])\n",
        "x += 2  # This is equivalent to x = x + 2, which does not mutate the original\n",
        "        # value of x\n",
        "print(x)"
      ],
      "execution_count": 2,
      "outputs": [
        {
          "output_type": "stream",
          "text": [
            "tf.Tensor(\n",
            "[[2. 2. 2. 2. 2. 2. 2. 2. 2. 2.]\n",
            " [2. 2. 2. 2. 2. 2. 2. 2. 2. 2.]\n",
            " [2. 2. 2. 2. 2. 2. 2. 2. 2. 2.]\n",
            " [2. 2. 2. 2. 2. 2. 2. 2. 2. 2.]\n",
            " [2. 2. 2. 2. 2. 2. 2. 2. 2. 2.]\n",
            " [2. 2. 2. 2. 2. 2. 2. 2. 2. 2.]\n",
            " [2. 2. 2. 2. 2. 2. 2. 2. 2. 2.]\n",
            " [2. 2. 2. 2. 2. 2. 2. 2. 2. 2.]\n",
            " [2. 2. 2. 2. 2. 2. 2. 2. 2. 2.]\n",
            " [2. 2. 2. 2. 2. 2. 2. 2. 2. 2.]], shape=(10, 10), dtype=float32)\n"
          ],
          "name": "stdout"
        }
      ]
    },
    {
      "metadata": {
        "id": "LjiOHM8xmRy8",
        "colab_type": "text"
      },
      "cell_type": "markdown",
      "source": [
        "TensorFlow, however, has stateful operations built in, and these are often more pleasant to use than low-level Python representations of your state. To represent weights in a model, for example, it's often convenient and efficient to use TensorFlow variables.\n",
        "\n",
        "A Variable is an object which stores a value and, when used in a TensorFlow computation, will implicitly read from this stored value. There are operations ([tf.assign_sub ](https://www.tensorflow.org/api_docs/python/tf/assign_sub), [tf.scatter_update](https://www.tensorflow.org/api_docs/python/tf/scatter_update), etc) which manipulate the value stored in a TensorFlow variable.\n",
        "\n"
      ]
    },
    {
      "metadata": {
        "id": "SCil6a9pmO1Z",
        "colab_type": "code",
        "colab": {}
      },
      "cell_type": "code",
      "source": [
        "v = tfe.Variable(1.0)\n",
        "assert v.numpy() == 1.0\n",
        "\n",
        "# Re-assign the value\n",
        "v.assign(3.0)\n",
        "assert v.numpy() == 3.0\n",
        "\n",
        "# Use `v` in a TensorFlow operation like tf.square() and reassign\n",
        "v.assign(tf.square(v))\n",
        "assert v.numpy() == 9.0"
      ],
      "execution_count": 0,
      "outputs": []
    },
    {
      "metadata": {
        "id": "Du6iy9v2nSWO",
        "colab_type": "text"
      },
      "cell_type": "markdown",
      "source": [
        "Computations using Variables are automatically traced when computing gradients. For Variables representing embeddings TensorFlow will do sparse updates by default, which are more computation and memory efficient.\n",
        "\n",
        "Using Variables is also a way to quickly let a reader of your code know that this piece of state is mutable."
      ]
    },
    {
      "metadata": {
        "id": "BbTJ6nPSngpo",
        "colab_type": "text"
      },
      "cell_type": "markdown",
      "source": [
        "# Example: Fitting a linear model\n",
        "Let's now put the few concepts we have so far ---`Tensor`, `GradientTape`, `Variable` --- to build and train a simple model. This typically involves a few steps:\n",
        "\n",
        "1. Define the model.\n",
        "2. Define a loss function.\n",
        "3. Obtain training data.\n",
        "4. Run through the training data and use an \"optimizer\" to adjust the variables to fit the data.\n",
        "\n",
        "In this tutorial, we'll walk through a trivial example of a simple linear model: `f(x) = x * W + b`, which has two variables `- W` and b. Furthermore, we'll synthesize data such that a well trained model would have `W = 3.0` and `b = 2.0`.\n",
        "\n",
        "**Define the model**\n",
        "\n",
        "Let's define a simple class to encapsulate the variables and the computation."
      ]
    },
    {
      "metadata": {
        "id": "H6h-Wf7VnQC5",
        "colab_type": "code",
        "colab": {}
      },
      "cell_type": "code",
      "source": [
        "class Model(object):\n",
        "  def __init__(self):\n",
        "    # Initialize variable to (5.0, 0.0)\n",
        "    # In practice, these should be initialized to random values.\n",
        "    self.W = tfe.Variable(5.0)\n",
        "    self.b = tfe.Variable(0.0)\n",
        "    \n",
        "  def __call__(self, x):\n",
        "    return self.W * x + self.b\n",
        "  \n",
        "model = Model()\n",
        "\n",
        "assert model(3.0).numpy() == 15.0"
      ],
      "execution_count": 0,
      "outputs": []
    },
    {
      "metadata": {
        "id": "fcxphVG_ogJv",
        "colab_type": "text"
      },
      "cell_type": "markdown",
      "source": [
        "# Define a loss function\n",
        "A loss function measures how well the output of a model for a given input matches the desired output. Let's use the standard L2 loss."
      ]
    },
    {
      "metadata": {
        "id": "I0wK9Xv7ocFO",
        "colab_type": "code",
        "colab": {}
      },
      "cell_type": "code",
      "source": [
        "def loss(predicted_y, desired_y):\n",
        "  return tf.reduce_mean(tf.square(predicted_y - desired_y))"
      ],
      "execution_count": 0,
      "outputs": []
    },
    {
      "metadata": {
        "id": "Q0PQ-PKOopEq",
        "colab_type": "text"
      },
      "cell_type": "markdown",
      "source": [
        "**Obtain training data**\n",
        "\n",
        "Let's synthesize the training data with some noise."
      ]
    },
    {
      "metadata": {
        "id": "Ji9-GU7-otLu",
        "colab_type": "code",
        "colab": {}
      },
      "cell_type": "code",
      "source": [
        "TRUE_W = 3.0\n",
        "TRUE_b = 2.0\n",
        "NUM_EXAMPLES = 1000\n",
        "\n",
        "inputs  = tf.random_normal(shape=[NUM_EXAMPLES])\n",
        "noise   = tf.random_normal(shape=[NUM_EXAMPLES])\n",
        "outputs = inputs * TRUE_W + TRUE_b + noise"
      ],
      "execution_count": 0,
      "outputs": []
    },
    {
      "metadata": {
        "id": "Vf8uM0mtpBW-",
        "colab_type": "text"
      },
      "cell_type": "markdown",
      "source": [
        "Before we train the model let's visualize where the model stands right now. We'll plot the model's predictions in red and the training data in blue.\n",
        "\n"
      ]
    },
    {
      "metadata": {
        "id": "YVDXbMWuoyDq",
        "colab_type": "code",
        "colab": {
          "base_uri": "https://localhost:8080/",
          "height": 381
        },
        "outputId": "9ead28c9-921d-4085-c4b7-350b3b070f97"
      },
      "cell_type": "code",
      "source": [
        "import matplotlib.pyplot as plt\n",
        "\n",
        "plt.scatter(inputs, outputs, c='b')\n",
        "plt.scatter(inputs, model(inputs), c='r')\n",
        "plt.show()\n",
        "\n",
        "print('Current loss: '),\n",
        "print(loss(model(inputs), outputs).numpy())"
      ],
      "execution_count": 7,
      "outputs": [
        {
          "output_type": "display_data",
          "data": {
            "image/png": "[encoded data removed]",
            "text/plain": [
              "<matplotlib.figure.Figure at 0x7f09388850b8>"
            ]
          },
          "metadata": {
            "tags": []
          }
        },
        {
          "output_type": "stream",
          "text": [
            "Current loss: \n",
            "8.468072\n"
          ],
          "name": "stdout"
        }
      ]
    },
    {
      "metadata": {
        "id": "PemZEu-Jpd7z",
        "colab_type": "text"
      },
      "cell_type": "markdown",
      "source": [
        "**Define a training loop**\n",
        "\n",
        "We now have our network and our training data. Let's train it, i.e., use the training data to update the model's variables (`W` and `b`) so that the loss goes down using [gradient descent](https://en.wikipedia.org/wiki/Gradient_descent). There are many variants of the gradient descent scheme that are captured in [tf.train.Optimizer](https://www.tensorflow.org/api_docs/python/tf/train/Optimizer) implementations. We'd highly recommend using those implementations, but in the spirit of building from first principles, in this particular example we will implement the basic math ourselves."
      ]
    },
    {
      "metadata": {
        "id": "Z3BFUDJ_pEHo",
        "colab_type": "code",
        "colab": {}
      },
      "cell_type": "code",
      "source": [
        "def train(model, inputs, outputs, learning_rate):\n",
        "  with tf.GradientTape() as t:\n",
        "    current_loss = loss(model(inputs), outputs)\n",
        "  dW, db = t.gradient(current_loss, [model.W, model.b])\n",
        "  model.W.assign_sub(learning_rate * dW)\n",
        "  model.b.assign_sub(learning_rate * db)"
      ],
      "execution_count": 0,
      "outputs": []
    },
    {
      "metadata": {
        "id": "pWLEl3GErdiO",
        "colab_type": "text"
      },
      "cell_type": "markdown",
      "source": [
        "Finally, let's repeatedly run through the training data and see how `W` and `b` evolve."
      ]
    },
    {
      "metadata": {
        "id": "B5cJwr67qhCn",
        "colab_type": "code",
        "colab": {
          "base_uri": "https://localhost:8080/",
          "height": 515
        },
        "outputId": "94037a2f-c891-4764-ba93-fe13d4b25417"
      },
      "cell_type": "code",
      "source": [
        "model = Model()\n",
        "\n",
        "# Collect the history of W-values and b-values to plot later\n",
        "Ws, bs = [], []\n",
        "epochs = range(10)\n",
        "for epoch in epochs:\n",
        "  Ws.append(model.W.numpy())\n",
        "  bs.append(model.b.numpy())\n",
        "  current_loss = loss(model(inputs), outputs)\n",
        "\n",
        "  train(model, inputs, outputs, learning_rate=0.1)\n",
        "  print('Epoch %2d: W=%1.2f b=%1.2f, loss=%2.5f' %\n",
        "        (epoch, Ws[-1], bs[-1], current_loss))\n",
        "\n",
        "# Let's plot it all\n",
        "plt.plot(epochs, Ws, 'r',\n",
        "         epochs, bs, 'b')\n",
        "plt.plot([TRUE_W] * len(epochs), 'r--',\n",
        "         [TRUE_b] * len(epochs), 'b--')\n",
        "plt.legend(['W', 'b', 'true W', 'true_b'])\n",
        "plt.show()\n",
        "  "
      ],
      "execution_count": 9,
      "outputs": [
        {
          "output_type": "stream",
          "text": [
            "Epoch  0: W=5.00 b=0.00, loss=8.46807\n",
            "Epoch  1: W=4.61 b=0.37, loss=5.86065\n",
            "Epoch  2: W=4.29 b=0.66, loss=4.16579\n",
            "Epoch  3: W=4.04 b=0.90, loss=3.06407\n",
            "Epoch  4: W=3.83 b=1.10, loss=2.34790\n",
            "Epoch  5: W=3.67 b=1.25, loss=1.88234\n",
            "Epoch  6: W=3.54 b=1.38, loss=1.57970\n",
            "Epoch  7: W=3.43 b=1.48, loss=1.38295\n",
            "Epoch  8: W=3.34 b=1.56, loss=1.25505\n",
            "Epoch  9: W=3.27 b=1.63, loss=1.17190\n"
          ],
          "name": "stdout"
        },
        {
          "output_type": "display_data",
          "data": {
            "image/png": "[encoded data removed]",
            "text/plain": [
              "<matplotlib.figure.Figure at 0x7f094ae2de10>"
            ]
          },
          "metadata": {
            "tags": []
          }
        }
      ]
    },
    {
      "metadata": {
        "id": "xgy0bD3ctYS3",
        "colab_type": "text"
      },
      "cell_type": "markdown",
      "source": [
        "# Next Steps\n",
        "In this tutorial we covered `Variables` and built and trained a simple linear model using the TensorFlow primitives discussed so far.\n",
        "\n",
        "In theory, this is pretty much all you need to use TensorFlow for your machine learning research. In practice, particularly for neural networks, the higher level APIs like [tf.keras](https://www.tensorflow.org/api_docs/python/tf/keras) will be much more convenient since it provides higher level building blocks (called \"layers\"), utilities to save and restore state, a suite of loss functions, a suite of optimization strategies etc."
      ]
    }
  ]
}